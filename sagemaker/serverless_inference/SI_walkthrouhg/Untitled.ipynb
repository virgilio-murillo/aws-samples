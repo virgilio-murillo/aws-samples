{
 "cells": [
  {
   "cell_type": "code",
   "execution_count": null,
   "id": "9aff52ef-5a48-4443-9446-dd2c35077831",
   "metadata": {},
   "outputs": [],
   "source": [
    "!aws s3 cp https://mainbucketrockhight5461.s3.us-east-1.amazonaws.com/sagemaker/serverless-inference/Serverless-Inference-Walkthrough.ipynb"
   ]
  }
 ],
 "metadata": {
  "kernelspec": {
   "display_name": "Python 3 (ipykernel)",
   "language": "python",
   "name": "python3"
  },
  "language_info": {
   "codemirror_mode": {
    "name": "ipython",
    "version": 3
   },
   "file_extension": ".py",
   "mimetype": "text/x-python",
   "name": "python",
   "nbconvert_exporter": "python",
   "pygments_lexer": "ipython3",
   "version": "3.13.1"
  }
 },
 "nbformat": 4,
 "nbformat_minor": 5
}
