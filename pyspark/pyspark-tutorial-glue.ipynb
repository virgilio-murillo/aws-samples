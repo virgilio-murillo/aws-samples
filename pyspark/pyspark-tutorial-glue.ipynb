{
	"metadata": {
		"kernelspec": {
			"name": "glue_pyspark",
			"display_name": "Glue PySpark",
			"language": "python"
		},
		"language_info": {
			"name": "Python_Glue_Session",
			"mimetype": "text/x-python",
			"codemirror_mode": {
				"name": "python",
				"version": 3
			},
			"pygments_lexer": "python3",
			"file_extension": ".py"
		}
	},
	"nbformat_minor": 4,
	"nbformat": 4,
	"cells": [
		{
			"cell_type": "markdown",
			"source": "# AWS Glue Studio Notebook\n##### You are now running a AWS Glue Studio notebook; To start using your notebook you need to start an AWS Glue Interactive Session.\n",
			"metadata": {
				"editable": true,
				"trusted": true
			}
		},
		{
			"cell_type": "markdown",
			"source": "#### Optional: Run this cell to see available notebook commands (\"magics\").\n",
			"metadata": {
				"editable": true,
				"trusted": true
			}
		},
		{
			"cell_type": "code",
			"source": "%help",
			"metadata": {
				"trusted": true,
				"editable": true
			},
			"execution_count": null,
			"outputs": []
		},
		{
			"cell_type": "markdown",
			"source": "####  Run this cell to set up and start your interactive session.\n",
			"metadata": {
				"editable": true,
				"trusted": true
			}
		},
		{
			"cell_type": "code",
			"source": "%idle_timeout 2880\n%glue_version 5.0\n%worker_type G.1X\n%number_of_workers 2\n\nimport sys\nfrom awsglue.transforms import *\nfrom awsglue.utils import getResolvedOptions\nfrom pyspark.context import SparkContext\nfrom awsglue.context import GlueContext\nfrom awsglue.job import Job\n  \nsc = SparkContext.getOrCreate()\nglueContext = GlueContext(sc)\nspark = glueContext.spark_session\njob = Job(glueContext)",
			"metadata": {
				"trusted": true,
				"editable": true
			},
			"execution_count": 1,
			"outputs": [
				{
					"name": "stdout",
					"text": "Welcome to the Glue Interactive Sessions Kernel\nFor more information on available magic commands, please type %help in any new cell.\n\nPlease view our Getting Started page to access the most up-to-date information on the Interactive Sessions kernel: https://docs.aws.amazon.com/glue/latest/dg/interactive-sessions.html\nInstalled kernel version: 1.0.8 \nCurrent idle_timeout is None minutes.\nidle_timeout has been set to 2880 minutes.\nSetting Glue version to: 5.0\nPrevious worker type: None\nSetting new worker type to: G.1X\nPrevious number of workers: None\nSetting new number of workers to: 2\nTrying to create a Glue session for the kernel.\nSession Type: glueetl\nWorker Type: G.1X\nNumber of Workers: 2\nIdle Timeout: 2880\nSession ID: 46a09194-5de6-4911-b44d-a6943faae05e\nApplying the following default arguments:\n--glue_kernel_version 1.0.8\n--enable-glue-datacatalog true\nWaiting for session 46a09194-5de6-4911-b44d-a6943faae05e to get into ready status...\nSession 46a09194-5de6-4911-b44d-a6943faae05e has been created.\n\n",
					"output_type": "stream"
				}
			]
		},
		{
			"cell_type": "code",
			"source": "# Read from the customers table in the glue data catalog using a dynamic frame\ndynamicFrameCustomers = glueContext.create_dynamic_frame.from_catalog(\ndatabase = \"pyspark_tutorial_db\", \ntable_name = \"customers\"\n)\n\n# Show the top 10 rows from the dynamic dataframe\ndynamicFrameCustomers.show(10)",
			"metadata": {
				"trusted": true,
				"tags": []
			},
			"execution_count": 2,
			"outputs": [
				{
					"name": "stdout",
					"text": "{\"customerid\": 293, \"firstname\": \"Catherine\", \"lastname\": \"Abel\", \"fullname\": \"Catherine Abel\"}\n{\"customerid\": 295, \"firstname\": \"Kim\", \"lastname\": \"Abercrombie\", \"fullname\": \"Kim Abercrombie\"}\n{\"customerid\": 297, \"firstname\": \"Humberto\", \"lastname\": \"Acevedo\", \"fullname\": \"Humberto Acevedo\"}\n{\"customerid\": 291, \"firstname\": \"Gustavo\", \"lastname\": \"Achong\", \"fullname\": \"Gustavo Achong\"}\n{\"customerid\": 299, \"firstname\": \"Pilar\", \"lastname\": \"Ackerman\", \"fullname\": \"Pilar Ackerman\"}\n{\"customerid\": 305, \"firstname\": \"Carla\", \"lastname\": \"Adams\", \"fullname\": \"Carla Adams\"}\n{\"customerid\": 301, \"firstname\": \"Frances\", \"lastname\": \"Adams\", \"fullname\": \"Frances Adams\"}\n{\"customerid\": 307, \"firstname\": \"Jay\", \"lastname\": \"Adams\", \"fullname\": \"Jay Adams\"}\n{\"customerid\": 309, \"firstname\": \"Ronald\", \"lastname\": \"Adina\", \"fullname\": \"Ronald Adina\"}\n{\"customerid\": 311, \"firstname\": \"Samuel\", \"lastname\": \"Agcaoili\", \"fullname\": \"Samuel Agcaoili\"}\n",
					"output_type": "stream"
				}
			]
		},
		{
			"cell_type": "code",
			"source": "dynamicFrameCustomers.printSchema()",
			"metadata": {
				"trusted": true,
				"tags": []
			},
			"execution_count": 4,
			"outputs": [
				{
					"name": "stdout",
					"text": "root\n|-- customerid: long\n|-- firstname: string\n|-- lastname: string\n|-- fullname: string\n",
					"output_type": "stream"
				}
			]
		},
		{
			"cell_type": "code",
			"source": "# count the dynamic frame\ndynamicFrameCustomers.count()",
			"metadata": {
				"trusted": true,
				"tags": []
			},
			"execution_count": 5,
			"outputs": [
				{
					"name": "stdout",
					"text": "635\n",
					"output_type": "stream"
				}
			]
		},
		{
			"cell_type": "code",
			"source": "dyfCustomerSelectFields = dynamicFrameCustomers.select_fields(['customerid','fullname']).show(10)",
			"metadata": {
				"trusted": true,
				"tags": []
			},
			"execution_count": 9,
			"outputs": [
				{
					"name": "stdout",
					"text": "{\"customerid\": 293, \"fullname\": \"Catherine Abel\"}\n{\"customerid\": 295, \"fullname\": \"Kim Abercrombie\"}\n{\"customerid\": 297, \"fullname\": \"Humberto Acevedo\"}\n{\"customerid\": 291, \"fullname\": \"Gustavo Achong\"}\n{\"customerid\": 299, \"fullname\": \"Pilar Ackerman\"}\n{\"customerid\": 305, \"fullname\": \"Carla Adams\"}\n{\"customerid\": 301, \"fullname\": \"Frances Adams\"}\n{\"customerid\": 307, \"fullname\": \"Jay Adams\"}\n{\"customerid\": 309, \"fullname\": \"Ronald Adina\"}\n{\"customerid\": 311, \"fullname\": \"Samuel Agcaoili\"}\n",
					"output_type": "stream"
				}
			]
		},
		{
			"cell_type": "code",
			"source": "dynamicFrameCustomers.select_fields(['customerid','fullname']).show(10)",
			"metadata": {
				"trusted": true,
				"tags": []
			},
			"execution_count": 11,
			"outputs": [
				{
					"name": "stdout",
					"text": "{\"customerid\": 293, \"fullname\": \"Catherine Abel\"}\n{\"customerid\": 295, \"fullname\": \"Kim Abercrombie\"}\n{\"customerid\": 297, \"fullname\": \"Humberto Acevedo\"}\n{\"customerid\": 291, \"fullname\": \"Gustavo Achong\"}\n{\"customerid\": 299, \"fullname\": \"Pilar Ackerman\"}\n{\"customerid\": 305, \"fullname\": \"Carla Adams\"}\n{\"customerid\": 301, \"fullname\": \"Frances Adams\"}\n{\"customerid\": 307, \"fullname\": \"Jay Adams\"}\n{\"customerid\": 309, \"fullname\": \"Ronald Adina\"}\n{\"customerid\": 311, \"fullname\": \"Samuel Agcaoili\"}\n",
					"output_type": "stream"
				}
			]
		},
		{
			"cell_type": "code",
			"source": "# drop fields from dynamic dataframe\ndyfCustomerDropFields= dynamicFrameCustomers.drop_fields(['firstname','lastname'])\n\ndyfCustomerDropFields.show(10)",
			"metadata": {
				"trusted": true,
				"tags": []
			},
			"execution_count": 13,
			"outputs": [
				{
					"name": "stdout",
					"text": "{\"customerid\": 293, \"fullname\": \"Catherine Abel\"}\n{\"customerid\": 295, \"fullname\": \"Kim Abercrombie\"}\n{\"customerid\": 297, \"fullname\": \"Humberto Acevedo\"}\n{\"customerid\": 291, \"fullname\": \"Gustavo Achong\"}\n{\"customerid\": 299, \"fullname\": \"Pilar Ackerman\"}\n{\"customerid\": 305, \"fullname\": \"Carla Adams\"}\n{\"customerid\": 301, \"fullname\": \"Frances Adams\"}\n{\"customerid\": 307, \"fullname\": \"Jay Adams\"}\n{\"customerid\": 309, \"fullname\": \"Ronald Adina\"}\n{\"customerid\": 311, \"fullname\": \"Samuel Agcaoili\"}\n",
					"output_type": "stream"
				}
			]
		},
		{
			"cell_type": "code",
			"source": "# mapping full name -> name\nmapping = [('customerid','long', 'customerid', 'long'), ('fullname','string','name','string')]\n\ndfyMapping = ApplyMapping.apply(\n    frame = dyfCustomerDropFields,\n    mappings = mapping,\n    transformation_ctx = 'applymapping1'\n)\n\ndfyMapping.show(10)",
			"metadata": {
				"trusted": true,
				"tags": []
			},
			"execution_count": 15,
			"outputs": [
				{
					"name": "stdout",
					"text": "{\"customerid\": 293, \"name\": \"Catherine Abel\"}\n{\"customerid\": 295, \"name\": \"Kim Abercrombie\"}\n{\"customerid\": 297, \"name\": \"Humberto Acevedo\"}\n{\"customerid\": 291, \"name\": \"Gustavo Achong\"}\n{\"customerid\": 299, \"name\": \"Pilar Ackerman\"}\n{\"customerid\": 305, \"name\": \"Carla Adams\"}\n{\"customerid\": 301, \"name\": \"Frances Adams\"}\n{\"customerid\": 307, \"name\": \"Jay Adams\"}\n{\"customerid\": 309, \"name\": \"Ronald Adina\"}\n{\"customerid\": 311, \"name\": \"Samuel Agcaoili\"}\n",
					"output_type": "stream"
				}
			]
		},
		{
			"cell_type": "code",
			"source": "dyfFilter = Filter.apply(\n    frame = dynamicFrameCustomers,\n    f = lambda x: x['lastname'] in 'Adams'\n)\ndyfFilter.show()",
			"metadata": {
				"trusted": true,
				"tags": []
			},
			"execution_count": 16,
			"outputs": [
				{
					"name": "stdout",
					"text": "{\"lastname\": \"Adams\", \"firstname\": \"Carla\", \"customerid\": 305, \"fullname\": \"Carla Adams\"}\n{\"lastname\": \"Adams\", \"firstname\": \"Frances\", \"customerid\": 301, \"fullname\": \"Frances Adams\"}\n{\"lastname\": \"Adams\", \"firstname\": \"Jay\", \"customerid\": 307, \"fullname\": \"Jay Adams\"}\n",
					"output_type": "stream"
				}
			]
		},
		{
			"cell_type": "code",
			"source": "# Read from the customers table in the glue data catalog using a dynamic frame\ndynamicFrameOrders = glueContext.create_dynamic_frame.from_catalog(\ndatabase = \"pyspark_tutorial_db\", \ntable_name = \"orders\"\n)\n\n# show top 10 rows of orders table\ndynamicFrameOrders.show(10)",
			"metadata": {
				"trusted": true,
				"tags": []
			},
			"execution_count": 17,
			"outputs": [
				{
					"name": "stdout",
					"text": "{\"salesorderid\": 43659, \"salesorderdetailid\": 1, \"orderdate\": \"5/31/2011\", \"duedate\": \"6/12/2011\", \"shipdate\": \"6/7/2011\", \"employeeid\": 279, \"customerid\": 1045, \"subtotal\": 20565.6206, \"taxamt\": 1971.5149, \"freight\": 616.0984, \"totaldue\": 23153.2339, \"productid\": 776, \"orderqty\": 1, \"unitprice\": 2024.9940, \"unitpricediscount\": 0.0000, \"linetotal\": 2024.9940}\n{\"salesorderid\": 43659, \"salesorderdetailid\": 2, \"orderdate\": \"5/31/2011\", \"duedate\": \"6/12/2011\", \"shipdate\": \"6/7/2011\", \"employeeid\": 279, \"customerid\": 1045, \"subtotal\": 20565.6206, \"taxamt\": 1971.5149, \"freight\": 616.0984, \"totaldue\": 23153.2339, \"productid\": 777, \"orderqty\": 3, \"unitprice\": 2024.9940, \"unitpricediscount\": 0.0000, \"linetotal\": 6074.9820}\n{\"salesorderid\": 43659, \"salesorderdetailid\": 3, \"orderdate\": \"5/31/2011\", \"duedate\": \"6/12/2011\", \"shipdate\": \"6/7/2011\", \"employeeid\": 279, \"customerid\": 1045, \"subtotal\": 20565.6206, \"taxamt\": 1971.5149, \"freight\": 616.0984, \"totaldue\": 23153.2339, \"productid\": 778, \"orderqty\": 1, \"unitprice\": 2024.9940, \"unitpricediscount\": 0.0000, \"linetotal\": 2024.9940}\n{\"salesorderid\": 43659, \"salesorderdetailid\": 4, \"orderdate\": \"5/31/2011\", \"duedate\": \"6/12/2011\", \"shipdate\": \"6/7/2011\", \"employeeid\": 279, \"customerid\": 1045, \"subtotal\": 20565.6206, \"taxamt\": 1971.5149, \"freight\": 616.0984, \"totaldue\": 23153.2339, \"productid\": 771, \"orderqty\": 1, \"unitprice\": 2039.9940, \"unitpricediscount\": 0.0000, \"linetotal\": 2039.9940}\n{\"salesorderid\": 43659, \"salesorderdetailid\": 5, \"orderdate\": \"5/31/2011\", \"duedate\": \"6/12/2011\", \"shipdate\": \"6/7/2011\", \"employeeid\": 279, \"customerid\": 1045, \"subtotal\": 20565.6206, \"taxamt\": 1971.5149, \"freight\": 616.0984, \"totaldue\": 23153.2339, \"productid\": 772, \"orderqty\": 1, \"unitprice\": 2039.9940, \"unitpricediscount\": 0.0000, \"linetotal\": 2039.9940}\n{\"salesorderid\": 43659, \"salesorderdetailid\": 6, \"orderdate\": \"5/31/2011\", \"duedate\": \"6/12/2011\", \"shipdate\": \"6/7/2011\", \"employeeid\": 279, \"customerid\": 1045, \"subtotal\": 20565.6206, \"taxamt\": 1971.5149, \"freight\": 616.0984, \"totaldue\": 23153.2339, \"productid\": 773, \"orderqty\": 2, \"unitprice\": 2039.9940, \"unitpricediscount\": 0.0000, \"linetotal\": 4079.9880}\n{\"salesorderid\": 43659, \"salesorderdetailid\": 7, \"orderdate\": \"5/31/2011\", \"duedate\": \"6/12/2011\", \"shipdate\": \"6/7/2011\", \"employeeid\": 279, \"customerid\": 1045, \"subtotal\": 20565.6206, \"taxamt\": 1971.5149, \"freight\": 616.0984, \"totaldue\": 23153.2339, \"productid\": 774, \"orderqty\": 1, \"unitprice\": 2039.9940, \"unitpricediscount\": 0.0000, \"linetotal\": 2039.9940}\n{\"salesorderid\": 43659, \"salesorderdetailid\": 8, \"orderdate\": \"5/31/2011\", \"duedate\": \"6/12/2011\", \"shipdate\": \"6/7/2011\", \"employeeid\": 279, \"customerid\": 1045, \"subtotal\": 20565.6206, \"taxamt\": 1971.5149, \"freight\": 616.0984, \"totaldue\": 23153.2339, \"productid\": 714, \"orderqty\": 3, \"unitprice\": 28.8404, \"unitpricediscount\": 0.0000, \"linetotal\": 86.5212}\n{\"salesorderid\": 43659, \"salesorderdetailid\": 9, \"orderdate\": \"5/31/2011\", \"duedate\": \"6/12/2011\", \"shipdate\": \"6/7/2011\", \"employeeid\": 279, \"customerid\": 1045, \"subtotal\": 20565.6206, \"taxamt\": 1971.5149, \"freight\": 616.0984, \"totaldue\": 23153.2339, \"productid\": 716, \"orderqty\": 1, \"unitprice\": 28.8404, \"unitpricediscount\": 0.0000, \"linetotal\": 28.8404}\n{\"salesorderid\": 43659, \"salesorderdetailid\": 10, \"orderdate\": \"5/31/2011\", \"duedate\": \"6/12/2011\", \"shipdate\": \"6/7/2011\", \"employeeid\": 279, \"customerid\": 1045, \"subtotal\": 20565.6206, \"taxamt\": 1971.5149, \"freight\": 616.0984, \"totaldue\": 23153.2339, \"productid\": 709, \"orderqty\": 6, \"unitprice\": 5.7000, \"unitpricediscount\": 0.0000, \"linetotal\": 34.2000}\n",
					"output_type": "stream"
				}
			]
		},
		{
			"cell_type": "code",
			"source": "dyfjoin = dynamicFrameCustomers.join(['customerid'],['customerid'], dynamicFrameOrders)\n\ndyfjoin.show(10)",
			"metadata": {
				"trusted": true,
				"tags": []
			},
			"execution_count": 18,
			"outputs": [
				{
					"name": "stdout",
					"text": "{\"freight\": 94.1433, \"subtotal\": 3170.6280, \"salesorderdetailid\": 39158, \"productid\": 783, \"linetotal\": 2753.9880, \"employeeid\": 288, \".customerid\": 419, \"taxamt\": 301.2584, \"salesorderid\": 51690, \"duedate\": \"7/12/2013\", \"orderqty\": 2, \"shipdate\": \"7/7/2013\", \"lastname\": \"Bartness\", \"firstname\": \"David\", \"totaldue\": 3566.0297, \"unitprice\": 1376.9940, \"orderdate\": \"6/30/2013\", \"unitpricediscount\": 0.0000, \"customerid\": 419, \"fullname\": \"David Bartness\"}\n{\"freight\": 94.1433, \"subtotal\": 3170.6280, \"salesorderdetailid\": 39159, \"productid\": 907, \"linetotal\": 63.9000, \"employeeid\": 288, \".customerid\": 419, \"taxamt\": 301.2584, \"salesorderid\": 51690, \"duedate\": \"7/12/2013\", \"orderqty\": 1, \"shipdate\": \"7/7/2013\", \"lastname\": \"Bartness\", \"firstname\": \"David\", \"totaldue\": 3566.0297, \"unitprice\": 63.9000, \"orderdate\": \"6/30/2013\", \"unitpricediscount\": 0.0000, \"customerid\": 419, \"fullname\": \"David Bartness\"}\n{\"freight\": 94.1433, \"subtotal\": 3170.6280, \"salesorderdetailid\": 39160, \"productid\": 867, \"linetotal\": 125.9820, \"employeeid\": 288, \".customerid\": 419, \"taxamt\": 301.2584, \"salesorderid\": 51690, \"duedate\": \"7/12/2013\", \"orderqty\": 3, \"shipdate\": \"7/7/2013\", \"lastname\": \"Bartness\", \"firstname\": \"David\", \"totaldue\": 3566.0297, \"unitprice\": 41.9940, \"orderdate\": \"6/30/2013\", \"unitpricediscount\": 0.0000, \"customerid\": 419, \"fullname\": \"David Bartness\"}\n{\"freight\": 94.1433, \"subtotal\": 3170.6280, \"salesorderdetailid\": 39161, \"productid\": 884, \"linetotal\": 226.7580, \"employeeid\": 288, \".customerid\": 419, \"taxamt\": 301.2584, \"salesorderid\": 51690, \"duedate\": \"7/12/2013\", \"orderqty\": 7, \"shipdate\": \"7/7/2013\", \"lastname\": \"Bartness\", \"firstname\": \"David\", \"totaldue\": 3566.0297, \"unitprice\": 32.3940, \"orderdate\": \"6/30/2013\", \"unitpricediscount\": 0.0000, \"customerid\": 419, \"fullname\": \"David Bartness\"}\n{\"freight\": 4.8849, \"subtotal\": 158.4300, \"salesorderdetailid\": 61552, \"productid\": 920, \"linetotal\": 158.4300, \"employeeid\": 288, \".customerid\": 419, \"taxamt\": 15.6318, \"salesorderid\": 57078, \"duedate\": \"10/12/2013\", \"orderqty\": 1, \"shipdate\": \"10/7/2013\", \"lastname\": \"Bartness\", \"firstname\": \"David\", \"totaldue\": 178.9467, \"unitprice\": 158.4300, \"orderdate\": \"9/30/2013\", \"unitpricediscount\": 0.0000, \"customerid\": 419, \"fullname\": \"David Bartness\"}\n{\"freight\": 26.6602, \"subtotal\": 864.6540, \"salesorderdetailid\": 82228, \"productid\": 945, \"linetotal\": 54.8940, \"employeeid\": 288, \".customerid\": 419, \"taxamt\": 85.3125, \"salesorderid\": 63168, \"duedate\": \"1/12/2014\", \"orderqty\": 1, \"shipdate\": \"1/7/2014\", \"lastname\": \"Bartness\", \"firstname\": \"David\", \"totaldue\": 976.6267, \"unitprice\": 54.8940, \"orderdate\": \"12/31/2013\", \"unitpricediscount\": 0.0000, \"customerid\": 419, \"fullname\": \"David Bartness\"}\n{\"freight\": 26.6602, \"subtotal\": 864.6540, \"salesorderdetailid\": 82229, \"productid\": 747, \"linetotal\": 809.7600, \"employeeid\": 288, \".customerid\": 419, \"taxamt\": 85.3125, \"salesorderid\": 63168, \"duedate\": \"1/12/2014\", \"orderqty\": 1, \"shipdate\": \"1/7/2014\", \"lastname\": \"Bartness\", \"firstname\": \"David\", \"totaldue\": 976.6267, \"unitprice\": 809.7600, \"orderdate\": \"12/31/2013\", \"unitpricediscount\": 0.0000, \"customerid\": 419, \"fullname\": \"David Bartness\"}\n{\"freight\": 41.0650, \"subtotal\": 1210.4928, \"salesorderdetailid\": 102195, \"productid\": 985, \"linetotal\": 67.7988, \"employeeid\": 288, \".customerid\": 419, \"taxamt\": 131.4079, \"salesorderid\": 69388, \"duedate\": \"4/12/2014\", \"orderqty\": 1, \"shipdate\": \"4/7/2014\", \"lastname\": \"Bartness\", \"firstname\": \"David\", \"totaldue\": 1382.9657, \"unitprice\": 112.9980, \"orderdate\": \"3/31/2014\", \"unitpricediscount\": 0.4000, \"customerid\": 419, \"fullname\": \"David Bartness\"}\n{\"freight\": 41.0650, \"subtotal\": 1210.4928, \"salesorderdetailid\": 102196, \"productid\": 992, \"linetotal\": 323.9940, \"employeeid\": 288, \".customerid\": 419, \"taxamt\": 131.4079, \"salesorderid\": 69388, \"duedate\": \"4/12/2014\", \"orderqty\": 1, \"shipdate\": \"4/7/2014\", \"lastname\": \"Bartness\", \"firstname\": \"David\", \"totaldue\": 1382.9657, \"unitprice\": 323.9940, \"orderdate\": \"3/31/2014\", \"unitpricediscount\": 0.0000, \"customerid\": 419, \"fullname\": \"David Bartness\"}\n{\"freight\": 41.0650, \"subtotal\": 1210.4928, \"salesorderdetailid\": 102197, \"productid\": 742, \"linetotal\": 818.7000, \"employeeid\": 288, \".customerid\": 419, \"taxamt\": 131.4079, \"salesorderid\": 69388, \"duedate\": \"4/12/2014\", \"orderqty\": 1, \"shipdate\": \"4/7/2014\", \"lastname\": \"Bartness\", \"firstname\": \"David\", \"totaldue\": 1382.9657, \"unitprice\": 818.7000, \"orderdate\": \"3/31/2014\", \"unitpricediscount\": 0.0000, \"customerid\": 419, \"fullname\": \"David Bartness\"}\n",
					"output_type": "stream"
				}
			]
		},
		{
			"cell_type": "code",
			"source": "# write down the data in a Dynamic Frame to S3 location. \nglueContext.write_dynamic_frame.from_options(\n    frame = dynamicFrameCustomers,\n    connection_type = 's3',\n    connection_options = {'path': 's3://virgilio-murillo-pyspark-tutorial/dynamic-dataframe/'},\n    format = 'csv',\n    format_options = {\n        'separator': ','\n    },\n    transformation_ctx = 'datasink2'\n)",
			"metadata": {
				"trusted": true,
				"tags": []
			},
			"execution_count": 19,
			"outputs": [
				{
					"name": "stdout",
					"text": "<awsglue.dynamicframe.DynamicFrame object at 0x7f6b96edf210>\n",
					"output_type": "stream"
				}
			]
		},
		{
			"cell_type": "code",
			"source": "# write down to data catalog using a dynamic frame\nglueContext.write_dynamic_frame.from_catalog(\n    frame = dynamicFrameCustomers,\n    database = 'pyspark_tutorial_db',\n    table_name = 'customers_write_dyf',\n)",
			"metadata": {
				"trusted": true,
				"tags": []
			},
			"execution_count": 22,
			"outputs": [
				{
					"name": "stdout",
					"text": "<awsglue.dynamicframe.DynamicFrame object at 0x7f6b96ef44d0>\n",
					"output_type": "stream"
				}
			]
		},
		{
			"cell_type": "code",
			"source": "sparkDf = dynamicFrameCustomers.toDF()\n\nsparkDf.show()",
			"metadata": {
				"trusted": true,
				"tags": []
			},
			"execution_count": 24,
			"outputs": [
				{
					"name": "stdout",
					"text": "+----------+----------+-----------+--------------------+\n|customerid| firstname|   lastname|            fullname|\n+----------+----------+-----------+--------------------+\n|       293| Catherine|       Abel|      Catherine Abel|\n|       295|       Kim|Abercrombie|     Kim Abercrombie|\n|       297|  Humberto|    Acevedo|    Humberto Acevedo|\n|       291|   Gustavo|     Achong|      Gustavo Achong|\n|       299|     Pilar|   Ackerman|      Pilar Ackerman|\n|       305|     Carla|      Adams|         Carla Adams|\n|       301|   Frances|      Adams|       Frances Adams|\n|       307|       Jay|      Adams|           Jay Adams|\n|       309|    Ronald|      Adina|        Ronald Adina|\n|       311|    Samuel|   Agcaoili|     Samuel Agcaoili|\n|       313|     James|    Aguilar|       James Aguilar|\n|       315|    Robert|   Ahlering|     Robert Ahlering|\n|       319|       Kim|      Akers|           Kim Akers|\n|       441|   Stanley|       Alan|        Stanley Alan|\n|       323|       Amy|    Alberts|         Amy Alberts|\n|       325|      Anna|   Albright|       Anna Albright|\n|       327|    Milton|     Albury|       Milton Albury|\n|       329|      Paul|     Alcorn|         Paul Alcorn|\n|       331|   Gregory|   Alderson|    Gregory Alderson|\n|       333|J. Phillip|  Alexander|J. Phillip Alexander|\n+----------+----------+-----------+--------------------+\nonly showing top 20 rows\n\n/usr/lib/spark/python/lib/pyspark.zip/pyspark/sql/dataframe.py:147: UserWarning: DataFrame constructor is internal. Do not directly use it.\n",
					"output_type": "stream"
				}
			]
		},
		{
			"cell_type": "code",
			"source": "dfSelect = sparkDf.select('customerid','fullname')\n\ndfSelect.show()",
			"metadata": {
				"trusted": true,
				"tags": []
			},
			"execution_count": 25,
			"outputs": [
				{
					"name": "stdout",
					"text": "+----------+--------------------+\n|customerid|            fullname|\n+----------+--------------------+\n|       293|      Catherine Abel|\n|       295|     Kim Abercrombie|\n|       297|    Humberto Acevedo|\n|       291|      Gustavo Achong|\n|       299|      Pilar Ackerman|\n|       305|         Carla Adams|\n|       301|       Frances Adams|\n|       307|           Jay Adams|\n|       309|        Ronald Adina|\n|       311|     Samuel Agcaoili|\n|       313|       James Aguilar|\n|       315|     Robert Ahlering|\n|       319|           Kim Akers|\n|       441|        Stanley Alan|\n|       323|         Amy Alberts|\n|       325|       Anna Albright|\n|       327|       Milton Albury|\n|       329|         Paul Alcorn|\n|       331|    Gregory Alderson|\n|       333|J. Phillip Alexander|\n+----------+--------------------+\nonly showing top 20 rows\n",
					"output_type": "stream"
				}
			]
		},
		{
			"cell_type": "code",
			"source": "# import the lit lib\nfrom pyspark.sql.functions import lit\n\n# add new column with literal value\ndfNewColumn = sparkDf.withColumn('date',lit('2022-7-25'))\n\ndfNewColumn.show()",
			"metadata": {
				"trusted": true,
				"tags": []
			},
			"execution_count": 26,
			"outputs": [
				{
					"name": "stdout",
					"text": "+----------+----------+-----------+--------------------+---------+\n|customerid| firstname|   lastname|            fullname|     date|\n+----------+----------+-----------+--------------------+---------+\n|       293| Catherine|       Abel|      Catherine Abel|2022-7-25|\n|       295|       Kim|Abercrombie|     Kim Abercrombie|2022-7-25|\n|       297|  Humberto|    Acevedo|    Humberto Acevedo|2022-7-25|\n|       291|   Gustavo|     Achong|      Gustavo Achong|2022-7-25|\n|       299|     Pilar|   Ackerman|      Pilar Ackerman|2022-7-25|\n|       305|     Carla|      Adams|         Carla Adams|2022-7-25|\n|       301|   Frances|      Adams|       Frances Adams|2022-7-25|\n|       307|       Jay|      Adams|           Jay Adams|2022-7-25|\n|       309|    Ronald|      Adina|        Ronald Adina|2022-7-25|\n|       311|    Samuel|   Agcaoili|     Samuel Agcaoili|2022-7-25|\n|       313|     James|    Aguilar|       James Aguilar|2022-7-25|\n|       315|    Robert|   Ahlering|     Robert Ahlering|2022-7-25|\n|       319|       Kim|      Akers|           Kim Akers|2022-7-25|\n|       441|   Stanley|       Alan|        Stanley Alan|2022-7-25|\n|       323|       Amy|    Alberts|         Amy Alberts|2022-7-25|\n|       325|      Anna|   Albright|       Anna Albright|2022-7-25|\n|       327|    Milton|     Albury|       Milton Albury|2022-7-25|\n|       329|      Paul|     Alcorn|         Paul Alcorn|2022-7-25|\n|       331|   Gregory|   Alderson|    Gregory Alderson|2022-7-25|\n|       333|J. Phillip|  Alexander|J. Phillip Alexander|2022-7-25|\n+----------+----------+-----------+--------------------+---------+\nonly showing top 20 rows\n",
					"output_type": "stream"
				}
			]
		},
		{
			"cell_type": "code",
			"source": "# create a new column and add two strings together\nfrom pyspark.sql.functions import concat\n\ndfnewFullname = sparkDf.withColumn('new_full_name',concat('firstname',concat(lit(' '), 'lastname')))\n\ndfnewFullname.show()",
			"metadata": {
				"trusted": true,
				"tags": []
			},
			"execution_count": 27,
			"outputs": [
				{
					"name": "stdout",
					"text": "+----------+----------+-----------+--------------------+--------------------+\n|customerid| firstname|   lastname|            fullname|       new_full_name|\n+----------+----------+-----------+--------------------+--------------------+\n|       293| Catherine|       Abel|      Catherine Abel|      Catherine Abel|\n|       295|       Kim|Abercrombie|     Kim Abercrombie|     Kim Abercrombie|\n|       297|  Humberto|    Acevedo|    Humberto Acevedo|    Humberto Acevedo|\n|       291|   Gustavo|     Achong|      Gustavo Achong|      Gustavo Achong|\n|       299|     Pilar|   Ackerman|      Pilar Ackerman|      Pilar Ackerman|\n|       305|     Carla|      Adams|         Carla Adams|         Carla Adams|\n|       301|   Frances|      Adams|       Frances Adams|       Frances Adams|\n|       307|       Jay|      Adams|           Jay Adams|           Jay Adams|\n|       309|    Ronald|      Adina|        Ronald Adina|        Ronald Adina|\n|       311|    Samuel|   Agcaoili|     Samuel Agcaoili|     Samuel Agcaoili|\n|       313|     James|    Aguilar|       James Aguilar|       James Aguilar|\n|       315|    Robert|   Ahlering|     Robert Ahlering|     Robert Ahlering|\n|       319|       Kim|      Akers|           Kim Akers|           Kim Akers|\n|       441|   Stanley|       Alan|        Stanley Alan|        Stanley Alan|\n|       323|       Amy|    Alberts|         Amy Alberts|         Amy Alberts|\n|       325|      Anna|   Albright|       Anna Albright|       Anna Albright|\n|       327|    Milton|     Albury|       Milton Albury|       Milton Albury|\n|       329|      Paul|     Alcorn|         Paul Alcorn|         Paul Alcorn|\n|       331|   Gregory|   Alderson|    Gregory Alderson|    Gregory Alderson|\n|       333|J. Phillip|  Alexander|J. Phillip Alexander|J. Phillip Alexander|\n+----------+----------+-----------+--------------------+--------------------+\nonly showing top 20 rows\n",
					"output_type": "stream"
				}
			]
		},
		{
			"cell_type": "code",
			"source": "# drop columns\ndfDropCol = sparkDf.drop('firstname','lastname')\n\ndfDropCol.show()",
			"metadata": {
				"trusted": true,
				"tags": []
			},
			"execution_count": 28,
			"outputs": [
				{
					"name": "stdout",
					"text": "+----------+--------------------+\n|customerid|            fullname|\n+----------+--------------------+\n|       293|      Catherine Abel|\n|       295|     Kim Abercrombie|\n|       297|    Humberto Acevedo|\n|       291|      Gustavo Achong|\n|       299|      Pilar Ackerman|\n|       305|         Carla Adams|\n|       301|       Frances Adams|\n|       307|           Jay Adams|\n|       309|        Ronald Adina|\n|       311|     Samuel Agcaoili|\n|       313|       James Aguilar|\n|       315|     Robert Ahlering|\n|       319|           Kim Akers|\n|       441|        Stanley Alan|\n|       323|         Amy Alberts|\n|       325|       Anna Albright|\n|       327|       Milton Albury|\n|       329|         Paul Alcorn|\n|       331|    Gregory Alderson|\n|       333|J. Phillip Alexander|\n+----------+--------------------+\nonly showing top 20 rows\n",
					"output_type": "stream"
				}
			]
		},
		{
			"cell_type": "code",
			"source": "# renaming columns\ndfRenameCols = sparkDf.withColumnRenamed('fullname','full_name_new').show()",
			"metadata": {
				"trusted": true,
				"tags": []
			},
			"execution_count": 29,
			"outputs": [
				{
					"name": "stdout",
					"text": "+----------+----------+-----------+--------------------+\n|customerid| firstname|   lastname|       full_name_new|\n+----------+----------+-----------+--------------------+\n|       293| Catherine|       Abel|      Catherine Abel|\n|       295|       Kim|Abercrombie|     Kim Abercrombie|\n|       297|  Humberto|    Acevedo|    Humberto Acevedo|\n|       291|   Gustavo|     Achong|      Gustavo Achong|\n|       299|     Pilar|   Ackerman|      Pilar Ackerman|\n|       305|     Carla|      Adams|         Carla Adams|\n|       301|   Frances|      Adams|       Frances Adams|\n|       307|       Jay|      Adams|           Jay Adams|\n|       309|    Ronald|      Adina|        Ronald Adina|\n|       311|    Samuel|   Agcaoili|     Samuel Agcaoili|\n|       313|     James|    Aguilar|       James Aguilar|\n|       315|    Robert|   Ahlering|     Robert Ahlering|\n|       319|       Kim|      Akers|           Kim Akers|\n|       441|   Stanley|       Alan|        Stanley Alan|\n|       323|       Amy|    Alberts|         Amy Alberts|\n|       325|      Anna|   Albright|       Anna Albright|\n|       327|    Milton|     Albury|       Milton Albury|\n|       329|      Paul|     Alcorn|         Paul Alcorn|\n|       331|   Gregory|   Alderson|    Gregory Alderson|\n|       333|J. Phillip|  Alexander|J. Phillip Alexander|\n+----------+----------+-----------+--------------------+\nonly showing top 20 rows\n",
					"output_type": "stream"
				}
			]
		},
		{
			"cell_type": "code",
			"source": "# group on last name and count the number of times they appear\nsparkDf.groupby('lastname').count().show()",
			"metadata": {
				"trusted": true,
				"tags": []
			},
			"execution_count": 31,
			"outputs": [
				{
					"name": "stdout",
					"text": "+-----------+-----+\n|   lastname|count|\n+-----------+-----+\n|Abercrombie|    1|\n|     Achong|    1|\n|      Adams|    3|\n|  Alexander|    3|\n|      Allen|    3|\n| Altamirano|    1|\n|     Alvaro|    1|\n|  Appelbaum|    1|\n|    Arakawa|    1|\n|       Ault|    1|\n|     Bailey|    1|\n|    Baldwin|    1|\n|      Bales|    1|\n|     Barker|    1|\n|     Beaver|    1|\n|       Beck|    1|\n|      Belli|    1|\n|  Bernacchi|    1|\n|    Blanton|    1|\n|    Bradley|    1|\n+-----------+-----+\nonly showing top 20 rows\n",
					"output_type": "stream"
				}
			]
		},
		{
			"cell_type": "code",
			"source": "# Filter spark DataFrame for customers who have the last name Adams\nsparkDf.filter(sparkDf[\"lastname\"] == \"Adams\").show()",
			"metadata": {
				"trusted": true,
				"tags": []
			},
			"execution_count": 32,
			"outputs": [
				{
					"name": "stdout",
					"text": "+----------+---------+--------+-------------+\n|customerid|firstname|lastname|     fullname|\n+----------+---------+--------+-------------+\n|       305|    Carla|   Adams|  Carla Adams|\n|       301|  Frances|   Adams|Frances Adams|\n|       307|      Jay|   Adams|    Jay Adams|\n+----------+---------+--------+-------------+\n",
					"output_type": "stream"
				}
			]
		},
		{
			"cell_type": "code",
			"source": "# Where clause spark DataFrame for customers who have the last name Adams\nsparkDf.where(\"lastname =='Adams'\").show()",
			"metadata": {
				"trusted": true,
				"tags": []
			},
			"execution_count": 33,
			"outputs": [
				{
					"name": "stdout",
					"text": "+----------+---------+--------+-------------+\n|customerid|firstname|lastname|     fullname|\n+----------+---------+--------+-------------+\n|       305|    Carla|   Adams|  Carla Adams|\n|       301|  Frances|   Adams|Frances Adams|\n|       307|      Jay|   Adams|    Jay Adams|\n+----------+---------+--------+-------------+\n",
					"output_type": "stream"
				}
			]
		},
		{
			"cell_type": "code",
			"source": "# Read from the customers table in the glue data catalog using a dynamic frame and convert to spark dataframe\ndfOrders = glueContext.create_dynamic_frame.from_catalog(\n                                        database = \"pyspark_tutorial_db\", \n                                        table_name = \"orders\"\n                                    ).toDF()",
			"metadata": {
				"trusted": true,
				"tags": []
			},
			"execution_count": 34,
			"outputs": [
				{
					"name": "stdout",
					"text": "\n",
					"output_type": "stream"
				}
			]
		},
		{
			"cell_type": "code",
			"source": "# Inner Join Customers Spark DF to Orders Spark DF\nsparkDf.join(dfOrders,sparkDf.customerid ==  dfOrders.customerid,\"inner\").show(truncate=False)",
			"metadata": {
				"trusted": true,
				"tags": []
			},
			"execution_count": 35,
			"outputs": [
				{
					"name": "stdout",
					"text": "+----------+---------+---------+---------------+------------+------------------+---------+---------+--------+----------+----------+----------+---------+--------+----------+---------+--------+---------+-----------------+---------+\n|customerid|firstname|lastname |fullname       |salesorderid|salesorderdetailid|orderdate|duedate  |shipdate|employeeid|customerid|subtotal  |taxamt   |freight |totaldue  |productid|orderqty|unitprice|unitpricediscount|linetotal|\n+----------+---------+---------+---------------+------------+------------------+---------+---------+--------+----------+----------+----------+---------+--------+----------+---------+--------+---------+-----------------+---------+\n|721       |Takiko   |Collins  |Takiko Collins |43660       |13                |5/31/2011|6/12/2011|6/7/2011|279       |721       |1294.2529 |124.2483 |38.8276 |1457.3288 |762      |1       |419.4589 |0.0000           |419.4589 |\n|721       |Takiko   |Collins  |Takiko Collins |43660       |14                |5/31/2011|6/12/2011|6/7/2011|279       |721       |1294.2529 |124.2483 |38.8276 |1457.3288 |758      |1       |874.7940 |0.0000           |874.7940 |\n|517       |Richard  |Bready   |Richard Bready |43665       |61                |5/31/2011|6/12/2011|6/7/2011|283       |517       |14352.7713|1375.9427|429.9821|16158.6961|711      |2       |20.1865  |0.0000           |40.3730  |\n|517       |Richard  |Bready   |Richard Bready |43665       |62                |5/31/2011|6/12/2011|6/7/2011|283       |517       |14352.7713|1375.9427|429.9821|16158.6961|773      |1       |2039.9940|0.0000           |2039.9940|\n|517       |Richard  |Bready   |Richard Bready |43665       |63                |5/31/2011|6/12/2011|6/7/2011|283       |517       |14352.7713|1375.9427|429.9821|16158.6961|707      |1       |20.1865  |0.0000           |20.1865  |\n|517       |Richard  |Bready   |Richard Bready |43665       |64                |5/31/2011|6/12/2011|6/7/2011|283       |517       |14352.7713|1375.9427|429.9821|16158.6961|715      |2       |28.8404  |0.0000           |57.6808  |\n|517       |Richard  |Bready   |Richard Bready |43665       |65                |5/31/2011|6/12/2011|6/7/2011|283       |517       |14352.7713|1375.9427|429.9821|16158.6961|777      |2       |2024.9940|0.0000           |4049.9880|\n|517       |Richard  |Bready   |Richard Bready |43665       |66                |5/31/2011|6/12/2011|6/7/2011|283       |517       |14352.7713|1375.9427|429.9821|16158.6961|712      |2       |5.1865   |0.0000           |10.3730  |\n|517       |Richard  |Bready   |Richard Bready |43665       |67                |5/31/2011|6/12/2011|6/7/2011|283       |517       |14352.7713|1375.9427|429.9821|16158.6961|775      |2       |2024.9940|0.0000           |4049.9880|\n|517       |Richard  |Bready   |Richard Bready |43665       |68                |5/31/2011|6/12/2011|6/7/2011|283       |517       |14352.7713|1375.9427|429.9821|16158.6961|778      |1       |2024.9940|0.0000           |2024.9940|\n|517       |Richard  |Bready   |Richard Bready |43665       |69                |5/31/2011|6/12/2011|6/7/2011|283       |517       |14352.7713|1375.9427|429.9821|16158.6961|709      |6       |5.7000   |0.0000           |34.2000  |\n|517       |Richard  |Bready   |Richard Bready |43665       |70                |5/31/2011|6/12/2011|6/7/2011|283       |517       |14352.7713|1375.9427|429.9821|16158.6961|776      |1       |2024.9940|0.0000           |2024.9940|\n|1373      |Scott    |MacDonald|Scott MacDonald|43667       |77                |5/31/2011|6/12/2011|6/7/2011|277       |1373      |6107.0820 |586.1203 |183.1626|6876.3649 |710      |3       |5.7000   |0.0000           |17.1000  |\n|1373      |Scott    |MacDonald|Scott MacDonald|43667       |78                |5/31/2011|6/12/2011|6/7/2011|277       |1373      |6107.0820 |586.1203 |183.1626|6876.3649 |773      |1       |2039.9940|0.0000           |2039.9940|\n|1373      |Scott    |MacDonald|Scott MacDonald|43667       |79                |5/31/2011|6/12/2011|6/7/2011|277       |1373      |6107.0820 |586.1203 |183.1626|6876.3649 |778      |1       |2024.9940|0.0000           |2024.9940|\n|1373      |Scott    |MacDonald|Scott MacDonald|43667       |80                |5/31/2011|6/12/2011|6/7/2011|277       |1373      |6107.0820 |586.1203 |183.1626|6876.3649 |775      |1       |2024.9940|0.0000           |2024.9940|\n|1185      |Peggy    |Justice  |Peggy Justice  |43671       |115               |5/31/2011|6/12/2011|6/7/2011|283       |1185      |8128.7876 |780.8136 |244.0042|9153.6054 |753      |1       |2146.9620|0.0000           |2146.9620|\n|1185      |Peggy    |Justice  |Peggy Justice  |43671       |116               |5/31/2011|6/12/2011|6/7/2011|283       |1185      |8128.7876 |780.8136 |244.0042|9153.6054 |714      |2       |28.8404  |0.0000           |57.6808  |\n|1185      |Peggy    |Justice  |Peggy Justice  |43671       |117               |5/31/2011|6/12/2011|6/7/2011|283       |1185      |8128.7876 |780.8136 |244.0042|9153.6054 |756      |1       |874.7940 |0.0000           |874.7940 |\n|1185      |Peggy    |Justice  |Peggy Justice  |43671       |118               |5/31/2011|6/12/2011|6/7/2011|283       |1185      |8128.7876 |780.8136 |244.0042|9153.6054 |768      |2       |419.4589 |0.0000           |838.9178 |\n+----------+---------+---------+---------------+------------+------------------+---------+---------+--------+----------+----------+----------+---------+--------+----------+---------+--------+---------+-----------------+---------+\nonly showing top 20 rows\n",
					"output_type": "stream"
				}
			]
		},
		{
			"cell_type": "code",
			"source": "#left join on orders and adams df\ndfOrders.join(dfAdams,dfAdams.customerid ==  dfOrders.customerid,\"left\").show(100)",
			"metadata": {
				"trusted": true,
				"tags": []
			},
			"execution_count": 36,
			"outputs": [
				{
					"name": "stdout",
					"text": "NameError: name 'dfAdams' is not defined\n",
					"output_type": "stream"
				}
			]
		},
		{
			"cell_type": "code",
			"source": "# Import Dynamic DataFrame class\nfrom awsglue.dynamicframe import DynamicFrame\n\n#Convert from Spark Data Frame to Glue Dynamic Frame\ndyfCustomersConvert = DynamicFrame.fromDF(sparkDf, glueContext, \"convert\")\n\n#Show converted Glue Dynamic Frame\ndyfCustomersConvert.show()",
			"metadata": {
				"trusted": true,
				"tags": []
			},
			"execution_count": 37,
			"outputs": [
				{
					"name": "stdout",
					"text": "{\"customerid\": 293, \"firstname\": \"Catherine\", \"lastname\": \"Abel\", \"fullname\": \"Catherine Abel\"}\n{\"customerid\": 295, \"firstname\": \"Kim\", \"lastname\": \"Abercrombie\", \"fullname\": \"Kim Abercrombie\"}\n{\"customerid\": 297, \"firstname\": \"Humberto\", \"lastname\": \"Acevedo\", \"fullname\": \"Humberto Acevedo\"}\n{\"customerid\": 291, \"firstname\": \"Gustavo\", \"lastname\": \"Achong\", \"fullname\": \"Gustavo Achong\"}\n{\"customerid\": 299, \"firstname\": \"Pilar\", \"lastname\": \"Ackerman\", \"fullname\": \"Pilar Ackerman\"}\n{\"customerid\": 305, \"firstname\": \"Carla\", \"lastname\": \"Adams\", \"fullname\": \"Carla Adams\"}\n{\"customerid\": 301, \"firstname\": \"Frances\", \"lastname\": \"Adams\", \"fullname\": \"Frances Adams\"}\n{\"customerid\": 307, \"firstname\": \"Jay\", \"lastname\": \"Adams\", \"fullname\": \"Jay Adams\"}\n{\"customerid\": 309, \"firstname\": \"Ronald\", \"lastname\": \"Adina\", \"fullname\": \"Ronald Adina\"}\n{\"customerid\": 311, \"firstname\": \"Samuel\", \"lastname\": \"Agcaoili\", \"fullname\": \"Samuel Agcaoili\"}\n{\"customerid\": 313, \"firstname\": \"James\", \"lastname\": \"Aguilar\", \"fullname\": \"James Aguilar\"}\n{\"customerid\": 315, \"firstname\": \"Robert\", \"lastname\": \"Ahlering\", \"fullname\": \"Robert Ahlering\"}\n{\"customerid\": 319, \"firstname\": \"Kim\", \"lastname\": \"Akers\", \"fullname\": \"Kim Akers\"}\n{\"customerid\": 441, \"firstname\": \"Stanley\", \"lastname\": \"Alan\", \"fullname\": \"Stanley Alan\"}\n{\"customerid\": 323, \"firstname\": \"Amy\", \"lastname\": \"Alberts\", \"fullname\": \"Amy Alberts\"}\n{\"customerid\": 325, \"firstname\": \"Anna\", \"lastname\": \"Albright\", \"fullname\": \"Anna Albright\"}\n{\"customerid\": 327, \"firstname\": \"Milton\", \"lastname\": \"Albury\", \"fullname\": \"Milton Albury\"}\n{\"customerid\": 329, \"firstname\": \"Paul\", \"lastname\": \"Alcorn\", \"fullname\": \"Paul Alcorn\"}\n{\"customerid\": 331, \"firstname\": \"Gregory\", \"lastname\": \"Alderson\", \"fullname\": \"Gregory Alderson\"}\n{\"customerid\": 333, \"firstname\": \"J. Phillip\", \"lastname\": \"Alexander\", \"fullname\": \"J. Phillip Alexander\"}\n",
					"output_type": "stream"
				}
			]
		},
		{
			"cell_type": "code",
			"source": "# write down the data in converted Dynamic Frame to S3 location. \nglueContext.write_dynamic_frame.from_options(\n                            frame = dyfCustomersConvert,\n                            connection_type=\"s3\", \n                            connection_options = {\"path\": \"s3://virgilio-murillo-pyspark-tutorial/write_down_dyf_to_s3\"}, \n                            format = \"csv\", \n                            format_options={\n                                \"separator\": \",\"\n                                },\n                            transformation_ctx = \"datasink2\")",
			"metadata": {
				"trusted": true,
				"tags": []
			},
			"execution_count": 40,
			"outputs": [
				{
					"name": "stdout",
					"text": "<awsglue.dynamicframe.DynamicFrame object at 0x7f6b96f58d90>\n",
					"output_type": "stream"
				}
			]
		},
		{
			"cell_type": "code",
			"source": "# write data from the converted to customers_write_dyf table using the meta data stored in the glue data catalog \nglueContext.write_dynamic_frame.from_catalog(\n    frame = dyfCustomersConvert,\n    database = \"pyspark_tutorial_db\",  \n    table_name = \"customers_write_dyf\")",
			"metadata": {
				"trusted": true,
				"tags": []
			},
			"execution_count": 41,
			"outputs": [
				{
					"name": "stdout",
					"text": "<awsglue.dynamicframe.DynamicFrame object at 0x7f6b96f58ed0>\n",
					"output_type": "stream"
				}
			]
		},
		{
			"cell_type": "code",
			"source": "",
			"metadata": {},
			"execution_count": null,
			"outputs": []
		}
	]
}