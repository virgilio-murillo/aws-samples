{
 "cells": [
  {
   "cell_type": "code",
   "execution_count": 1,
   "id": "19fa00b1-4253-4d26-b796-e2c4be389f48",
   "metadata": {},
   "outputs": [],
   "source": [
    "import os\n",
    "import boto3\n",
    "from config import *\n",
    "import base64\n",
    "from urllib.parse import urlparse\n",
    "import random\n",
    "import string\n",
    "import time\n",
    "import time\n",
    "from datetime import timedelta"
   ]
  },
  {
   "cell_type": "code",
   "execution_count": 2,
   "id": "306228cf-5ef2-4396-856d-465f9484be6d",
   "metadata": {},
   "outputs": [
    {
     "name": "stdout",
     "output_type": "stream",
     "text": [
      "1.37.4\n"
     ]
    }
   ],
   "source": [
    "print(boto3.__version__)"
   ]
  },
  {
   "cell_type": "code",
   "execution_count": 3,
   "id": "dbdeeac9-7450-455c-863b-0fb866572391",
   "metadata": {},
   "outputs": [],
   "source": [
    "bedrock_agent = boto3.Session().client('bedrock-agent')"
   ]
  },
  {
   "cell_type": "code",
   "execution_count": 4,
   "id": "26a15088-5dec-43c9-9aeb-79dc9c188db4",
   "metadata": {},
   "outputs": [],
   "source": [
    "def generate_random_code():\n",
    "    # Generate 4 random characters (uppercase letters)\n",
    "    characters = ''.join(random.choices(string.ascii_uppercase, k=4))\n",
    "    \n",
    "    # Generate 12 digit number combining timestamp and random numbers\n",
    "    timestamp = str(int(time.time()))\n",
    "    random_digits = ''.join(random.choices(string.digits, k=6))\n",
    "    number = (timestamp + random_digits)[-12:]  # Ensure 12 digits\n",
    "    \n",
    "    return characters, number"
   ]
  },
  {
   "cell_type": "code",
   "execution_count": 5,
   "id": "96507bc0-8dca-4069-b9ae-663df991e068",
   "metadata": {},
   "outputs": [],
   "source": [
    "def s3_upload(s3_location):\n",
    "    \n",
    "    random_code = generate_random_code()\n",
    "    documentIdentifier = str(random_code[0]) + str(random_code[1]) \n",
    "    document = { \n",
    "        'content':{\n",
    "            'dataSourceType': 'CUSTOM',\n",
    "            'custom':{\n",
    "                'customDocumentIdentifier': {\n",
    "                    'id': documentIdentifier\n",
    "                },\n",
    "                's3Location': {\n",
    "                    'bucketOwnerAccountId': bucket_owner_account,\n",
    "                    'uri': s3_location\n",
    "                },\n",
    "                'sourceType': 'S3_LOCATION'\n",
    "            }\n",
    "        }\n",
    "    }\n",
    "    \n",
    "    documents = [document]\n",
    "\n",
    "    response = bedrock_agent.ingest_knowledge_base_documents(\n",
    "        dataSourceId = data_source_id, documents = documents, knowledgeBaseId = knowledgebase_id\n",
    "    )\n",
    "    return response"
   ]
  },
  {
   "cell_type": "code",
   "execution_count": 6,
   "id": "807c550c-8381-4afd-aa4b-b5171abd3e25",
   "metadata": {},
   "outputs": [
    {
     "ename": "NameError",
     "evalue": "name 's3uri' is not defined",
     "output_type": "error",
     "traceback": [
      "\u001b[0;31m---------------------------------------------------------------------------\u001b[0m",
      "\u001b[0;31mNameError\u001b[0m                                 Traceback (most recent call last)",
      "Cell \u001b[0;32mIn[6], line 4\u001b[0m\n\u001b[1;32m      2\u001b[0m s3_folder \u001b[38;5;241m=\u001b[39m \u001b[38;5;124m'\u001b[39m\u001b[38;5;124mtest/knowledge-bases/pdffiles/\u001b[39m\u001b[38;5;124m'\u001b[39m\n\u001b[1;32m      3\u001b[0m s3_folder_uri \u001b[38;5;241m=\u001b[39m \u001b[38;5;124m'\u001b[39m\u001b[38;5;124ms3://\u001b[39m\u001b[38;5;124m'\u001b[39m \u001b[38;5;241m+\u001b[39m bucket_name \u001b[38;5;241m+\u001b[39m \u001b[38;5;124m'\u001b[39m\u001b[38;5;124m/\u001b[39m\u001b[38;5;124m'\u001b[39m \u001b[38;5;241m+\u001b[39m s3_folder \n\u001b[0;32m----> 4\u001b[0m \u001b[38;5;28mprint\u001b[39m(\u001b[43ms3uri\u001b[49m)\n",
      "\u001b[0;31mNameError\u001b[0m: name 's3uri' is not defined"
     ]
    }
   ],
   "source": [
    "bucket_name = 'mainbucketrockhight5461'\n",
    "s3_folder = 'test/knowledge-bases/pdffiles/'\n",
    "s3_folder_uri = 's3://' + bucket_name + '/' + s3_folder \n",
    "print(s3uri)"
   ]
  },
  {
   "cell_type": "code",
   "execution_count": 11,
   "id": "0e1d57e3-c22d-4aef-951d-755ee9e7216d",
   "metadata": {},
   "outputs": [
    {
     "name": "stdout",
     "output_type": "stream",
     "text": [
      "{'ResponseMetadata': {'RequestId': 'ed945065-855f-4f5c-a493-bd4ce36516b5', 'HTTPStatusCode': 202, 'HTTPHeaders': {'date': 'Thu, 06 Mar 2025 19:09:37 GMT', 'content-type': 'application/json', 'content-length': '223', 'connection': 'keep-alive', 'x-amzn-requestid': 'ed945065-855f-4f5c-a493-bd4ce36516b5', 'x-amz-apigw-id': 'HBLlkEIDIAMELNA=', 'x-amzn-trace-id': 'Root=1-67c9f2f0-7676388962c38fb550d30822'}, 'RetryAttempts': 0}, 'documentDetails': [{'dataSourceId': 'NE9ODXI7SB', 'identifier': {'custom': {'id': 'ASUU288176490043'}, 'dataSourceType': 'CUSTOM'}, 'knowledgeBaseId': '4CI1ZBRFZL', 'status': 'STARTING', 'updatedAt': datetime.datetime(2025, 3, 6, 19, 9, 37, 621269, tzinfo=tzlocal())}]}\n"
     ]
    }
   ],
   "source": [
    "# first we test the function\n",
    "s3_uri = \"s3://mainbucketrockhight5461/test/knowledge-bases/pdffiles/00627fcf4add0ded.pdf\"\n",
    "response = s3_upload(s3_uri)\n",
    "print(response)"
   ]
  },
  {
   "cell_type": "code",
   "execution_count": 12,
   "id": "df1073ea-552e-43db-bdb8-083e8385be68",
   "metadata": {},
   "outputs": [],
   "source": [
    "def append_to_file(filename, content):\n",
    "    \"\"\"\n",
    "    Appends a string to a file. If the file doesn't exist, it creates it.\n",
    "    \n",
    "    :param filename: The name of the file to append to\n",
    "    :param content: The string content to append\n",
    "    \"\"\"\n",
    "    try:\n",
    "        with open(filename, 'a') as file:\n",
    "            file.write(content)\n",
    "        print(f\"Successfully appended content to {filename}\")\n",
    "    except IOError as e:\n",
    "        print(f\"An error occurred while appending to the file: {e}\")\n",
    "\n",
    "# Example usage:\n",
    "# append_to_file('example.txt', 'This is some content to append.\\n')\n",
    "        "
   ]
  },
  {
   "cell_type": "code",
   "execution_count": 15,
   "id": "cc8f5fc2-1083-4dd0-829e-6b8f80535983",
   "metadata": {},
   "outputs": [],
   "source": [
    "def traverse_s3_folder(bucket_name, folder_path):\n",
    "    s3 = boto3.client('s3')\n",
    "    \n",
    "    # List objects in the specified folder\n",
    "    paginator = s3.get_paginator('list_objects_v2')\n",
    "    print(paginator)\n",
    "    pages = paginator.paginate(Bucket=bucket_name, Prefix=folder_path)\n",
    "    print(type(pages))\n",
    "    counter = 0\n",
    "\n",
    "    processed_files = 0\n",
    "    total_time = 0\n",
    "    start_time = time.time()\n",
    "    \n",
    "    for page in pages:\n",
    "        if 'Contents' in page:\n",
    "            for obj in page['Contents']:\n",
    "                # Get the full S3 URI\n",
    "                s3_uri = f\"s3://{bucket_name}/{obj['Key']}\"\n",
    "                if obj['Size'] == 0:\n",
    "                    continue\n",
    "                \n",
    "                # Call the s3_upload function and measure the time\n",
    "                start_upload = time.time()\n",
    "                try:\n",
    "                    response = s3_upload(s3_uri)\n",
    "                except:\n",
    "                    print(\"error\")    \n",
    "                end_upload = time.time()\n",
    "                \n",
    "                upload_time = end_upload - start_upload\n",
    "                total_time += upload_time\n",
    "                processed_files += 1\n",
    "\n",
    "                # Calculate average time and estimated time remaining\n",
    "                avg_time = total_time / processed_files\n",
    "                estimated_remaining = avg_time * (total_files - processed_files)\n",
    "\n",
    "                if counter == 0 or counter == 5 or counter % 300 == 0:\n",
    "                    print(response)\n",
    "                    log = f\"\\rProcessed: {processed_files}/{total_files} |\"\n",
    "                    log +=  f\"Progress: {processed_files/total_files*100:.2f}% |\"\n",
    "                    log += f\" Avg time per file: {avg_time:.2f}s\"\n",
    "                    log += f\"| Est. time remaining: {timedelta(seconds=int(estimated_remaining))}\"\n",
    "                    print(log,end='', flush=True)\n",
    "                    append_to_file('log.txt',log)\n",
    "                    append_to_file('log.txt', str(response))\n",
    "                counter +=1\n"
   ]
  },
  {
   "cell_type": "code",
   "execution_count": null,
   "id": "3ebc8549-c178-4333-9396-592ce8585361",
   "metadata": {},
   "outputs": [
    {
     "name": "stdout",
     "output_type": "stream",
     "text": [
      "<botocore.client.S3.Paginator.ListObjectsV2 object at 0x7fc459427cd0>\n",
      "<class 'botocore.paginate.PageIterator'>\n",
      "{'ResponseMetadata': {'RequestId': 'fd4d0cef-a2ee-44e9-b53a-c9e24cb1a5ae', 'HTTPStatusCode': 202, 'HTTPHeaders': {'date': 'Thu, 06 Mar 2025 19:10:02 GMT', 'content-type': 'application/json', 'content-length': '223', 'connection': 'keep-alive', 'x-amzn-requestid': 'fd4d0cef-a2ee-44e9-b53a-c9e24cb1a5ae', 'x-amz-apigw-id': 'HBLpbHHmoAMEhzw=', 'x-amzn-trace-id': 'Root=1-67c9f308-64e813a14d0071ee1a076dad'}, 'RetryAttempts': 0}, 'documentDetails': [{'dataSourceId': 'NE9ODXI7SB', 'identifier': {'custom': {'id': 'CKQU288200748858'}, 'dataSourceType': 'CUSTOM'}, 'knowledgeBaseId': '4CI1ZBRFZL', 'status': 'STARTING', 'updatedAt': datetime.datetime(2025, 3, 6, 19, 10, 2, 119330, tzinfo=tzlocal())}]}\n",
      "Processed: 1/83000 |Progress: 0.00% | Avg time per file: 1.59s| Est. time remaining: 1 day, 12:46:04Successfully appended content to log.txt\n",
      "Successfully appended content to log.txt\n",
      "{'ResponseMetadata': {'RequestId': 'e193e4a9-3c9e-4230-a9fe-c961e4e2710d', 'HTTPStatusCode': 202, 'HTTPHeaders': {'date': 'Thu, 06 Mar 2025 19:10:11 GMT', 'content-type': 'application/json', 'content-length': '223', 'connection': 'keep-alive', 'x-amzn-requestid': 'e193e4a9-3c9e-4230-a9fe-c961e4e2710d', 'x-amz-apigw-id': 'HBLqxGe5IAMEiBA=', 'x-amzn-trace-id': 'Root=1-67c9f311-464085733c90da6244b749e6'}, 'RetryAttempts': 0}, 'documentDetails': [{'dataSourceId': 'NE9ODXI7SB', 'identifier': {'custom': {'id': 'EQJI288209327066'}, 'dataSourceType': 'CUSTOM'}, 'knowledgeBaseId': '4CI1ZBRFZL', 'status': 'STARTING', 'updatedAt': datetime.datetime(2025, 3, 6, 19, 10, 10, 844235, tzinfo=tzlocal())}]}\n",
      "Processed: 6/83000 |Progress: 0.01% | Avg time per file: 1.73s| Est. time remaining: 1 day, 15:53:52Successfully appended content to log.txt\n",
      "Successfully appended content to log.txt\n"
     ]
    }
   ],
   "source": [
    "total_files = 83000\n",
    "# Example usage\n",
    "bucket_name = 'mainbucketrockhight5461'\n",
    "folder_path = 'test/knowledge-bases/pdffiles/'\n",
    "\n",
    "traverse_s3_folder(bucket_name, folder_path)"
   ]
  },
  {
   "cell_type": "code",
   "execution_count": 8,
   "id": "25d46bc3-b603-4cb1-96e8-d2707e26100c",
   "metadata": {},
   "outputs": [],
   "source": [
    "# we will list all the files with https://boto3.amazonaws.com/v1/documentation/api/latest/reference/services/bedrock-agent/client/list_knowledge_base_documents.html\n",
    "response = bedrock_agent.list_knowledge_base_documents(\n",
    "    dataSourceId=data_source_id,\n",
    "    knowledgeBaseId=knowledgebase_id,\n",
    "    maxResults=123,\n",
    ")"
   ]
  },
  {
   "cell_type": "code",
   "execution_count": 9,
   "id": "d9812b6f-8a92-45ef-b88b-7d0f26aeb6ec",
   "metadata": {},
   "outputs": [
    {
     "name": "stdout",
     "output_type": "stream",
     "text": [
      "94\n"
     ]
    }
   ],
   "source": [
    "print(len(response['documentDetails']))"
   ]
  },
  {
   "cell_type": "code",
   "execution_count": 10,
   "id": "6be93213-b340-4c46-9b23-a7acf172c2e6",
   "metadata": {},
   "outputs": [
    {
     "name": "stdout",
     "output_type": "stream",
     "text": [
      "AQICAHjY5vHh4XCChv6ADNKwebT+wYJnogYxpqLFttdk470lNwEVqwXoL+Ho0oJ8iAxYT2fdAAABZzCCAWMGCSqGSIb3DQEHBqCCAVQwggFQAgEAMIIBSQYJKoZIhvcNAQcBMB4GCWCGSAFlAwQBLjARBAx/RF90duFv82oMZPECARCAggEahQxdxr17Yzbb2cOCba2xiflKCEDotYQhyh+yNmzYCRyYRChg1iv2XxKpygl94Bfg2BymFxXKDq2gV0fv09AZcgrTkrn5Kh0z3KvEk3OltpBgMb3DwbQYJIax2ewxNkTURT61mUlgY86CKojNQWuT1BRByZfb+HWQcGgsN6xn4u1cinOxe3H0iM3kuejuyf6ebKfzfgFQ9DEY/sK5CAkWMgQZTakk891Etdh4VtKSbyai5cSsfRvIcmEhyy0tLQFLEG6mc8gfsnWcN6EIq2FXYj854/CGrUA3dm07C41kvg/kCD5WU9VwFQX2jO8MXXXGYwX4N97vgz0O34Z9yOr9v7gUG7nlFJYGkWhBr1M78gMAWGTbJtirUJSC\n"
     ]
    }
   ],
   "source": [
    "print(response['nextToken'])\n",
    "nextToken = response['nextToken']"
   ]
  },
  {
   "cell_type": "code",
   "execution_count": 57,
   "id": "a74bc470-dcff-4aa4-95b7-c5cb4a32120f",
   "metadata": {},
   "outputs": [],
   "source": [
    "# we will list all the files with https://boto3.amazonaws.com/v1/documentation/api/latest/reference/services/bedrock-agent/client/list_knowledge_base_documents.html\n",
    "def list_section(nextToken):\n",
    "    response = bedrock_agent.list_knowledge_base_documents(\n",
    "        dataSourceId=data_source_id,\n",
    "        knowledgeBaseId=knowledgebase_id,\n",
    "        maxResults=123,\n",
    "        nextToken = nextToken\n",
    "    )\n",
    "    return response"
   ]
  },
  {
   "cell_type": "code",
   "execution_count": 58,
   "id": "30d267ed-b14d-4b5d-a31a-fdbdc5e9cf17",
   "metadata": {},
   "outputs": [
    {
     "name": "stdout",
     "output_type": "stream",
     "text": [
      "sum: 36, counter: 0\n",
      "sum: 258, counter: 7\n",
      "sum: 1617, counter: 49\n",
      "sum: 3236, counter: 100\n",
      "5372\n"
     ]
    }
   ],
   "source": [
    "docsize = 5\n",
    "sm = 0\n",
    "counter = 0\n",
    "while docsize > 1:\n",
    "    response = list_section(nextToken)\n",
    "    if 'nextToken' not in response:\n",
    "        break\n",
    "    nextToken = response['nextToken']\n",
    "    sm += len(response['documentDetails'])\n",
    "    if counter == 0 or counter == 7 or counter == 49 or counter %100 == 0:\n",
    "        print(f\"sum: {sm}, counter: {counter}\")\n",
    "    counter +=1\n",
    "print(sm)"
   ]
  },
  {
   "cell_type": "code",
   "execution_count": null,
   "id": "79dcb695-d35a-4f82-9f5d-cb1a7e4a5728",
   "metadata": {},
   "outputs": [],
   "source": [
    "print(new_response['documentDetails'])"
   ]
  }
 ],
 "metadata": {
  "kernelspec": {
   "display_name": "Python 3 (ipykernel)",
   "language": "python",
   "name": "python3"
  },
  "language_info": {
   "codemirror_mode": {
    "name": "ipython",
    "version": 3
   },
   "file_extension": ".py",
   "mimetype": "text/x-python",
   "name": "python",
   "nbconvert_exporter": "python",
   "pygments_lexer": "ipython3",
   "version": "3.11.11"
  }
 },
 "nbformat": 4,
 "nbformat_minor": 5
}
