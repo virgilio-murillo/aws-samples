{
 "cells": [
  {
   "cell_type": "code",
   "execution_count": 1,
   "id": "0e092f03-ebe3-449c-9da7-a0b6df0bbeca",
   "metadata": {},
   "outputs": [],
   "source": [
    "# test to breach the 100 mb limit and preferably get to 6 GB using knowledge base with a custom data source. We will upload all the files manually"
   ]
  },
  {
   "cell_type": "code",
   "execution_count": 1,
   "id": "e3061708-1a5a-4f18-8bdd-1fdb84573436",
   "metadata": {},
   "outputs": [],
   "source": [
    "import os\n",
    "import boto3\n",
    "from config import *\n",
    "import base64"
   ]
  },
  {
   "cell_type": "code",
   "execution_count": 2,
   "id": "0dd2e1aa-094c-4d88-af02-b8516737764e",
   "metadata": {},
   "outputs": [
    {
     "name": "stdout",
     "output_type": "stream",
     "text": [
      "1.37.1\n"
     ]
    }
   ],
   "source": [
    "print(boto3.__version__)"
   ]
  },
  {
   "cell_type": "code",
   "execution_count": 3,
   "id": "3eb25aae-81ef-4b2e-a594-030056747c5f",
   "metadata": {},
   "outputs": [],
   "source": [
    "bedrock_agent = boto3.Session().client('bedrock-agent')"
   ]
  },
  {
   "cell_type": "code",
   "execution_count": 4,
   "id": "8092479b-26fd-431d-8f97-b12838ba1713",
   "metadata": {},
   "outputs": [
    {
     "name": "stdout",
     "output_type": "stream",
     "text": [
      "/home/sagemaker-user/.cache/kagglehub/datasets/hsankesara/flickr-image-dataset/versions/1/flickr30k_images/flickr30k_images\n"
     ]
    }
   ],
   "source": [
    "path = \"/home/sagemaker-user/.cache/kagglehub/datasets/hsankesara/flickr-image-dataset/versions/1/flickr30k_images/flickr30k_images\"\n",
    "print(path)"
   ]
  },
  {
   "cell_type": "code",
   "execution_count": 5,
   "id": "adfa4cc5-e020-4962-9968-d429efd5b0f9",
   "metadata": {
    "scrolled": true
   },
   "outputs": [
    {
     "name": "stdout",
     "output_type": "stream",
     "text": [
      "0th == 1000092795.jpg\n",
      "1000th == 131624221.jpg\n",
      "2000th == 1572286502.jpg\n",
      "3000th == 2037264035.jpg\n",
      "4000th == 2201202388.jpg\n",
      "5000th == 233242340.jpg\n",
      "6000th == 2450486758.jpg\n",
      "7000th == 2573009825.jpg\n",
      "8000th == 2705102979.jpg\n",
      "9000th == 2834032170.jpg\n",
      "10000th == 2954929479.jpg\n",
      "11000th == 3085592876.jpg\n",
      "12000th == 3201065069.jpg\n",
      "13000th == 3315323307.jpg\n",
      "14000th == 3424424006.jpg\n",
      "15000th == 3533145793.jpg\n",
      "16000th == 3643974707.jpg\n",
      "17000th == 378453580.jpg\n",
      "18000th == 4011411161.jpg\n",
      "19000th == 4273698621.jpg\n",
      "20000th == 4464227525.jpg\n",
      "21000th == 4575727965.jpg\n",
      "22000th == 4676717700.jpg\n",
      "23000th == 4752984291.jpg\n",
      "24000th == 4830307454.jpg\n",
      "25000th == 491484504.jpg\n",
      "26000th == 503357436.jpg\n",
      "27000th == 5447844412.jpg\n",
      "28000th == 6041156608.jpg\n",
      "29000th == 67491882.jpg\n",
      "30000th == 7283335868.jpg\n",
      "31000th == 80474519.jpg\n"
     ]
    }
   ],
   "source": [
    "counter = 0\n",
    "for filename in os.listdir(path):\n",
    "    if counter %1000 == 0:\n",
    "        print(f\"{counter}th == {filename}\")\n",
    "    counter +=1"
   ]
  },
  {
   "cell_type": "code",
   "execution_count": 6,
   "id": "a107677d-924b-4aef-b01e-87e20023e8b9",
   "metadata": {},
   "outputs": [],
   "source": [
    "# If you're using PIL/Pillow Image object\n",
    "from PIL import Image\n",
    "import io\n",
    "import base64"
   ]
  },
  {
   "cell_type": "code",
   "execution_count": 7,
   "id": "74dd742b-7d07-482e-8886-f27b8317fe62",
   "metadata": {},
   "outputs": [],
   "source": [
    "# If you have an image file path\n",
    "def image_to_bytes(image_path):\n",
    "    with open(image_path, 'rb') as image:\n",
    "        return {'data': base64.b64encode(image.read())}\n",
    "\n",
    "def pil_image_to_bytes(image_path):\n",
    "    # Open the image file\n",
    "    pil_image = Image.open(image_path)\n",
    "    # Convert PIL Image to bytes\n",
    "    img_byte_arr = io.BytesIO()\n",
    "    pil_image.save(img_byte_arr, format=pil_image.format or 'JPEG')\n",
    "    img_byte_arr = img_byte_arr.getvalue()\n",
    "    return {'data': base64.b64encode(img_byte_arr)}"
   ]
  },
  {
   "cell_type": "code",
   "execution_count": 8,
   "id": "896f6d48-92af-48f1-939e-51aa6654f73e",
   "metadata": {},
   "outputs": [],
   "source": [
    "## example usage\n",
    "image_path = path + '/1314231418.jpg'\n",
    "image_bytes = pil_image_to_bytes(image_path)\n",
    "image_bytes_data = image_bytes['data']"
   ]
  },
  {
   "cell_type": "code",
   "execution_count": 9,
   "id": "988e6f51-484d-4e1f-a1f1-46ba3214755a",
   "metadata": {},
   "outputs": [
    {
     "name": "stdout",
     "output_type": "stream",
     "text": [
      "<class 'bytes'>\n"
     ]
    }
   ],
   "source": [
    "print(type(image_bytes['data']))"
   ]
  },
  {
   "cell_type": "code",
   "execution_count": 10,
   "id": "50812f53-a7cc-48eb-ade9-54400cf900b0",
   "metadata": {},
   "outputs": [],
   "source": [
    "import random\n",
    "import string\n",
    "import time"
   ]
  },
  {
   "cell_type": "code",
   "execution_count": 11,
   "id": "fd4ae751-4c8f-43b8-9d97-3817c3da9173",
   "metadata": {},
   "outputs": [],
   "source": [
    "def generate_random_code():\n",
    "    # Generate 4 random characters (uppercase letters)\n",
    "    characters = ''.join(random.choices(string.ascii_uppercase, k=4))\n",
    "    \n",
    "    # Generate 12 digit number combining timestamp and random numbers\n",
    "    timestamp = str(int(time.time()))\n",
    "    random_digits = ''.join(random.choices(string.digits, k=6))\n",
    "    number = (timestamp + random_digits)[-12:]  # Ensure 12 digits\n",
    "    \n",
    "    return characters, number"
   ]
  },
  {
   "cell_type": "code",
   "execution_count": 12,
   "id": "1a8ad9d9-7302-4895-bbdd-ee98179e6b04",
   "metadata": {},
   "outputs": [],
   "source": [
    "# now we will test uploading a single image\n",
    "def upload_image(image_path):\n",
    "    image_bytes = pil_image_to_bytes(image_path)\n",
    "    image_bytes_data = image_bytes['data']\n",
    "    \n",
    "    random_code = generate_random_code()\n",
    "    documentIdentifier = str(random_code[0]) + str(random_code[1]) \n",
    "    document = {\n",
    "        'content': {\n",
    "            'custom': {\n",
    "                'customDocumentIdentifier': {\n",
    "                    'id': documentIdentifier\n",
    "                },\n",
    "                'inlineContent': {\n",
    "                    'byteContent': {\n",
    "                        'data': image_bytes_data,\n",
    "                        'mimeType': 'image/jpeg'\n",
    "                    },\n",
    "                    'type': 'BYTE'\n",
    "                },\n",
    "                'sourceType': 'IN_LINE'\n",
    "            },\n",
    "            'dataSourceType': 'CUSTOM',\n",
    "        }\n",
    "    }\n",
    "    documents = [document]\n",
    "\n",
    "    response = bedrock_agent.ingest_knowledge_base_documents(\n",
    "        dataSourceId = data_source_id, documents = documents, knowledgeBaseId = knowledgebase_id\n",
    "    )\n",
    "    return response"
   ]
  },
  {
   "cell_type": "code",
   "execution_count": 13,
   "id": "25ddbcd8-5dbe-4a6b-b83f-18644395a80b",
   "metadata": {},
   "outputs": [],
   "source": [
    "def get_data_source():\n",
    "    data_source = bedrock_agent.get_data_source(\n",
    "        dataSourceId = data_source_id,\n",
    "        knowledgeBaseId =knowledgebase_id\n",
    "    )\n",
    "    return data_source"
   ]
  },
  {
   "cell_type": "code",
   "execution_count": 18,
   "id": "8a172c25-b25a-4f3f-a49f-6428007bc159",
   "metadata": {
    "scrolled": true
   },
   "outputs": [
    {
     "name": "stdout",
     "output_type": "stream",
     "text": [
      " --- Updload response\n",
      " --- \n",
      "/home/sagemaker-user/.cache/kagglehub/datasets/hsankesara/flickr-image-dataset/versions/1/flickr30k_images/flickr30k_images/1000092795.jpg\n",
      " --- Updload response\n",
      " --- \n",
      "/home/sagemaker-user/.cache/kagglehub/datasets/hsankesara/flickr-image-dataset/versions/1/flickr30k_images/flickr30k_images/10002456.jpg\n",
      " --- Updload response\n",
      " --- \n",
      "/home/sagemaker-user/.cache/kagglehub/datasets/hsankesara/flickr-image-dataset/versions/1/flickr30k_images/flickr30k_images/1000268201.jpg\n",
      " --- Updload response\n",
      " --- \n",
      "/home/sagemaker-user/.cache/kagglehub/datasets/hsankesara/flickr-image-dataset/versions/1/flickr30k_images/flickr30k_images/1000344755.jpg\n",
      " --- Updload response\n",
      " --- \n",
      "/home/sagemaker-user/.cache/kagglehub/datasets/hsankesara/flickr-image-dataset/versions/1/flickr30k_images/flickr30k_images/1000366164.jpg\n",
      " --- Updload response\n",
      " --- \n",
      "/home/sagemaker-user/.cache/kagglehub/datasets/hsankesara/flickr-image-dataset/versions/1/flickr30k_images/flickr30k_images/1000523639.jpg\n",
      " --- Updload response\n",
      " --- \n",
      "/home/sagemaker-user/.cache/kagglehub/datasets/hsankesara/flickr-image-dataset/versions/1/flickr30k_images/flickr30k_images/1000919630.jpg\n",
      " --- Updload response\n",
      " --- \n",
      "/home/sagemaker-user/.cache/kagglehub/datasets/hsankesara/flickr-image-dataset/versions/1/flickr30k_images/flickr30k_images/10010052.jpg\n",
      " --- Updload response\n",
      " --- \n",
      "/home/sagemaker-user/.cache/kagglehub/datasets/hsankesara/flickr-image-dataset/versions/1/flickr30k_images/flickr30k_images/1001465944.jpg\n",
      " --- Updload response\n",
      " --- \n",
      "/home/sagemaker-user/.cache/kagglehub/datasets/hsankesara/flickr-image-dataset/versions/1/flickr30k_images/flickr30k_images/1001545525.jpg\n"
     ]
    }
   ],
   "source": [
    "counter = 0\n",
    "for filename in os.listdir(path):\n",
    "    if counter == 10:\n",
    "        break\n",
    "    image_path = path + \"/\" + filename\n",
    "    upload_response = upload_image(image_path)\n",
    "    timer = 0\n",
    "    print(\" --- Updload response\")\n",
    "    print(\" --- \")\n",
    "    while timer < 10:\n",
    "        data_source = get_data_source()\n",
    "        time.sleep(30)\n",
    "        timer +=1\n",
    "    print(image_path)\n",
    "    counter +=1"
   ]
  },
  {
   "cell_type": "markdown",
   "id": "461797e8-ec68-40d8-9c32-6f39cb403949",
   "metadata": {},
   "source": [
    "**according to** [documentation](https://boto3.amazonaws.com/v1/documentation/api/latest/reference/services/bedrock-agent/client/ingest_knowledge_base_documents.html) uploading images using the API is not supported. see:\n",
    "\n",
    "```\n",
    "mimeType (string) – [REQUIRED]\n",
    "The MIME type of the content. For a list of MIME types, see Media Types. The following MIME types are supported:\n",
    "text/plain\n",
    "text/html\n",
    "text/csv\n",
    "text/vtt\n",
    "message/rfc822\n",
    "application/xhtml+xml\n",
    "application/pdf\n",
    "application/msword\n",
    "application/vnd.ms-word.document.macroenabled.12\n",
    "application/vnd.ms-word.template.macroenabled.12\n",
    "application/vnd.ms-excel\n",
    "application/vnd.ms-excel.addin.macroenabled.12\n",
    "application/vnd.ms-excel.sheet.macroenabled.12\n",
    "application/vnd.ms-excel.template.macroenabled.12\n",
    "application/vnd.ms-excel.sheet.binary.macroenabled.12\n",
    "application/vnd.ms-spreadsheetml\n",
    "application/vnd.openxmlformats-officedocument.spreadsheetml.sheet\n",
    "application/vnd.openxmlformats-officedocument.spreadsheetml.template\n",
    "application/vnd.openxmlformats-officedocument.wordprocessingml.document\n",
    "application/vnd.openxmlformats-officedocument.wordprocessingml.template\n",
    "```\n",
    "and I am getting logs of this kind:\n",
    "```\n",
    "{\n",
    "    \"event_timestamp\": 1740509325142,\n",
    "    \"event\": {\n",
    "        \"document_location\": {\n",
    "            \"customDocument_location\": {\n",
    "                \"id\": \"***\"\n",
    "            },\n",
    "            \"type\": \"CUSTOM\"\n",
    "        },\n",
    "        \"request_id\": \"********\",\n",
    "        \"data_source_id\": \"********\",\n",
    "        \"status_reasons\": [\n",
    "            \"Resource not processed due to a service exception. Please reach out to Amazon Bedrock technical support team for further assistance, or contact technical support at aws.amazon.com/contact-us/.\"\n",
    "        ],\n",
    "        \"knowledge_base_arn\": \"arn:aws:bedrock:us-east-1:**********:knowledge-base/********\",\n",
    "        \"status\": \"RESOURCE_IGNORED\"\n",
    "    },\n",
    "    \"event_version\": \"1.0\",\n",
    "    \"event_type\": \"IngestKnowledgeBaseDocuments.ResourceStatusChanged\",\n",
    "    \"level\": \"WARN\"\n",
    "}\n",
    "```\n",
    "\n",
    "uploading 6 GB of data will take an excesive amount of time and resources to test. For instance, when I first attempted to upload a 17 MB pdf file (the bedrock user guide actually) which contains more than 2500 pages, It was taking longer than 8 hours and I had to stop the test for that reason. Hence uploading 6 GB of data will take 118 days."
   ]
  },
  {
   "cell_type": "code",
   "execution_count": 14,
   "id": "0fb25b06-2926-404a-a00e-65d7e31fe4ac",
   "metadata": {},
   "outputs": [],
   "source": [
    "s3_location = 's3://mainbucketrockhight5461/test/knowledge-bases/direct_KB_upload/1image/371897.jpg'"
   ]
  },
  {
   "cell_type": "code",
   "execution_count": 15,
   "id": "ecab9097-5c65-4a78-b5d4-b94bfdf80e40",
   "metadata": {},
   "outputs": [],
   "source": [
    "# I will attempt to upload the images using s3 direct upload to custom source\n",
    "def s3_upload_image(s3_location):\n",
    "    \n",
    "    random_code = generate_random_code()\n",
    "    documentIdentifier = str(random_code[0]) + str(random_code[1]) \n",
    "    document = { \n",
    "        'content':{\n",
    "            'dataSourceType': 'CUSTOM',\n",
    "            'custom':{\n",
    "                'customDocumentIdentifier': {\n",
    "                    'id': documentIdentifier\n",
    "                },\n",
    "                's3Location': {\n",
    "                    'bucketOwnerAccountId': bucket_owner_account,\n",
    "                    'uri': s3_location\n",
    "                },\n",
    "                'sourceType': 'S3_LOCATION'\n",
    "            }\n",
    "        }\n",
    "    }\n",
    "    \n",
    "    documents = [document]\n",
    "\n",
    "    response = bedrock_agent.ingest_knowledge_base_documents(\n",
    "        dataSourceId = data_source_id, documents = documents, knowledgeBaseId = knowledgebase_id\n",
    "    )\n",
    "    return response"
   ]
  },
  {
   "cell_type": "code",
   "execution_count": 28,
   "id": "fa24e1ee-e706-4395-8edf-0721c0e1301e",
   "metadata": {},
   "outputs": [],
   "source": [
    "s3_upload_response = s3_upload_image(s3_location)"
   ]
  },
  {
   "cell_type": "code",
   "execution_count": 29,
   "id": "dd334a9b-855f-46b2-8f1f-21491692fb1d",
   "metadata": {},
   "outputs": [
    {
     "name": "stdout",
     "output_type": "stream",
     "text": [
      "{'ResponseMetadata': {'RequestId': '04ac8cca-2587-49ea-9a00-6e8c15ea4814', 'HTTPStatusCode': 202, 'HTTPHeaders': {'date': 'Wed, 26 Feb 2025 04:02:18 GMT', 'content-type': 'application/json', 'content-length': '223', 'connection': 'keep-alive', 'x-amzn-requestid': '04ac8cca-2587-49ea-9a00-6e8c15ea4814', 'x-amz-apigw-id': 'GkvLYG8WIAMEZjg=', 'x-amzn-trace-id': 'Root=1-67be9248-16c53ad15c2c7c7827578517'}, 'RetryAttempts': 0}, 'documentDetails': [{'dataSourceId': 'E3NRB1GDE0', 'identifier': {'custom': {'id': 'GUAT542536187863'}, 'dataSourceType': 'CUSTOM'}, 'knowledgeBaseId': '5WYB0DMRMN', 'status': 'STARTING', 'updatedAt': datetime.datetime(2025, 2, 26, 4, 2, 17, 795270, tzinfo=tzlocal())}]}\n"
     ]
    }
   ],
   "source": [
    "print(s3_upload_response)"
   ]
  },
  {
   "cell_type": "code",
   "execution_count": 30,
   "id": "ca03356b-cb21-490e-acc8-e37933af8a8c",
   "metadata": {},
   "outputs": [],
   "source": [
    "# the request failed, I will test now using a json file\n",
    "s3_response = s3_upload_image('s3://mainbucketrockhight5461/test/documentation/bedrock-user-guide.pdf.metadata.json')"
   ]
  },
  {
   "cell_type": "code",
   "execution_count": 31,
   "id": "8afe2a4d-4ac9-49f8-a6f9-a60ba587e3eb",
   "metadata": {},
   "outputs": [
    {
     "name": "stdout",
     "output_type": "stream",
     "text": [
      "{'ResponseMetadata': {'RequestId': '3d353762-49c1-460a-935e-c411d936acb9', 'HTTPStatusCode': 202, 'HTTPHeaders': {'date': 'Wed, 26 Feb 2025 04:06:11 GMT', 'content-type': 'application/json', 'content-length': '223', 'connection': 'keep-alive', 'x-amzn-requestid': '3d353762-49c1-460a-935e-c411d936acb9', 'x-amz-apigw-id': 'Gkvv0FZ1IAMED8A=', 'x-amzn-trace-id': 'Root=1-67be9331-12e06a2f070686eb35bd5087'}, 'RetryAttempts': 0}, 'documentDetails': [{'dataSourceId': 'E3NRB1GDE0', 'identifier': {'custom': {'id': 'QDUB542769316690'}, 'dataSourceType': 'CUSTOM'}, 'knowledgeBaseId': '5WYB0DMRMN', 'status': 'STARTING', 'updatedAt': datetime.datetime(2025, 2, 26, 4, 6, 10, 894650, tzinfo=tzlocal())}]}\n"
     ]
    }
   ],
   "source": [
    "print(s3_response)"
   ]
  },
  {
   "cell_type": "code",
   "execution_count": null,
   "id": "4e858623-b81f-40da-8715-e03ea70c4958",
   "metadata": {},
   "outputs": [],
   "source": [
    "## I think the ingestions might be failing because we already reached the limit actually. So I will attempt with a new knowledge base"
   ]
  },
  {
   "cell_type": "code",
   "execution_count": 19,
   "id": "0fcd0709-e6c5-4e72-9eb8-f6b1848c3cff",
   "metadata": {},
   "outputs": [],
   "source": [
    "# I will attempt to upload the images using s3 direct upload to custom source\n",
    "def s3_upload_image_nds(s3_location, data_source_id):\n",
    "    \n",
    "    random_code = generate_random_code()\n",
    "    documentIdentifier = str(random_code[0]) + str(random_code[1]) \n",
    "    document = { \n",
    "        'content':{\n",
    "            'dataSourceType': 'CUSTOM',\n",
    "            'custom':{\n",
    "                'customDocumentIdentifier': {\n",
    "                    'id': documentIdentifier\n",
    "                },\n",
    "                's3Location': {\n",
    "                    'bucketOwnerAccountId': bucket_owner_account,\n",
    "                    'uri': s3_location\n",
    "                },\n",
    "                'sourceType': 'S3_LOCATION'\n",
    "            }\n",
    "        }\n",
    "    }\n",
    "    \n",
    "    documents = [document]\n",
    "\n",
    "    response = bedrock_agent.ingest_knowledge_base_documents(\n",
    "        dataSourceId = data_source_id, documents = documents, knowledgeBaseId = knowledgebase_id\n",
    "    )\n",
    "    return response\n",
    "\n",
    "# now we will test uploading a single image\n",
    "def upload_image_nds(image_path, data_source_id):\n",
    "    image_bytes = pil_image_to_bytes(image_path)\n",
    "    image_bytes_data = image_bytes['data']\n",
    "    \n",
    "    random_code = generate_random_code()\n",
    "    documentIdentifier = str(random_code[0]) + str(random_code[1]) \n",
    "    document = {\n",
    "        'content': {\n",
    "            'custom': {\n",
    "                'customDocumentIdentifier': {\n",
    "                    'id': documentIdentifier\n",
    "                },\n",
    "                'inlineContent': {\n",
    "                    'byteContent': {\n",
    "                        'data': image_bytes_data,\n",
    "                        'mimeType': 'image/jpeg'\n",
    "                    },\n",
    "                    'type': 'BYTE'\n",
    "                },\n",
    "                'sourceType': 'IN_LINE'\n",
    "            },\n",
    "            'dataSourceType': 'CUSTOM',\n",
    "        }\n",
    "    }\n",
    "    documents = [document]\n",
    "\n",
    "    response = bedrock_agent.ingest_knowledge_base_documents(\n",
    "        dataSourceId = data_source_id, documents = documents, knowledgeBaseId = knowledgebase_id\n",
    "    )\n",
    "    return response"
   ]
  },
  {
   "cell_type": "code",
   "execution_count": 22,
   "id": "0cdb9969-1271-42ce-8333-df6cf57fa0af",
   "metadata": {},
   "outputs": [
    {
     "name": "stdout",
     "output_type": "stream",
     "text": [
      "{'ResponseMetadata': {'RequestId': 'afe0ff9f-8c2d-4304-aea5-0a8e80b0bcbe', 'HTTPStatusCode': 202, 'HTTPHeaders': {'date': 'Wed, 26 Feb 2025 15:46:04 GMT', 'content-type': 'application/json', 'content-length': '223', 'connection': 'keep-alive', 'x-amzn-requestid': 'afe0ff9f-8c2d-4304-aea5-0a8e80b0bcbe', 'x-amz-apigw-id': 'GmWRMGhvoAMEpxA=', 'x-amzn-trace-id': 'Root=1-67bf373a-42006299422ae94d04dcb014'}, 'RetryAttempts': 0}, 'documentDetails': [{'dataSourceId': 'G7YKZ4SMPY', 'identifier': {'custom': {'id': 'SAKJ584762960443'}, 'dataSourceType': 'CUSTOM'}, 'knowledgeBaseId': '5WYB0DMRMN', 'status': 'STARTING', 'updatedAt': datetime.datetime(2025, 2, 26, 15, 46, 4, 14441, tzinfo=tzlocal())}]}\n",
      "/home/sagemaker-user/.cache/kagglehub/datasets/hsankesara/flickr-image-dataset/versions/1/flickr30k_images/flickr30k_images/1000092795.jpg\n",
      "{'ResponseMetadata': {'RequestId': 'bc04d6e4-42e6-4b05-9b1d-ca69ac02f65e', 'HTTPStatusCode': 202, 'HTTPHeaders': {'date': 'Wed, 26 Feb 2025 15:46:11 GMT', 'content-type': 'application/json', 'content-length': '223', 'connection': 'keep-alive', 'x-amzn-requestid': 'bc04d6e4-42e6-4b05-9b1d-ca69ac02f65e', 'x-amz-apigw-id': 'GmWSQEqIoAMEo9Q=', 'x-amzn-trace-id': 'Root=1-67bf3741-53de5fa454f2fd94395af909'}, 'RetryAttempts': 0}, 'documentDetails': [{'dataSourceId': 'G7YKZ4SMPY', 'identifier': {'custom': {'id': 'OZOV584769290962'}, 'dataSourceType': 'CUSTOM'}, 'knowledgeBaseId': '5WYB0DMRMN', 'status': 'STARTING', 'updatedAt': datetime.datetime(2025, 2, 26, 15, 46, 10, 875343, tzinfo=tzlocal())}]}\n",
      "/home/sagemaker-user/.cache/kagglehub/datasets/hsankesara/flickr-image-dataset/versions/1/flickr30k_images/flickr30k_images/10002456.jpg\n",
      "{'ResponseMetadata': {'RequestId': 'f9ce69bd-c1fb-4689-9aa4-c6e4e82b0c23', 'HTTPStatusCode': 202, 'HTTPHeaders': {'date': 'Wed, 26 Feb 2025 15:46:17 GMT', 'content-type': 'application/json', 'content-length': '223', 'connection': 'keep-alive', 'x-amzn-requestid': 'f9ce69bd-c1fb-4689-9aa4-c6e4e82b0c23', 'x-amz-apigw-id': 'GmWTUHejIAMEUgg=', 'x-amzn-trace-id': 'Root=1-67bf3748-579333b144d7ae0d57d46d21'}, 'RetryAttempts': 0}, 'documentDetails': [{'dataSourceId': 'G7YKZ4SMPY', 'identifier': {'custom': {'id': 'USKG584776271209'}, 'dataSourceType': 'CUSTOM'}, 'knowledgeBaseId': '5WYB0DMRMN', 'status': 'STARTING', 'updatedAt': datetime.datetime(2025, 2, 26, 15, 46, 17, 728223, tzinfo=tzlocal())}]}\n",
      "/home/sagemaker-user/.cache/kagglehub/datasets/hsankesara/flickr-image-dataset/versions/1/flickr30k_images/flickr30k_images/1000268201.jpg\n",
      "{'ResponseMetadata': {'RequestId': 'f8f7d74d-9129-48d3-a461-837964c6ab8e', 'HTTPStatusCode': 202, 'HTTPHeaders': {'date': 'Wed, 26 Feb 2025 15:46:25 GMT', 'content-type': 'application/json', 'content-length': '223', 'connection': 'keep-alive', 'x-amzn-requestid': 'f8f7d74d-9129-48d3-a461-837964c6ab8e', 'x-amz-apigw-id': 'GmWUZF0xoAMELRg=', 'x-amzn-trace-id': 'Root=1-67bf374e-692a19236db1093047149731'}, 'RetryAttempts': 0}, 'documentDetails': [{'dataSourceId': 'G7YKZ4SMPY', 'identifier': {'custom': {'id': 'KYZV584782819062'}, 'dataSourceType': 'CUSTOM'}, 'knowledgeBaseId': '5WYB0DMRMN', 'status': 'STARTING', 'updatedAt': datetime.datetime(2025, 2, 26, 15, 46, 24, 817730, tzinfo=tzlocal())}]}\n",
      "/home/sagemaker-user/.cache/kagglehub/datasets/hsankesara/flickr-image-dataset/versions/1/flickr30k_images/flickr30k_images/1000344755.jpg\n",
      "{'ResponseMetadata': {'RequestId': '9555b2e2-6e5d-45ef-9702-8fbed4df4d4c', 'HTTPStatusCode': 202, 'HTTPHeaders': {'date': 'Wed, 26 Feb 2025 15:46:32 GMT', 'content-type': 'application/json', 'content-length': '223', 'connection': 'keep-alive', 'x-amzn-requestid': '9555b2e2-6e5d-45ef-9702-8fbed4df4d4c', 'x-amz-apigw-id': 'GmWVgH-UoAMEHaA=', 'x-amzn-trace-id': 'Root=1-67bf3756-39057ed86154e890490aea1b'}, 'RetryAttempts': 0}, 'documentDetails': [{'dataSourceId': 'G7YKZ4SMPY', 'identifier': {'custom': {'id': 'ZROE584790223188'}, 'dataSourceType': 'CUSTOM'}, 'knowledgeBaseId': '5WYB0DMRMN', 'status': 'STARTING', 'updatedAt': datetime.datetime(2025, 2, 26, 15, 46, 31, 951141, tzinfo=tzlocal())}]}\n",
      "/home/sagemaker-user/.cache/kagglehub/datasets/hsankesara/flickr-image-dataset/versions/1/flickr30k_images/flickr30k_images/1000366164.jpg\n",
      "{'ResponseMetadata': {'RequestId': '62dca08f-3072-4925-9742-225b41e70641', 'HTTPStatusCode': 202, 'HTTPHeaders': {'date': 'Wed, 26 Feb 2025 15:46:39 GMT', 'content-type': 'application/json', 'content-length': '223', 'connection': 'keep-alive', 'x-amzn-requestid': '62dca08f-3072-4925-9742-225b41e70641', 'x-amz-apigw-id': 'GmWWmEUtIAMEETw=', 'x-amzn-trace-id': 'Root=1-67bf375d-40d8546977c05fbe010d8fcf'}, 'RetryAttempts': 0}, 'documentDetails': [{'dataSourceId': 'G7YKZ4SMPY', 'identifier': {'custom': {'id': 'SVFS584797690805'}, 'dataSourceType': 'CUSTOM'}, 'knowledgeBaseId': '5WYB0DMRMN', 'status': 'STARTING', 'updatedAt': datetime.datetime(2025, 2, 26, 15, 46, 38, 847930, tzinfo=tzlocal())}]}\n",
      "/home/sagemaker-user/.cache/kagglehub/datasets/hsankesara/flickr-image-dataset/versions/1/flickr30k_images/flickr30k_images/1000523639.jpg\n",
      "{'ResponseMetadata': {'RequestId': '7bd906fe-a6dd-4b8f-bb28-ccd14721f999', 'HTTPStatusCode': 202, 'HTTPHeaders': {'date': 'Wed, 26 Feb 2025 15:46:46 GMT', 'content-type': 'application/json', 'content-length': '223', 'connection': 'keep-alive', 'x-amzn-requestid': '7bd906fe-a6dd-4b8f-bb28-ccd14721f999', 'x-amz-apigw-id': 'GmWXsGPWoAMEQaQ=', 'x-amzn-trace-id': 'Root=1-67bf3764-1f14ec997533e28a6fa3da48'}, 'RetryAttempts': 0}, 'documentDetails': [{'dataSourceId': 'G7YKZ4SMPY', 'identifier': {'custom': {'id': 'NEOG584804619507'}, 'dataSourceType': 'CUSTOM'}, 'knowledgeBaseId': '5WYB0DMRMN', 'status': 'STARTING', 'updatedAt': datetime.datetime(2025, 2, 26, 15, 46, 45, 875886, tzinfo=tzlocal())}]}\n",
      "/home/sagemaker-user/.cache/kagglehub/datasets/hsankesara/flickr-image-dataset/versions/1/flickr30k_images/flickr30k_images/1000919630.jpg\n",
      "{'ResponseMetadata': {'RequestId': 'e2f020ef-f041-432b-a3af-890c834033f3', 'HTTPStatusCode': 202, 'HTTPHeaders': {'date': 'Wed, 26 Feb 2025 15:46:52 GMT', 'content-type': 'application/json', 'content-length': '223', 'connection': 'keep-alive', 'x-amzn-requestid': 'e2f020ef-f041-432b-a3af-890c834033f3', 'x-amz-apigw-id': 'GmWYyEKoIAMEkfw=', 'x-amzn-trace-id': 'Root=1-67bf376b-3ead71b96051b0db232da739'}, 'RetryAttempts': 0}, 'documentDetails': [{'dataSourceId': 'G7YKZ4SMPY', 'identifier': {'custom': {'id': 'YLGR584811115810'}, 'dataSourceType': 'CUSTOM'}, 'knowledgeBaseId': '5WYB0DMRMN', 'status': 'STARTING', 'updatedAt': datetime.datetime(2025, 2, 26, 15, 46, 52, 748502, tzinfo=tzlocal())}]}\n",
      "/home/sagemaker-user/.cache/kagglehub/datasets/hsankesara/flickr-image-dataset/versions/1/flickr30k_images/flickr30k_images/10010052.jpg\n",
      "{'ResponseMetadata': {'RequestId': 'b5efcd8b-f323-48b0-92e3-ada64723d3cb', 'HTTPStatusCode': 202, 'HTTPHeaders': {'date': 'Wed, 26 Feb 2025 15:46:59 GMT', 'content-type': 'application/json', 'content-length': '223', 'connection': 'keep-alive', 'x-amzn-requestid': 'b5efcd8b-f323-48b0-92e3-ada64723d3cb', 'x-amz-apigw-id': 'GmWZ3HC-IAMELWQ=', 'x-amzn-trace-id': 'Root=1-67bf3771-2d35db7f5ffee1973f75eda8'}, 'RetryAttempts': 0}, 'documentDetails': [{'dataSourceId': 'G7YKZ4SMPY', 'identifier': {'custom': {'id': 'JOXA584817945169'}, 'dataSourceType': 'CUSTOM'}, 'knowledgeBaseId': '5WYB0DMRMN', 'status': 'STARTING', 'updatedAt': datetime.datetime(2025, 2, 26, 15, 46, 59, 667265, tzinfo=tzlocal())}]}\n",
      "/home/sagemaker-user/.cache/kagglehub/datasets/hsankesara/flickr-image-dataset/versions/1/flickr30k_images/flickr30k_images/1001465944.jpg\n",
      "{'ResponseMetadata': {'RequestId': 'a222a195-aad9-4d70-a49a-435093e6985d', 'HTTPStatusCode': 202, 'HTTPHeaders': {'date': 'Wed, 26 Feb 2025 15:47:06 GMT', 'content-type': 'application/json', 'content-length': '223', 'connection': 'keep-alive', 'x-amzn-requestid': 'a222a195-aad9-4d70-a49a-435093e6985d', 'x-amz-apigw-id': 'GmWa8FL7oAMEIWg=', 'x-amzn-trace-id': 'Root=1-67bf3778-3ec0dafb7f4d81114265b303'}, 'RetryAttempts': 0}, 'documentDetails': [{'dataSourceId': 'G7YKZ4SMPY', 'identifier': {'custom': {'id': 'MRZY584824944624'}, 'dataSourceType': 'CUSTOM'}, 'knowledgeBaseId': '5WYB0DMRMN', 'status': 'STARTING', 'updatedAt': datetime.datetime(2025, 2, 26, 15, 47, 6, 366237, tzinfo=tzlocal())}]}\n",
      "/home/sagemaker-user/.cache/kagglehub/datasets/hsankesara/flickr-image-dataset/versions/1/flickr30k_images/flickr30k_images/1001545525.jpg\n"
     ]
    }
   ],
   "source": [
    "counter = 0\n",
    "for filename in os.listdir(path):\n",
    "    if counter == 10:\n",
    "        break\n",
    "    image_path = path + \"/\" + filename\n",
    "    upload_response = upload_image_nds(image_path, new_data_source)\n",
    "    print(upload_response)\n",
    "    timer = 0\n",
    "    time.sleep(5)\n",
    "    print(image_path)\n",
    "    counter +=1"
   ]
  },
  {
   "cell_type": "code",
   "execution_count": 23,
   "id": "b9cff5f4-407b-41f2-90b2-25b74602fa8e",
   "metadata": {},
   "outputs": [],
   "source": [
    "# uploads are failing manually apparently so I will attempt to upload the image using s3 source"
   ]
  },
  {
   "cell_type": "code",
   "execution_count": 28,
   "id": "6feec1d5-e4e8-4c5f-8a03-38a8e5e2afd2",
   "metadata": {},
   "outputs": [],
   "source": [
    "s3_response = s3_upload_image_nds('s3://mainbucketrockhight5461/test/knowledge-bases/documentacion.txt', new_data_source)"
   ]
  },
  {
   "cell_type": "code",
   "execution_count": 29,
   "id": "446386c6-c525-4f2c-be70-b668cd553042",
   "metadata": {},
   "outputs": [
    {
     "name": "stdout",
     "output_type": "stream",
     "text": [
      "{'ResponseMetadata': {'RequestId': '17d28391-4558-471f-9dca-a392434df23d', 'HTTPStatusCode': 202, 'HTTPHeaders': {'date': 'Wed, 26 Feb 2025 15:51:06 GMT', 'content-type': 'application/json', 'content-length': '223', 'connection': 'keep-alive', 'x-amzn-requestid': '17d28391-4558-471f-9dca-a392434df23d', 'x-amz-apigw-id': 'GmXAZHGvoAMENeQ=', 'x-amzn-trace-id': 'Root=1-67bf3868-1435b7b73058e3901ae518c3'}, 'RetryAttempts': 0}, 'documentDetails': [{'dataSourceId': 'G7YKZ4SMPY', 'identifier': {'custom': {'id': 'CYIA585064842622'}, 'dataSourceType': 'CUSTOM'}, 'knowledgeBaseId': '5WYB0DMRMN', 'status': 'STARTING', 'updatedAt': datetime.datetime(2025, 2, 26, 15, 51, 6, 198482, tzinfo=tzlocal())}]}\n"
     ]
    }
   ],
   "source": [
    "print(s3_response)"
   ]
  },
  {
   "cell_type": "code",
   "execution_count": 33,
   "id": "1c2c077e-ef20-4a54-8960-79a7a07d0c16",
   "metadata": {},
   "outputs": [],
   "source": [
    "# now we will attempt to upload txt files and json files inline\n",
    "\n",
    "def text_to_bytes(file_path, encoding='utf-8'):\n",
    "    try:\n",
    "        with open(file_path, 'r', encoding=encoding) as file:\n",
    "            content = file.read()\n",
    "        return content.encode(encoding)\n",
    "    except Exception as e:\n",
    "        print(f\"Error reading file: {e}\")\n",
    "        return None\n",
    "\n",
    "def upload_txt_custom(text_path, data_source_id, mime_type):\n",
    "    bytes_data = text_to_bytes(text_path)\n",
    "    \n",
    "    random_code = generate_random_code()\n",
    "    documentIdentifier = str(random_code[0]) + str(random_code[1]) \n",
    "    document = {\n",
    "        'content': {\n",
    "            'custom': {\n",
    "                'customDocumentIdentifier': {\n",
    "                    'id': documentIdentifier\n",
    "                },\n",
    "                'inlineContent': {\n",
    "                    'byteContent': {\n",
    "                        'data': bytes_data,\n",
    "                        'mimeType': mime_type\n",
    "                    },\n",
    "                    'type': 'BYTE'\n",
    "                },\n",
    "                'sourceType': 'IN_LINE'\n",
    "            },\n",
    "            'dataSourceType': 'CUSTOM',\n",
    "        }\n",
    "    }\n",
    "    documents = [document]\n",
    "\n",
    "    response = bedrock_agent.ingest_knowledge_base_documents(\n",
    "        dataSourceId = data_source_id, documents = documents, knowledgeBaseId = knowledgebase_id\n",
    "    )\n",
    "    return response"
   ]
  },
  {
   "cell_type": "code",
   "execution_count": 34,
   "id": "f21dfaa3-69cd-4312-acc4-5eec7993bb13",
   "metadata": {},
   "outputs": [],
   "source": [
    "mime_type = \"text/plain\""
   ]
  },
  {
   "cell_type": "code",
   "execution_count": 37,
   "id": "aaf70626-ee26-410a-9152-17eba166975b",
   "metadata": {},
   "outputs": [],
   "source": [
    "file = \"/home/sagemaker-user/user-default-efs/documents/mygithub/aws-samples/bedrock/miscelanious/test.txt\""
   ]
  },
  {
   "cell_type": "code",
   "execution_count": 39,
   "id": "8236cda6-8bcd-4050-abd1-857de503d987",
   "metadata": {},
   "outputs": [],
   "source": [
    "file_response = upload_txt_custom(file, new_data_source, mime_type)"
   ]
  },
  {
   "cell_type": "code",
   "execution_count": 40,
   "id": "72b7583f-ce91-4dab-a161-3ab0a66f492a",
   "metadata": {},
   "outputs": [
    {
     "name": "stdout",
     "output_type": "stream",
     "text": [
      "{'ResponseMetadata': {'RequestId': '7e1b8558-fe10-4b13-802f-fcc5f66eaeea', 'HTTPStatusCode': 202, 'HTTPHeaders': {'date': 'Wed, 26 Feb 2025 16:07:08 GMT', 'content-type': 'application/json', 'content-length': '223', 'connection': 'keep-alive', 'x-amzn-requestid': '7e1b8558-fe10-4b13-802f-fcc5f66eaeea', 'x-amz-apigw-id': 'GmZWuEhHoAMEsqg=', 'x-amzn-trace-id': 'Root=1-67bf3c2a-6522f2945fc8998472b8d1fc'}, 'RetryAttempts': 0}, 'documentDetails': [{'dataSourceId': 'G7YKZ4SMPY', 'identifier': {'custom': {'id': 'XXDL586026923417'}, 'dataSourceType': 'CUSTOM'}, 'knowledgeBaseId': '5WYB0DMRMN', 'status': 'STARTING', 'updatedAt': datetime.datetime(2025, 2, 26, 16, 7, 8, 532765, tzinfo=tzlocal())}]}\n"
     ]
    }
   ],
   "source": [
    "print(file_response)"
   ]
  }
 ],
 "metadata": {
  "kernelspec": {
   "display_name": "Python 3 (ipykernel)",
   "language": "python",
   "name": "python3"
  },
  "language_info": {
   "codemirror_mode": {
    "name": "ipython",
    "version": 3
   },
   "file_extension": ".py",
   "mimetype": "text/x-python",
   "name": "python",
   "nbconvert_exporter": "python",
   "pygments_lexer": "ipython3",
   "version": "3.11.11"
  }
 },
 "nbformat": 4,
 "nbformat_minor": 5
}
