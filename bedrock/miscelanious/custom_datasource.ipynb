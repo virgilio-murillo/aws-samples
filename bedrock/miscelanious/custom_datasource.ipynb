{
 "cells": [
  {
   "cell_type": "code",
   "execution_count": 1,
   "id": "e3061708-1a5a-4f18-8bdd-1fdb84573436",
   "metadata": {},
   "outputs": [],
   "source": [
    "import os\n",
    "import boto3\n",
    "from config import *\n",
    "import base64"
   ]
  },
  {
   "cell_type": "code",
   "execution_count": 2,
   "id": "0dd2e1aa-094c-4d88-af02-b8516737764e",
   "metadata": {},
   "outputs": [
    {
     "name": "stdout",
     "output_type": "stream",
     "text": [
      "1.37.4\n"
     ]
    }
   ],
   "source": [
    "print(boto3.__version__)"
   ]
  },
  {
   "cell_type": "code",
   "execution_count": 3,
   "id": "3eb25aae-81ef-4b2e-a594-030056747c5f",
   "metadata": {},
   "outputs": [],
   "source": [
    "bedrock_agent = boto3.Session().client('bedrock-agent')"
   ]
  },
  {
   "cell_type": "code",
   "execution_count": 4,
   "id": "8092479b-26fd-431d-8f97-b12838ba1713",
   "metadata": {},
   "outputs": [
    {
     "name": "stdout",
     "output_type": "stream",
     "text": [
      "/home/sagemaker-user/.cache/kagglehub/datasets/hsankesara/flickr-image-dataset/versions/1/flickr30k_images/flickr30k_images\n"
     ]
    }
   ],
   "source": [
    "path = \"/home/sagemaker-user/.cache/kagglehub/datasets/hsankesara/flickr-image-dataset/versions/1/flickr30k_images/flickr30k_images\"\n",
    "print(path)"
   ]
  },
  {
   "cell_type": "code",
   "execution_count": 5,
   "id": "adfa4cc5-e020-4962-9968-d429efd5b0f9",
   "metadata": {
    "scrolled": true
   },
   "outputs": [
    {
     "name": "stdout",
     "output_type": "stream",
     "text": [
      "0th == 1000092795.jpg\n",
      "1000th == 131624221.jpg\n",
      "2000th == 1572286502.jpg\n",
      "3000th == 2037264035.jpg\n",
      "4000th == 2201202388.jpg\n",
      "5000th == 233242340.jpg\n",
      "6000th == 2450486758.jpg\n",
      "7000th == 2573009825.jpg\n",
      "8000th == 2705102979.jpg\n",
      "9000th == 2834032170.jpg\n",
      "10000th == 2954929479.jpg\n",
      "11000th == 3085592876.jpg\n",
      "12000th == 3201065069.jpg\n",
      "13000th == 3315323307.jpg\n",
      "14000th == 3424424006.jpg\n",
      "15000th == 3533145793.jpg\n",
      "16000th == 3643974707.jpg\n",
      "17000th == 378453580.jpg\n",
      "18000th == 4011411161.jpg\n",
      "19000th == 4273698621.jpg\n",
      "20000th == 4464227525.jpg\n",
      "21000th == 4575727965.jpg\n",
      "22000th == 4676717700.jpg\n",
      "23000th == 4752984291.jpg\n",
      "24000th == 4830307454.jpg\n",
      "25000th == 491484504.jpg\n",
      "26000th == 503357436.jpg\n",
      "27000th == 5447844412.jpg\n",
      "28000th == 6041156608.jpg\n",
      "29000th == 67491882.jpg\n",
      "30000th == 7283335868.jpg\n",
      "31000th == 80474519.jpg\n"
     ]
    }
   ],
   "source": [
    "counter = 0\n",
    "for filename in os.listdir(path):\n",
    "    if counter %1000 == 0:\n",
    "        print(f\"{counter}th == {filename}\")\n",
    "    counter +=1"
   ]
  },
  {
   "cell_type": "code",
   "execution_count": 6,
   "id": "a107677d-924b-4aef-b01e-87e20023e8b9",
   "metadata": {},
   "outputs": [],
   "source": [
    "# If you're using PIL/Pillow Image object\n",
    "import io\n",
    "import base64"
   ]
  },
  {
   "cell_type": "code",
   "execution_count": 8,
   "id": "74dd742b-7d07-482e-8886-f27b8317fe62",
   "metadata": {},
   "outputs": [],
   "source": [
    "## updated this section\n",
    "def image_to_bytes(image_path):\n",
    "    with open(image_path, \"rb\") as image_file:\n",
    "        # Read the file content\n",
    "        binary_data = image_file.read()\n",
    "        # Encode the binary data to base64\n",
    "        base64_encoded = base64.b64encode(binary_data)\n",
    "        # Convert bytes to string\n",
    "        base64_string = base64_encoded.decode('utf-8')     #  <---- adding this step\n",
    "    return {'data': base64_string}"
   ]
  },
  {
   "cell_type": "code",
   "execution_count": 9,
   "id": "896f6d48-92af-48f1-939e-51aa6654f73e",
   "metadata": {},
   "outputs": [],
   "source": [
    "## example usage\n",
    "image_path = path + '/1314231418.jpg'\n",
    "image_bytes = image_to_bytes(image_path)\n",
    "image_bytes_data = image_bytes['data']"
   ]
  },
  {
   "cell_type": "code",
   "execution_count": 10,
   "id": "988e6f51-484d-4e1f-a1f1-46ba3214755a",
   "metadata": {},
   "outputs": [
    {
     "name": "stdout",
     "output_type": "stream",
     "text": [
      "<class 'str'>\n"
     ]
    }
   ],
   "source": [
    "print(type(image_bytes['data']))"
   ]
  },
  {
   "cell_type": "code",
   "execution_count": 11,
   "id": "50812f53-a7cc-48eb-ade9-54400cf900b0",
   "metadata": {},
   "outputs": [],
   "source": [
    "import random\n",
    "import string\n",
    "import time"
   ]
  },
  {
   "cell_type": "code",
   "execution_count": 12,
   "id": "fd4ae751-4c8f-43b8-9d97-3817c3da9173",
   "metadata": {},
   "outputs": [],
   "source": [
    "def generate_random_code():\n",
    "    # Generate 4 random characters (uppercase letters)\n",
    "    characters = ''.join(random.choices(string.ascii_uppercase, k=4))\n",
    "    \n",
    "    # Generate 12 digit number combining timestamp and random numbers\n",
    "    timestamp = str(int(time.time()))\n",
    "    random_digits = ''.join(random.choices(string.digits, k=6))\n",
    "    number = (timestamp + random_digits)[-12:]  # Ensure 12 digits\n",
    "    \n",
    "    return characters, number"
   ]
  },
  {
   "cell_type": "code",
   "execution_count": 15,
   "id": "1a8ad9d9-7302-4895-bbdd-ee98179e6b04",
   "metadata": {},
   "outputs": [],
   "source": [
    "# now we will test uploading a single image\n",
    "def upload_image(image_path):\n",
    "    image_bytes = image_to_bytes(image_path)\n",
    "    image_bytes_data = image_bytes['data']\n",
    "    \n",
    "    random_code = generate_random_code()\n",
    "    documentIdentifier = str(random_code[0]) + str(random_code[1]) \n",
    "    document = {\n",
    "        'content': {\n",
    "            'custom': {\n",
    "                'customDocumentIdentifier': {\n",
    "                    'id': documentIdentifier\n",
    "                },\n",
    "                'inlineContent': {\n",
    "                    'byteContent': {\n",
    "                        'data': image_bytes_data,\n",
    "                        'mimeType': 'image/jpeg'\n",
    "                    },\n",
    "                    'type': 'BYTE'\n",
    "                },\n",
    "                'sourceType': 'IN_LINE'\n",
    "            },\n",
    "            'dataSourceType': 'CUSTOM',\n",
    "        }\n",
    "    }\n",
    "    documents = [document]\n",
    "\n",
    "    response = bedrock_agent.ingest_knowledge_base_documents(\n",
    "        dataSourceId = data_source_id, documents = documents, knowledgeBaseId = knowledgebase_id\n",
    "    )\n",
    "    return response"
   ]
  },
  {
   "cell_type": "code",
   "execution_count": 16,
   "id": "8a172c25-b25a-4f3f-a49f-6428007bc159",
   "metadata": {},
   "outputs": [
    {
     "name": "stdout",
     "output_type": "stream",
     "text": [
      " --- Updload response\n",
      "{'ResponseMetadata': {'RequestId': 'deef53fd-b0c2-4119-ac17-3a1b4ebb1d60', 'HTTPStatusCode': 202, 'HTTPHeaders': {'date': 'Tue, 04 Mar 2025 16:55:39 GMT', 'content-type': 'application/json', 'content-length': '223', 'connection': 'keep-alive', 'x-amzn-requestid': 'deef53fd-b0c2-4119-ac17-3a1b4ebb1d60', 'x-amz-apigw-id': 'G6SFiG0bIAMEH-A=', 'x-amzn-trace-id': 'Root=1-67c73089-1be35aae430539205cc773f6'}, 'RetryAttempts': 0}, 'documentDetails': [{'dataSourceId': 'E3NRB1GDE0', 'identifier': {'custom': {'id': 'ZRVX107337149534'}, 'dataSourceType': 'CUSTOM'}, 'knowledgeBaseId': '5WYB0DMRMN', 'status': 'STARTING', 'updatedAt': datetime.datetime(2025, 3, 4, 16, 55, 39, 362377, tzinfo=tzlocal())}]}\n",
      " --- \n",
      "/home/sagemaker-user/.cache/kagglehub/datasets/hsankesara/flickr-image-dataset/versions/1/flickr30k_images/flickr30k_images/1000092795.jpg\n",
      " --- Updload response\n",
      "{'ResponseMetadata': {'RequestId': 'be7bc7d3-245f-47eb-82ca-360edeba1097', 'HTTPStatusCode': 202, 'HTTPHeaders': {'date': 'Tue, 04 Mar 2025 16:55:51 GMT', 'content-type': 'application/json', 'content-length': '223', 'connection': 'keep-alive', 'x-amzn-requestid': 'be7bc7d3-245f-47eb-82ca-360edeba1097', 'x-amz-apigw-id': 'G6SHbFAWIAMERBQ=', 'x-amzn-trace-id': 'Root=1-67c73095-60d88b222faf88580fd65773'}, 'RetryAttempts': 0}, 'documentDetails': [{'dataSourceId': 'E3NRB1GDE0', 'identifier': {'custom': {'id': 'AQDD107349321931'}, 'dataSourceType': 'CUSTOM'}, 'knowledgeBaseId': '5WYB0DMRMN', 'status': 'STARTING', 'updatedAt': datetime.datetime(2025, 3, 4, 16, 55, 51, 225032, tzinfo=tzlocal())}]}\n",
      " --- \n",
      "/home/sagemaker-user/.cache/kagglehub/datasets/hsankesara/flickr-image-dataset/versions/1/flickr30k_images/flickr30k_images/10002456.jpg\n",
      " --- Updload response\n",
      "{'ResponseMetadata': {'RequestId': '9b41dc5a-2735-4cca-9bcc-33ad77e6b088', 'HTTPStatusCode': 202, 'HTTPHeaders': {'date': 'Tue, 04 Mar 2025 16:56:03 GMT', 'content-type': 'application/json', 'content-length': '223', 'connection': 'keep-alive', 'x-amzn-requestid': '9b41dc5a-2735-4cca-9bcc-33ad77e6b088', 'x-amz-apigw-id': 'G6SJSFjRoAMEUfw=', 'x-amzn-trace-id': 'Root=1-67c730a1-20e52adc102403105554883a'}, 'RetryAttempts': 0}, 'documentDetails': [{'dataSourceId': 'E3NRB1GDE0', 'identifier': {'custom': {'id': 'VREW107361712815'}, 'dataSourceType': 'CUSTOM'}, 'knowledgeBaseId': '5WYB0DMRMN', 'status': 'STARTING', 'updatedAt': datetime.datetime(2025, 3, 4, 16, 56, 3, 373858, tzinfo=tzlocal())}]}\n",
      " --- \n",
      "/home/sagemaker-user/.cache/kagglehub/datasets/hsankesara/flickr-image-dataset/versions/1/flickr30k_images/flickr30k_images/1000268201.jpg\n"
     ]
    }
   ],
   "source": [
    "### inline upload\n",
    "counter = 0\n",
    "for filename in os.listdir(path):\n",
    "    if counter == 3:\n",
    "        break\n",
    "    image_path = path + \"/\" + filename\n",
    "    upload_response = upload_image(image_path)\n",
    "    timer = 0\n",
    "    print(\" --- Updload response\")\n",
    "    print(upload_response)\n",
    "    print(\" --- \")\n",
    "    while timer < 10:\n",
    "        time.sleep(1)\n",
    "        timer +=1\n",
    "    print(image_path)\n",
    "    counter +=1"
   ]
  },
  {
   "cell_type": "markdown",
   "id": "461797e8-ec68-40d8-9c32-6f39cb403949",
   "metadata": {},
   "source": [
    "I was getting logs of this kind\n",
    "```\n",
    "{\n",
    "    \"event_timestamp\": 1740509325142,\n",
    "    \"event\": {\n",
    "        \"document_location\": {\n",
    "            \"customDocument_location\": {\n",
    "                \"id\": \"***\"\n",
    "            },\n",
    "            \"type\": \"CUSTOM\"\n",
    "        },\n",
    "        \"request_id\": \"********\",\n",
    "        \"data_source_id\": \"********\",\n",
    "        \"status_reasons\": [\n",
    "            \"Resource not processed due to a service exception. Please reach out to Amazon Bedrock technical support team for further assistance, or contact technical support at aws.amazon.com/contact-us/.\"\n",
    "        ],\n",
    "        \"knowledge_base_arn\": \"arn:aws:bedrock:us-east-1:**********:knowledge-base/********\",\n",
    "        \"status\": \"RESOURCE_IGNORED\"\n",
    "    },\n",
    "    \"event_version\": \"1.0\",\n",
    "    \"event_type\": \"IngestKnowledgeBaseDocuments.ResourceStatusChanged\",\n",
    "    \"level\": \"WARN\"\n",
    "}\n",
    "```\n",
    "\n",
    "now I am getting this error:\n",
    "\n",
    "```\n",
    "{\n",
    "    \"event_timestamp\": 1741107340497,\n",
    "    \"event\": {\n",
    "        \"document_location\": {\n",
    "            \"customDocument_location\": {\n",
    "                \"id\": \"**********\"\n",
    "            },\n",
    "            \"type\": \"CUSTOM\"\n",
    "        },\n",
    "        \"request_id\": \"*********\",\n",
    "        \"data_source_id\": \"*******\",\n",
    "        \"status_reasons\": [\n",
    "            \"The server encountered an internal error while processing the request.\"\n",
    "        ],\n",
    "        \"knowledge_base_arn\": \"arn:aws:bedrock:us-east-1:794038231401:knowledge-base/5WYB0DMRMN\",\n",
    "        \"status\": \"RESOURCE_IGNORED\"\n",
    "    },\n",
    "    \"event_version\": \"1.0\",\n",
    "    \"event_type\": \"IngestKnowledgeBaseDocuments.ResourceStatusChanged\",\n",
    "    \"level\": \"ERROR\"\n",
    "}\n",
    "```\n",
    "\n",
    "uploading 6 GB of data will take an excesive amount of time and resources to test. For instance, when I first attempted to upload a 17 MB pdf file (the bedrock user guide actually) which contains more than 2500 pages, It was taking longer than 8 hours and I had to stop the test for that reason. Hence uploading 6 GB of data will take 118 days."
   ]
  },
  {
   "cell_type": "code",
   "execution_count": 15,
   "id": "0fb25b06-2926-404a-a00e-65d7e31fe4ac",
   "metadata": {},
   "outputs": [],
   "source": [
    "s3_location = 's3://mainbucketrockhight5461/test/knowledge-bases/direct_KB_upload/1image/371897.jpg'"
   ]
  },
  {
   "cell_type": "code",
   "execution_count": 16,
   "id": "ecab9097-5c65-4a78-b5d4-b94bfdf80e40",
   "metadata": {},
   "outputs": [],
   "source": [
    "# I will attempt to upload the images using s3 direct upload to custom source\n",
    "def s3_upload_image(s3_location):\n",
    "    \n",
    "    random_code = generate_random_code()\n",
    "    documentIdentifier = str(random_code[0]) + str(random_code[1]) \n",
    "    document = { \n",
    "        'content':{\n",
    "            'dataSourceType': 'CUSTOM',\n",
    "            'custom':{\n",
    "                'customDocumentIdentifier': {\n",
    "                    'id': documentIdentifier\n",
    "                },\n",
    "                's3Location': {\n",
    "                    'bucketOwnerAccountId': bucket_owner_account,\n",
    "                    'uri': s3_location\n",
    "                },\n",
    "                'sourceType': 'S3_LOCATION'\n",
    "            }\n",
    "        }\n",
    "    }\n",
    "    print(documentIdentifier)\n",
    "    \n",
    "    documents = [document]\n",
    "\n",
    "    response = bedrock_agent.ingest_knowledge_base_documents(\n",
    "        dataSourceId = data_source_id, documents = documents, knowledgeBaseId = knowledgebase_id\n",
    "    )\n",
    "    return response"
   ]
  },
  {
   "cell_type": "code",
   "execution_count": 17,
   "id": "fa24e1ee-e706-4395-8edf-0721c0e1301e",
   "metadata": {},
   "outputs": [
    {
     "name": "stdout",
     "output_type": "stream",
     "text": [
      "DZAW035522177445\n"
     ]
    }
   ],
   "source": [
    "s3_upload_response = s3_upload_image(s3_location)"
   ]
  },
  {
   "cell_type": "code",
   "execution_count": 18,
   "id": "dd334a9b-855f-46b2-8f1f-21491692fb1d",
   "metadata": {},
   "outputs": [
    {
     "name": "stdout",
     "output_type": "stream",
     "text": [
      "{'ResponseMetadata': {'RequestId': '7b6d842a-524b-4f0a-89a8-7aec2c7523fa', 'HTTPStatusCode': 202, 'HTTPHeaders': {'date': 'Mon, 03 Mar 2025 20:58:44 GMT', 'content-type': 'application/json', 'content-length': '223', 'connection': 'keep-alive', 'x-amzn-requestid': '7b6d842a-524b-4f0a-89a8-7aec2c7523fa', 'x-amz-apigw-id': 'G3iwfEN-IAMETmw=', 'x-amzn-trace-id': 'Root=1-67c61802-60421cfa7f48efec383fcb90'}, 'RetryAttempts': 0}, 'documentDetails': [{'dataSourceId': 'E3NRB1GDE0', 'identifier': {'custom': {'id': 'DZAW035522177445'}, 'dataSourceType': 'CUSTOM'}, 'knowledgeBaseId': '5WYB0DMRMN', 'status': 'STARTING', 'updatedAt': datetime.datetime(2025, 3, 3, 20, 58, 44, 237544, tzinfo=tzlocal())}]}\n"
     ]
    }
   ],
   "source": [
    "print(s3_upload_response)"
   ]
  },
  {
   "cell_type": "code",
   "execution_count": 19,
   "id": "ca03356b-cb21-490e-acc8-e37933af8a8c",
   "metadata": {},
   "outputs": [
    {
     "name": "stdout",
     "output_type": "stream",
     "text": [
      "DAAE035643656445\n"
     ]
    }
   ],
   "source": [
    "# the request failed, I will test now using a json file\n",
    "s3_response = s3_upload_image('s3://mainbucketrockhight5461/test/documentation/bedrock-user-guide.pdf.metadata.json')"
   ]
  },
  {
   "cell_type": "code",
   "execution_count": 20,
   "id": "8afe2a4d-4ac9-49f8-a6f9-a60ba587e3eb",
   "metadata": {},
   "outputs": [
    {
     "name": "stdout",
     "output_type": "stream",
     "text": [
      "{'ResponseMetadata': {'RequestId': 'cb6a6faa-d6fe-4bed-936f-5b38200095f4', 'HTTPStatusCode': 202, 'HTTPHeaders': {'date': 'Mon, 03 Mar 2025 21:00:45 GMT', 'content-type': 'application/json', 'content-length': '223', 'connection': 'keep-alive', 'x-amzn-requestid': 'cb6a6faa-d6fe-4bed-936f-5b38200095f4', 'x-amz-apigw-id': 'G3jDXGFGIAMEQpw=', 'x-amzn-trace-id': 'Root=1-67c6187b-29acb6a27f7996755d87598e'}, 'RetryAttempts': 0}, 'documentDetails': [{'dataSourceId': 'E3NRB1GDE0', 'identifier': {'custom': {'id': 'DAAE035643656445'}, 'dataSourceType': 'CUSTOM'}, 'knowledgeBaseId': '5WYB0DMRMN', 'status': 'STARTING', 'updatedAt': datetime.datetime(2025, 3, 3, 21, 0, 45, 212667, tzinfo=tzlocal())}]}\n"
     ]
    }
   ],
   "source": [
    "print(s3_response)"
   ]
  },
  {
   "cell_type": "code",
   "execution_count": 22,
   "id": "4e858623-b81f-40da-8715-e03ea70c4958",
   "metadata": {},
   "outputs": [],
   "source": [
    "## I think the ingestions might be failing because we already reached the limit actually. So I will attempt with a new knowledge base"
   ]
  },
  {
   "cell_type": "code",
   "execution_count": 21,
   "id": "0fcd0709-e6c5-4e72-9eb8-f6b1848c3cff",
   "metadata": {},
   "outputs": [],
   "source": [
    "# I will attempt to upload the images using s3 direct upload to custom source\n",
    "def s3_upload_image_nds(s3_location, data_source_id):\n",
    "    \n",
    "    random_code = generate_random_code()\n",
    "    documentIdentifier = str(random_code[0]) + str(random_code[1]) \n",
    "    document = { \n",
    "        'content':{\n",
    "            'dataSourceType': 'CUSTOM',\n",
    "            'custom':{\n",
    "                'customDocumentIdentifier': {\n",
    "                    'id': documentIdentifier\n",
    "                },\n",
    "                's3Location': {\n",
    "                    'bucketOwnerAccountId': bucket_owner_account,\n",
    "                    'uri': s3_location\n",
    "                },\n",
    "                'sourceType': 'S3_LOCATION'\n",
    "            }\n",
    "        }\n",
    "    }\n",
    "    \n",
    "    documents = [document]\n",
    "\n",
    "    response = bedrock_agent.ingest_knowledge_base_documents(\n",
    "        dataSourceId = data_source_id, documents = documents, knowledgeBaseId = knowledgebase_id\n",
    "    )\n",
    "    return response\n",
    "\n",
    "# now we will test uploading a single image\n",
    "def upload_image_nds(image_path, data_source_id):\n",
    "    image_bytes = pil_image_to_bytes(image_path)\n",
    "    image_bytes_data = image_bytes['data']\n",
    "    \n",
    "    random_code = generate_random_code()\n",
    "    documentIdentifier = str(random_code[0]) + str(random_code[1]) \n",
    "    document = {\n",
    "        'content': {\n",
    "            'custom': {\n",
    "                'customDocumentIdentifier': {\n",
    "                    'id': documentIdentifier\n",
    "                },\n",
    "                'inlineContent': {\n",
    "                    'byteContent': {\n",
    "                        'data': image_bytes_data,\n",
    "                        'mimeType': 'image/jpeg'\n",
    "                    },\n",
    "                    'type': 'BYTE'\n",
    "                },\n",
    "                'sourceType': 'IN_LINE'\n",
    "            },\n",
    "            'dataSourceType': 'CUSTOM',\n",
    "        }\n",
    "    }\n",
    "    documents = [document]\n",
    "\n",
    "    response = bedrock_agent.ingest_knowledge_base_documents(\n",
    "        dataSourceId = data_source_id, documents = documents, knowledgeBaseId = knowledgebase_id\n",
    "    )\n",
    "    return response"
   ]
  },
  {
   "cell_type": "code",
   "execution_count": 22,
   "id": "0cdb9969-1271-42ce-8333-df6cf57fa0af",
   "metadata": {},
   "outputs": [
    {
     "name": "stdout",
     "output_type": "stream",
     "text": [
      "{'ResponseMetadata': {'RequestId': '1d6d1a88-e035-4468-8a48-b26cc06ae157', 'HTTPStatusCode': 202, 'HTTPHeaders': {'date': 'Mon, 03 Mar 2025 21:03:44 GMT', 'content-type': 'application/json', 'content-length': '223', 'connection': 'keep-alive', 'x-amzn-requestid': '1d6d1a88-e035-4468-8a48-b26cc06ae157', 'x-amz-apigw-id': 'G3jfTE8mIAMETyg=', 'x-amzn-trace-id': 'Root=1-67c6192e-08b06b7a60203bb17c122551'}, 'RetryAttempts': 0}, 'documentDetails': [{'dataSourceId': 'G7YKZ4SMPY', 'identifier': {'custom': {'id': 'RJLK035822641249'}, 'dataSourceType': 'CUSTOM'}, 'knowledgeBaseId': '5WYB0DMRMN', 'status': 'STARTING', 'updatedAt': datetime.datetime(2025, 3, 3, 21, 3, 44, 321430, tzinfo=tzlocal())}]}\n",
      "/home/sagemaker-user/.cache/kagglehub/datasets/hsankesara/flickr-image-dataset/versions/1/flickr30k_images/flickr30k_images/1000092795.jpg\n",
      "{'ResponseMetadata': {'RequestId': 'd65936c5-272e-4f5d-ab97-3bbb666cf67c', 'HTTPStatusCode': 202, 'HTTPHeaders': {'date': 'Mon, 03 Mar 2025 21:03:52 GMT', 'content-type': 'application/json', 'content-length': '223', 'connection': 'keep-alive', 'x-amzn-requestid': 'd65936c5-272e-4f5d-ab97-3bbb666cf67c', 'x-amz-apigw-id': 'G3jgbElVoAMEEYQ=', 'x-amzn-trace-id': 'Root=1-67c61935-4c8bb10e0a1f35070b078ed6'}, 'RetryAttempts': 0}, 'documentDetails': [{'dataSourceId': 'G7YKZ4SMPY', 'identifier': {'custom': {'id': 'STAN035829043597'}, 'dataSourceType': 'CUSTOM'}, 'knowledgeBaseId': '5WYB0DMRMN', 'status': 'STARTING', 'updatedAt': datetime.datetime(2025, 3, 3, 21, 3, 52, 564687, tzinfo=tzlocal())}]}\n",
      "/home/sagemaker-user/.cache/kagglehub/datasets/hsankesara/flickr-image-dataset/versions/1/flickr30k_images/flickr30k_images/10002456.jpg\n",
      "{'ResponseMetadata': {'RequestId': 'a093d576-36c3-4dca-af0b-312efb9ef3a4', 'HTTPStatusCode': 202, 'HTTPHeaders': {'date': 'Mon, 03 Mar 2025 21:03:59 GMT', 'content-type': 'application/json', 'content-length': '223', 'connection': 'keep-alive', 'x-amzn-requestid': 'a093d576-36c3-4dca-af0b-312efb9ef3a4', 'x-amz-apigw-id': 'G3jhtH_GoAMEEMw=', 'x-amzn-trace-id': 'Root=1-67c6193d-0a240c26331d340220313f87'}, 'RetryAttempts': 0}, 'documentDetails': [{'dataSourceId': 'G7YKZ4SMPY', 'identifier': {'custom': {'id': 'RUEC035837702013'}, 'dataSourceType': 'CUSTOM'}, 'knowledgeBaseId': '5WYB0DMRMN', 'status': 'STARTING', 'updatedAt': datetime.datetime(2025, 3, 3, 21, 3, 59, 379424, tzinfo=tzlocal())}]}\n",
      "/home/sagemaker-user/.cache/kagglehub/datasets/hsankesara/flickr-image-dataset/versions/1/flickr30k_images/flickr30k_images/1000268201.jpg\n",
      "{'ResponseMetadata': {'RequestId': 'b0139e72-c2ea-40e1-949a-13672c5b78cd', 'HTTPStatusCode': 202, 'HTTPHeaders': {'date': 'Mon, 03 Mar 2025 21:04:06 GMT', 'content-type': 'application/json', 'content-length': '223', 'connection': 'keep-alive', 'x-amzn-requestid': 'b0139e72-c2ea-40e1-949a-13672c5b78cd', 'x-amz-apigw-id': 'G3jixFkAoAMEYpg=', 'x-amzn-trace-id': 'Root=1-67c61944-7eeebf442338b5037f7e151d'}, 'RetryAttempts': 0}, 'documentDetails': [{'dataSourceId': 'G7YKZ4SMPY', 'identifier': {'custom': {'id': 'PCYL035844680717'}, 'dataSourceType': 'CUSTOM'}, 'knowledgeBaseId': '5WYB0DMRMN', 'status': 'STARTING', 'updatedAt': datetime.datetime(2025, 3, 3, 21, 4, 6, 460815, tzinfo=tzlocal())}]}\n",
      "/home/sagemaker-user/.cache/kagglehub/datasets/hsankesara/flickr-image-dataset/versions/1/flickr30k_images/flickr30k_images/1000344755.jpg\n",
      "{'ResponseMetadata': {'RequestId': '25bd546c-c610-4c47-b32c-da32a6fd457a', 'HTTPStatusCode': 202, 'HTTPHeaders': {'date': 'Mon, 03 Mar 2025 21:04:14 GMT', 'content-type': 'application/json', 'content-length': '223', 'connection': 'keep-alive', 'x-amzn-requestid': '25bd546c-c610-4c47-b32c-da32a6fd457a', 'x-amz-apigw-id': 'G3jj5EKXIAMEdQA=', 'x-amzn-trace-id': 'Root=1-67c6194b-70f41eae4a3e0f5e1ecb3e71'}, 'RetryAttempts': 0}, 'documentDetails': [{'dataSourceId': 'G7YKZ4SMPY', 'identifier': {'custom': {'id': 'YVCA035851058229'}, 'dataSourceType': 'CUSTOM'}, 'knowledgeBaseId': '5WYB0DMRMN', 'status': 'STARTING', 'updatedAt': datetime.datetime(2025, 3, 3, 21, 4, 14, 593490, tzinfo=tzlocal())}]}\n",
      "/home/sagemaker-user/.cache/kagglehub/datasets/hsankesara/flickr-image-dataset/versions/1/flickr30k_images/flickr30k_images/1000366164.jpg\n",
      "{'ResponseMetadata': {'RequestId': 'eb45a4e6-2576-4d3e-97e1-a70cb2b74c41', 'HTTPStatusCode': 202, 'HTTPHeaders': {'date': 'Mon, 03 Mar 2025 21:04:21 GMT', 'content-type': 'application/json', 'content-length': '223', 'connection': 'keep-alive', 'x-amzn-requestid': 'eb45a4e6-2576-4d3e-97e1-a70cb2b74c41', 'x-amz-apigw-id': 'G3jlKE7ooAMEqdQ=', 'x-amzn-trace-id': 'Root=1-67c61953-23f3561662c153cb7d87d300'}, 'RetryAttempts': 0}, 'documentDetails': [{'dataSourceId': 'G7YKZ4SMPY', 'identifier': {'custom': {'id': 'LKPS035859859676'}, 'dataSourceType': 'CUSTOM'}, 'knowledgeBaseId': '5WYB0DMRMN', 'status': 'STARTING', 'updatedAt': datetime.datetime(2025, 3, 3, 21, 4, 21, 516988, tzinfo=tzlocal())}]}\n",
      "/home/sagemaker-user/.cache/kagglehub/datasets/hsankesara/flickr-image-dataset/versions/1/flickr30k_images/flickr30k_images/1000523639.jpg\n",
      "{'ResponseMetadata': {'RequestId': 'b77be124-1acc-4267-bda7-12e83bcc56ca', 'HTTPStatusCode': 202, 'HTTPHeaders': {'date': 'Mon, 03 Mar 2025 21:04:28 GMT', 'content-type': 'application/json', 'content-length': '223', 'connection': 'keep-alive', 'x-amzn-requestid': 'b77be124-1acc-4267-bda7-12e83bcc56ca', 'x-amz-apigw-id': 'G3jmPEkGIAMEs0w=', 'x-amzn-trace-id': 'Root=1-67c6195a-4f16675c51948c1140829f03'}, 'RetryAttempts': 0}, 'documentDetails': [{'dataSourceId': 'G7YKZ4SMPY', 'identifier': {'custom': {'id': 'YLMY035866219501'}, 'dataSourceType': 'CUSTOM'}, 'knowledgeBaseId': '5WYB0DMRMN', 'status': 'STARTING', 'updatedAt': datetime.datetime(2025, 3, 3, 21, 4, 28, 294542, tzinfo=tzlocal())}]}\n",
      "/home/sagemaker-user/.cache/kagglehub/datasets/hsankesara/flickr-image-dataset/versions/1/flickr30k_images/flickr30k_images/1000919630.jpg\n",
      "{'ResponseMetadata': {'RequestId': 'fc820ffe-f5ec-4945-aa3e-47344e555c59', 'HTTPStatusCode': 202, 'HTTPHeaders': {'date': 'Mon, 03 Mar 2025 21:04:35 GMT', 'content-type': 'application/json', 'content-length': '223', 'connection': 'keep-alive', 'x-amzn-requestid': 'fc820ffe-f5ec-4945-aa3e-47344e555c59', 'x-amz-apigw-id': 'G3jnSHVqoAMEdMA=', 'x-amzn-trace-id': 'Root=1-67c61961-7a0362750cbe93ce208d1755'}, 'RetryAttempts': 0}, 'documentDetails': [{'dataSourceId': 'G7YKZ4SMPY', 'identifier': {'custom': {'id': 'YCYP035873648628'}, 'dataSourceType': 'CUSTOM'}, 'knowledgeBaseId': '5WYB0DMRMN', 'status': 'STARTING', 'updatedAt': datetime.datetime(2025, 3, 3, 21, 4, 35, 217837, tzinfo=tzlocal())}]}\n",
      "/home/sagemaker-user/.cache/kagglehub/datasets/hsankesara/flickr-image-dataset/versions/1/flickr30k_images/flickr30k_images/10010052.jpg\n",
      "{'ResponseMetadata': {'RequestId': '3d4c5afa-4664-4985-8cd5-df41016c1ad6', 'HTTPStatusCode': 202, 'HTTPHeaders': {'date': 'Mon, 03 Mar 2025 21:04:43 GMT', 'content-type': 'application/json', 'content-length': '223', 'connection': 'keep-alive', 'x-amzn-requestid': '3d4c5afa-4664-4985-8cd5-df41016c1ad6', 'x-amz-apigw-id': 'G3joYHsBoAMEAgQ=', 'x-amzn-trace-id': 'Root=1-67c61968-333556731982a19a48955385'}, 'RetryAttempts': 0}, 'documentDetails': [{'dataSourceId': 'G7YKZ4SMPY', 'identifier': {'custom': {'id': 'WCKZ035880559149'}, 'dataSourceType': 'CUSTOM'}, 'knowledgeBaseId': '5WYB0DMRMN', 'status': 'STARTING', 'updatedAt': datetime.datetime(2025, 3, 3, 21, 4, 42, 971333, tzinfo=tzlocal())}]}\n",
      "/home/sagemaker-user/.cache/kagglehub/datasets/hsankesara/flickr-image-dataset/versions/1/flickr30k_images/flickr30k_images/1001465944.jpg\n",
      "{'ResponseMetadata': {'RequestId': '1f21910c-c618-4338-975a-bdd943b7d317', 'HTTPStatusCode': 202, 'HTTPHeaders': {'date': 'Mon, 03 Mar 2025 21:04:50 GMT', 'content-type': 'application/json', 'content-length': '223', 'connection': 'keep-alive', 'x-amzn-requestid': '1f21910c-c618-4338-975a-bdd943b7d317', 'x-amz-apigw-id': 'G3jplHZ4oAMEAVA=', 'x-amzn-trace-id': 'Root=1-67c61970-6141eeae44233897445a1667'}, 'RetryAttempts': 0}, 'documentDetails': [{'dataSourceId': 'G7YKZ4SMPY', 'identifier': {'custom': {'id': 'VOGZ035888098074'}, 'dataSourceType': 'CUSTOM'}, 'knowledgeBaseId': '5WYB0DMRMN', 'status': 'STARTING', 'updatedAt': datetime.datetime(2025, 3, 3, 21, 4, 49, 833024, tzinfo=tzlocal())}]}\n",
      "/home/sagemaker-user/.cache/kagglehub/datasets/hsankesara/flickr-image-dataset/versions/1/flickr30k_images/flickr30k_images/1001545525.jpg\n"
     ]
    }
   ],
   "source": [
    "counter = 0\n",
    "for filename in os.listdir(path):\n",
    "    if counter == 10:\n",
    "        break\n",
    "    image_path = path + \"/\" + filename\n",
    "    upload_response = upload_image_nds(image_path, new_data_source)\n",
    "    print(upload_response)\n",
    "    timer = 0\n",
    "    time.sleep(5)\n",
    "    print(image_path)\n",
    "    counter +=1"
   ]
  },
  {
   "cell_type": "code",
   "execution_count": null,
   "id": "b9cff5f4-407b-41f2-90b2-25b74602fa8e",
   "metadata": {},
   "outputs": [],
   "source": [
    "# uploads are failing manually apparently so I will attempt to upload the image using s3 source"
   ]
  },
  {
   "cell_type": "code",
   "execution_count": 39,
   "id": "bd8085c7-e6ab-4239-a541-1e81561e19d0",
   "metadata": {},
   "outputs": [
    {
     "name": "stdout",
     "output_type": "stream",
     "text": [
      "/home/sagemaker-user/.cache/kagglehub/datasets/hsankesara/flickr-image-dataset/versions/1/flickr30k_images/flickr30k_images/1000092795.jpg\n",
      "/home/sagemaker-user/.cache/kagglehub/datasets/hsankesara/flickr-image-dataset/versions/1/flickr30k_images/flickr30k_images/10002456.jpg\n",
      "/home/sagemaker-user/.cache/kagglehub/datasets/hsankesara/flickr-image-dataset/versions/1/flickr30k_images/flickr30k_images/1000268201.jpg\n",
      "/home/sagemaker-user/.cache/kagglehub/datasets/hsankesara/flickr-image-dataset/versions/1/flickr30k_images/flickr30k_images/1000344755.jpg\n",
      "/home/sagemaker-user/.cache/kagglehub/datasets/hsankesara/flickr-image-dataset/versions/1/flickr30k_images/flickr30k_images/1000366164.jpg\n",
      "/home/sagemaker-user/.cache/kagglehub/datasets/hsankesara/flickr-image-dataset/versions/1/flickr30k_images/flickr30k_images/1000523639.jpg\n",
      "/home/sagemaker-user/.cache/kagglehub/datasets/hsankesara/flickr-image-dataset/versions/1/flickr30k_images/flickr30k_images/1000919630.jpg\n",
      "/home/sagemaker-user/.cache/kagglehub/datasets/hsankesara/flickr-image-dataset/versions/1/flickr30k_images/flickr30k_images/10010052.jpg\n",
      "/home/sagemaker-user/.cache/kagglehub/datasets/hsankesara/flickr-image-dataset/versions/1/flickr30k_images/flickr30k_images/1001465944.jpg\n",
      "/home/sagemaker-user/.cache/kagglehub/datasets/hsankesara/flickr-image-dataset/versions/1/flickr30k_images/flickr30k_images/1001545525.jpg\n"
     ]
    }
   ],
   "source": [
    "counter = 0\n",
    "for filename in os.listdir(path):\n",
    "    if counter == 10:\n",
    "        break\n",
    "    counter +=1\n",
    "    image_path = path + \"/\" + filename\n",
    "    print(image_path)"
   ]
  },
  {
   "cell_type": "code",
   "execution_count": 43,
   "id": "6feec1d5-e4e8-4c5f-8a03-38a8e5e2afd2",
   "metadata": {},
   "outputs": [],
   "source": [
    "s3_response = s3_upload_image_nds('s3://mainbucketrockhight5461/test/knowledge-bases/documentacion.txt', new_data_source)"
   ]
  },
  {
   "cell_type": "code",
   "execution_count": 45,
   "id": "5ae52669-218f-48b6-a68a-a0ab05e527d5",
   "metadata": {},
   "outputs": [],
   "source": [
    "# now I will attempt to upload an image\n",
    "s3_response = s3_upload_image_nds('s3://mainbucketrockhight5461/test/knowledge-bases/direct_KB_upload/1image/371897.jpg', new_data_source)"
   ]
  },
  {
   "cell_type": "code",
   "execution_count": 46,
   "id": "446386c6-c525-4f2c-be70-b668cd553042",
   "metadata": {},
   "outputs": [
    {
     "name": "stdout",
     "output_type": "stream",
     "text": [
      "{'ResponseMetadata': {'RequestId': '95867b3c-4f0c-4bcb-9d12-5e75479e2ea5', 'HTTPStatusCode': 202, 'HTTPHeaders': {'date': 'Fri, 28 Feb 2025 22:19:41 GMT', 'content-type': 'application/json', 'content-length': '223', 'connection': 'keep-alive', 'x-amzn-requestid': '95867b3c-4f0c-4bcb-9d12-5e75479e2ea5', 'x-amz-apigw-id': 'Gt1zUE0EIAMEX8g=', 'x-amzn-trace-id': 'Root=1-67c2367b-2dac364d71f4e1484d644d79'}, 'RetryAttempts': 0}, 'documentDetails': [{'dataSourceId': 'G7YKZ4SMPY', 'identifier': {'custom': {'id': 'QKHT781179155434'}, 'dataSourceType': 'CUSTOM'}, 'knowledgeBaseId': '5WYB0DMRMN', 'status': 'STARTING', 'updatedAt': datetime.datetime(2025, 2, 28, 22, 19, 41, 264175, tzinfo=tzlocal())}]}\n"
     ]
    }
   ],
   "source": [
    "print(s3_response)"
   ]
  },
  {
   "cell_type": "code",
   "execution_count": 28,
   "id": "1c2c077e-ef20-4a54-8960-79a7a07d0c16",
   "metadata": {},
   "outputs": [],
   "source": [
    "# now we will attempt to upload txt files and json files inline\n",
    "\n",
    "def text_to_bytes(file_path, encoding='utf-8'):\n",
    "    try:\n",
    "        with open(file_path, 'r', encoding=encoding) as file:\n",
    "            content = file.read()\n",
    "        return content.encode(encoding)\n",
    "    except Exception as e:\n",
    "        print(f\"Error reading file: {e}\")\n",
    "        return None\n",
    "\n",
    "def upload_txt_custom(text_path, data_source_id, mime_type):\n",
    "    bytes_data = text_to_bytes(text_path)\n",
    "    \n",
    "    random_code = generate_random_code()\n",
    "    documentIdentifier = str(random_code[0]) + str(random_code[1]) \n",
    "    document = {\n",
    "        'content': {\n",
    "            'custom': {\n",
    "                'customDocumentIdentifier': {\n",
    "                    'id': documentIdentifier\n",
    "                },\n",
    "                'inlineContent': {\n",
    "                    'byteContent': {\n",
    "                        'data': bytes_data,\n",
    "                        'mimeType': mime_type\n",
    "                    },\n",
    "                    'type': 'BYTE'\n",
    "                },\n",
    "                'sourceType': 'IN_LINE'\n",
    "            },\n",
    "            'dataSourceType': 'CUSTOM',\n",
    "        }\n",
    "    }\n",
    "    documents = [document]\n",
    "\n",
    "    response = bedrock_agent.ingest_knowledge_base_documents(\n",
    "        dataSourceId = data_source_id, documents = documents, knowledgeBaseId = knowledgebase_id\n",
    "    )\n",
    "    return response"
   ]
  },
  {
   "cell_type": "code",
   "execution_count": 29,
   "id": "f21dfaa3-69cd-4312-acc4-5eec7993bb13",
   "metadata": {},
   "outputs": [],
   "source": [
    "mime_type = \"text/plain\""
   ]
  },
  {
   "cell_type": "code",
   "execution_count": 30,
   "id": "aaf70626-ee26-410a-9152-17eba166975b",
   "metadata": {},
   "outputs": [],
   "source": [
    "file = \"/home/sagemaker-user/user-default-efs/documents/mygithub/aws-samples/bedrock/miscelanious/test.txt\""
   ]
  },
  {
   "cell_type": "code",
   "execution_count": 31,
   "id": "8236cda6-8bcd-4050-abd1-857de503d987",
   "metadata": {},
   "outputs": [],
   "source": [
    "file_response = upload_txt_custom(file, new_data_source, mime_type)"
   ]
  },
  {
   "cell_type": "code",
   "execution_count": 32,
   "id": "72b7583f-ce91-4dab-a161-3ab0a66f492a",
   "metadata": {},
   "outputs": [
    {
     "name": "stdout",
     "output_type": "stream",
     "text": [
      "{'ResponseMetadata': {'RequestId': '3c220139-367c-4b36-9edf-00563d253283', 'HTTPStatusCode': 202, 'HTTPHeaders': {'date': 'Fri, 28 Feb 2025 21:56:31 GMT', 'content-type': 'application/json', 'content-length': '223', 'connection': 'keep-alive', 'x-amzn-requestid': '3c220139-367c-4b36-9edf-00563d253283', 'x-amz-apigw-id': 'GtyaIEsmoAMERhA=', 'x-amzn-trace-id': 'Root=1-67c2310d-4bb6a5ce456f2ca70d3c9b1b'}, 'RetryAttempts': 0}, 'documentDetails': [{'dataSourceId': 'G7YKZ4SMPY', 'identifier': {'custom': {'id': 'SQVZ779789923544'}, 'dataSourceType': 'CUSTOM'}, 'knowledgeBaseId': '5WYB0DMRMN', 'status': 'STARTING', 'updatedAt': datetime.datetime(2025, 2, 28, 21, 56, 30, 999715, tzinfo=tzlocal())}]}\n"
     ]
    }
   ],
   "source": [
    "print(file_response)"
   ]
  },
  {
   "cell_type": "code",
   "execution_count": null,
   "id": "4951f1bb-aa90-4da0-838c-b0b573ed441b",
   "metadata": {},
   "outputs": [],
   "source": []
  }
 ],
 "metadata": {
  "kernelspec": {
   "display_name": "Python 3 (ipykernel)",
   "language": "python",
   "name": "python3"
  },
  "language_info": {
   "codemirror_mode": {
    "name": "ipython",
    "version": 3
   },
   "file_extension": ".py",
   "mimetype": "text/x-python",
   "name": "python",
   "nbconvert_exporter": "python",
   "pygments_lexer": "ipython3",
   "version": "3.11.11"
  }
 },
 "nbformat": 4,
 "nbformat_minor": 5
}
