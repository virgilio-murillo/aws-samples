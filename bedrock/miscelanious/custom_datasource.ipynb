{
 "cells": [
  {
   "cell_type": "code",
   "execution_count": 1,
   "id": "0e092f03-ebe3-449c-9da7-a0b6df0bbeca",
   "metadata": {},
   "outputs": [],
   "source": [
    "# test to breach the 100 mb limit and preferably get to 6 GB using knowledge base with a custom data source. We will upload all the files manually"
   ]
  },
  {
   "cell_type": "code",
   "execution_count": 1,
   "id": "e3061708-1a5a-4f18-8bdd-1fdb84573436",
   "metadata": {},
   "outputs": [],
   "source": [
    "import os\n",
    "import boto3\n",
    "from config import *\n",
    "import base64"
   ]
  },
  {
   "cell_type": "code",
   "execution_count": 25,
   "id": "0dd2e1aa-094c-4d88-af02-b8516737764e",
   "metadata": {},
   "outputs": [
    {
     "name": "stdout",
     "output_type": "stream",
     "text": [
      "1.37.1\n"
     ]
    }
   ],
   "source": [
    "print(boto3.__version__)"
   ]
  },
  {
   "cell_type": "code",
   "execution_count": 3,
   "id": "3eb25aae-81ef-4b2e-a594-030056747c5f",
   "metadata": {},
   "outputs": [],
   "source": [
    "bedrock_agent = boto3.Session().client('bedrock-agent')"
   ]
  },
  {
   "cell_type": "code",
   "execution_count": 4,
   "id": "8092479b-26fd-431d-8f97-b12838ba1713",
   "metadata": {},
   "outputs": [
    {
     "name": "stdout",
     "output_type": "stream",
     "text": [
      "/home/sagemaker-user/.cache/kagglehub/datasets/hsankesara/flickr-image-dataset/versions/1/flickr30k_images/flickr30k_images\n"
     ]
    }
   ],
   "source": [
    "path = \"/home/sagemaker-user/.cache/kagglehub/datasets/hsankesara/flickr-image-dataset/versions/1/flickr30k_images/flickr30k_images\"\n",
    "print(path)"
   ]
  },
  {
   "cell_type": "code",
   "execution_count": 5,
   "id": "adfa4cc5-e020-4962-9968-d429efd5b0f9",
   "metadata": {
    "scrolled": true
   },
   "outputs": [
    {
     "name": "stdout",
     "output_type": "stream",
     "text": [
      "0th == 1000092795.jpg\n",
      "1000th == 1314231418.jpg\n",
      "2000th == 1570065565.jpg\n",
      "3000th == 2033696343.jpg\n",
      "4000th == 2199250692.jpg\n",
      "5000th == 2330069984.jpg\n",
      "6000th == 2448551720.jpg\n",
      "7000th == 2571096893.jpg\n",
      "8000th == 2703155733.jpg\n",
      "9000th == 283214657.jpg\n",
      "10000th == 2952595538.jpg\n",
      "11000th == 3084149186.jpg\n",
      "12000th == 319821310.jpg\n",
      "13000th == 331277641.jpg\n",
      "14000th == 3421706363.jpg\n",
      "15000th == 353180303.jpg\n",
      "16000th == 3642088668.jpg\n",
      "17000th == 3778223207.jpg\n",
      "18000th == 4003920724.jpg\n",
      "19000th == 4268234398.jpg\n",
      "20000th == 446138054.jpg\n",
      "21000th == 4571895229.jpg\n",
      "22000th == 46739527.jpg\n",
      "23000th == 4751249553.jpg\n",
      "24000th == 4829029000.jpg\n",
      "25000th == 4913033344.jpg\n",
      "26000th == 501699433.jpg\n",
      "27000th == 543712974.jpg\n",
      "28000th == 6020763700.jpg\n",
      "29000th == 6715658033.jpg\n",
      "30000th == 7253781238.jpg\n",
      "31000th == 8018752014.jpg\n"
     ]
    }
   ],
   "source": [
    "counter = 0\n",
    "for filename in os.listdir(path):\n",
    "    if counter %1000 == 0:\n",
    "        print(f\"{counter}th == {filename}\")\n",
    "    counter +=1"
   ]
  },
  {
   "cell_type": "code",
   "execution_count": 4,
   "id": "a107677d-924b-4aef-b01e-87e20023e8b9",
   "metadata": {},
   "outputs": [],
   "source": [
    "# If you're using PIL/Pillow Image object\n",
    "from PIL import Image\n",
    "import io\n",
    "import base64"
   ]
  },
  {
   "cell_type": "code",
   "execution_count": 5,
   "id": "74dd742b-7d07-482e-8886-f27b8317fe62",
   "metadata": {},
   "outputs": [],
   "source": [
    "# If you have an image file path\n",
    "def image_to_bytes(image_path):\n",
    "    with open(image_path, 'rb') as image:\n",
    "        return {'data': base64.b64encode(image.read())}\n",
    "\n",
    "def pil_image_to_bytes(image_path):\n",
    "    # Open the image file\n",
    "    pil_image = Image.open(image_path)\n",
    "    # Convert PIL Image to bytes\n",
    "    img_byte_arr = io.BytesIO()\n",
    "    pil_image.save(img_byte_arr, format=pil_image.format or 'JPEG')\n",
    "    img_byte_arr = img_byte_arr.getvalue()\n",
    "    return {'data': base64.b64encode(img_byte_arr)}"
   ]
  },
  {
   "cell_type": "code",
   "execution_count": 8,
   "id": "896f6d48-92af-48f1-939e-51aa6654f73e",
   "metadata": {},
   "outputs": [],
   "source": [
    "## example usage\n",
    "image_path = path + '/1314231418.jpg'\n",
    "image_bytes = pil_image_to_bytes(image_path)\n",
    "image_bytes_data = image_bytes['data']"
   ]
  },
  {
   "cell_type": "code",
   "execution_count": 9,
   "id": "988e6f51-484d-4e1f-a1f1-46ba3214755a",
   "metadata": {},
   "outputs": [
    {
     "name": "stdout",
     "output_type": "stream",
     "text": [
      "<class 'bytes'>\n"
     ]
    }
   ],
   "source": [
    "print(type(image_bytes['data']))"
   ]
  },
  {
   "cell_type": "code",
   "execution_count": 6,
   "id": "50812f53-a7cc-48eb-ade9-54400cf900b0",
   "metadata": {},
   "outputs": [],
   "source": [
    "import random\n",
    "import string\n",
    "import time"
   ]
  },
  {
   "cell_type": "code",
   "execution_count": 7,
   "id": "fd4ae751-4c8f-43b8-9d97-3817c3da9173",
   "metadata": {},
   "outputs": [],
   "source": [
    "def generate_random_code():\n",
    "    # Generate 4 random characters (uppercase letters)\n",
    "    characters = ''.join(random.choices(string.ascii_uppercase, k=4))\n",
    "    \n",
    "    # Generate 12 digit number combining timestamp and random numbers\n",
    "    timestamp = str(int(time.time()))\n",
    "    random_digits = ''.join(random.choices(string.digits, k=6))\n",
    "    number = (timestamp + random_digits)[-12:]  # Ensure 12 digits\n",
    "    \n",
    "    return characters, number"
   ]
  },
  {
   "cell_type": "code",
   "execution_count": 8,
   "id": "1a8ad9d9-7302-4895-bbdd-ee98179e6b04",
   "metadata": {},
   "outputs": [],
   "source": [
    "# now we will test uploading a single image\n",
    "def upload_image(image_path):\n",
    "    image_bytes = pil_image_to_bytes(image_path)\n",
    "    image_bytes_data = image_bytes['data']\n",
    "    \n",
    "    random_code = generate_random_code()\n",
    "    documentIdentifier = str(random_code[0]) + str(random_code[1]) \n",
    "    document = {\n",
    "        'content': {\n",
    "            'custom': {\n",
    "                'customDocumentIdentifier': {\n",
    "                    'id': documentIdentifier\n",
    "                },\n",
    "                'inlineContent': {\n",
    "                    'byteContent': {\n",
    "                        'data': image_bytes_data,\n",
    "                        'mimeType': 'image/jpeg'\n",
    "                    },\n",
    "                    'type': 'BYTE'\n",
    "                },\n",
    "                'sourceType': 'IN_LINE'\n",
    "            },\n",
    "            'dataSourceType': 'CUSTOM',\n",
    "        }\n",
    "    }\n",
    "    documents = [document]\n",
    "\n",
    "    response = bedrock_agent.ingest_knowledge_base_documents(\n",
    "        dataSourceId = data_source_id, documents = documents, knowledgeBaseId = knowledgebase_id\n",
    "    )\n",
    "    return response"
   ]
  },
  {
   "cell_type": "code",
   "execution_count": 9,
   "id": "25ddbcd8-5dbe-4a6b-b83f-18644395a80b",
   "metadata": {},
   "outputs": [],
   "source": [
    "def get_data_source():\n",
    "    data_source = bedrock_agent.get_data_source(\n",
    "        dataSourceId = data_source_id,\n",
    "        knowledgeBaseId =knowledgebase_id\n",
    "    )\n",
    "    return data_source"
   ]
  },
  {
   "cell_type": "code",
   "execution_count": 18,
   "id": "8a172c25-b25a-4f3f-a49f-6428007bc159",
   "metadata": {
    "scrolled": true
   },
   "outputs": [
    {
     "name": "stdout",
     "output_type": "stream",
     "text": [
      " --- Updload response\n",
      " --- \n",
      "/home/sagemaker-user/.cache/kagglehub/datasets/hsankesara/flickr-image-dataset/versions/1/flickr30k_images/flickr30k_images/1000092795.jpg\n",
      " --- Updload response\n",
      " --- \n",
      "/home/sagemaker-user/.cache/kagglehub/datasets/hsankesara/flickr-image-dataset/versions/1/flickr30k_images/flickr30k_images/10002456.jpg\n",
      " --- Updload response\n",
      " --- \n",
      "/home/sagemaker-user/.cache/kagglehub/datasets/hsankesara/flickr-image-dataset/versions/1/flickr30k_images/flickr30k_images/1000268201.jpg\n",
      " --- Updload response\n",
      " --- \n",
      "/home/sagemaker-user/.cache/kagglehub/datasets/hsankesara/flickr-image-dataset/versions/1/flickr30k_images/flickr30k_images/1000344755.jpg\n",
      " --- Updload response\n",
      " --- \n",
      "/home/sagemaker-user/.cache/kagglehub/datasets/hsankesara/flickr-image-dataset/versions/1/flickr30k_images/flickr30k_images/1000366164.jpg\n",
      " --- Updload response\n",
      " --- \n",
      "/home/sagemaker-user/.cache/kagglehub/datasets/hsankesara/flickr-image-dataset/versions/1/flickr30k_images/flickr30k_images/1000523639.jpg\n",
      " --- Updload response\n",
      " --- \n",
      "/home/sagemaker-user/.cache/kagglehub/datasets/hsankesara/flickr-image-dataset/versions/1/flickr30k_images/flickr30k_images/1000919630.jpg\n",
      " --- Updload response\n",
      " --- \n",
      "/home/sagemaker-user/.cache/kagglehub/datasets/hsankesara/flickr-image-dataset/versions/1/flickr30k_images/flickr30k_images/10010052.jpg\n",
      " --- Updload response\n",
      " --- \n",
      "/home/sagemaker-user/.cache/kagglehub/datasets/hsankesara/flickr-image-dataset/versions/1/flickr30k_images/flickr30k_images/1001465944.jpg\n",
      " --- Updload response\n",
      " --- \n",
      "/home/sagemaker-user/.cache/kagglehub/datasets/hsankesara/flickr-image-dataset/versions/1/flickr30k_images/flickr30k_images/1001545525.jpg\n"
     ]
    }
   ],
   "source": [
    "counter = 0\n",
    "for filename in os.listdir(path):\n",
    "    if counter == 10:\n",
    "        break\n",
    "    image_path = path + \"/\" + filename\n",
    "    upload_response = upload_image(image_path)\n",
    "    timer = 0\n",
    "    print(\" --- Updload response\")\n",
    "    print(\" --- \")\n",
    "    while timer < 10:\n",
    "        data_source = get_data_source()\n",
    "        time.sleep(30)\n",
    "        timer +=1\n",
    "    print(image_path)\n",
    "    counter +=1"
   ]
  },
  {
   "cell_type": "markdown",
   "id": "461797e8-ec68-40d8-9c32-6f39cb403949",
   "metadata": {},
   "source": [
    "**according to** [documentation](https://boto3.amazonaws.com/v1/documentation/api/latest/reference/services/bedrock-agent/client/ingest_knowledge_base_documents.html) uploading images using the API is not supported. see:\n",
    "\n",
    "```\n",
    "mimeType (string) – [REQUIRED]\n",
    "The MIME type of the content. For a list of MIME types, see Media Types. The following MIME types are supported:\n",
    "text/plain\n",
    "text/html\n",
    "text/csv\n",
    "text/vtt\n",
    "message/rfc822\n",
    "application/xhtml+xml\n",
    "application/pdf\n",
    "application/msword\n",
    "application/vnd.ms-word.document.macroenabled.12\n",
    "application/vnd.ms-word.template.macroenabled.12\n",
    "application/vnd.ms-excel\n",
    "application/vnd.ms-excel.addin.macroenabled.12\n",
    "application/vnd.ms-excel.sheet.macroenabled.12\n",
    "application/vnd.ms-excel.template.macroenabled.12\n",
    "application/vnd.ms-excel.sheet.binary.macroenabled.12\n",
    "application/vnd.ms-spreadsheetml\n",
    "application/vnd.openxmlformats-officedocument.spreadsheetml.sheet\n",
    "application/vnd.openxmlformats-officedocument.spreadsheetml.template\n",
    "application/vnd.openxmlformats-officedocument.wordprocessingml.document\n",
    "application/vnd.openxmlformats-officedocument.wordprocessingml.template\n",
    "```\n",
    "and I am getting logs of this kind:\n",
    "```\n",
    "{\n",
    "    \"event_timestamp\": 1740509325142,\n",
    "    \"event\": {\n",
    "        \"document_location\": {\n",
    "            \"customDocument_location\": {\n",
    "                \"id\": \"***\"\n",
    "            },\n",
    "            \"type\": \"CUSTOM\"\n",
    "        },\n",
    "        \"request_id\": \"********\",\n",
    "        \"data_source_id\": \"********\",\n",
    "        \"status_reasons\": [\n",
    "            \"Resource not processed due to a service exception. Please reach out to Amazon Bedrock technical support team for further assistance, or contact technical support at aws.amazon.com/contact-us/.\"\n",
    "        ],\n",
    "        \"knowledge_base_arn\": \"arn:aws:bedrock:us-east-1:**********:knowledge-base/********\",\n",
    "        \"status\": \"RESOURCE_IGNORED\"\n",
    "    },\n",
    "    \"event_version\": \"1.0\",\n",
    "    \"event_type\": \"IngestKnowledgeBaseDocuments.ResourceStatusChanged\",\n",
    "    \"level\": \"WARN\"\n",
    "}\n",
    "```\n",
    "\n",
    "uploading 6 GB of data will take an excesive amount of time and resources to test. For instance, when I first attempted to upload a 17 MB pdf file (the bedrock user guide actually) which contains more than 2500 pages, It was taking longer than 8 hours and I had to stop the test for that reason. Hence uploading 6 GB of data will take 118 days."
   ]
  },
  {
   "cell_type": "code",
   "execution_count": 26,
   "id": "0fb25b06-2926-404a-a00e-65d7e31fe4ac",
   "metadata": {},
   "outputs": [],
   "source": [
    "s3_location = 's3://mainbucketrockhight5461/test/knowledge-bases/direct_KB_upload/1image/371897.jpg'"
   ]
  },
  {
   "cell_type": "code",
   "execution_count": 27,
   "id": "ecab9097-5c65-4a78-b5d4-b94bfdf80e40",
   "metadata": {},
   "outputs": [],
   "source": [
    "# I will attempt to upload the images using s3 direct upload to custom source\n",
    "def s3_upload_image(s3_location):\n",
    "    \n",
    "    random_code = generate_random_code()\n",
    "    documentIdentifier = str(random_code[0]) + str(random_code[1]) \n",
    "    document = { \n",
    "        'content':{\n",
    "            'dataSourceType': 'CUSTOM',\n",
    "            'custom':{\n",
    "                'customDocumentIdentifier': {\n",
    "                    'id': documentIdentifier\n",
    "                },\n",
    "                's3Location': {\n",
    "                    'bucketOwnerAccountId': bucket_owner_account,\n",
    "                    'uri': s3_location\n",
    "                },\n",
    "                'sourceType': 'S3_LOCATION'\n",
    "            }\n",
    "        }\n",
    "    }\n",
    "    \n",
    "    documents = [document]\n",
    "\n",
    "    response = bedrock_agent.ingest_knowledge_base_documents(\n",
    "        dataSourceId = data_source_id, documents = documents, knowledgeBaseId = knowledgebase_id\n",
    "    )\n",
    "    return response"
   ]
  },
  {
   "cell_type": "code",
   "execution_count": 28,
   "id": "fa24e1ee-e706-4395-8edf-0721c0e1301e",
   "metadata": {},
   "outputs": [],
   "source": [
    "s3_upload_response = s3_upload_image(s3_location)"
   ]
  },
  {
   "cell_type": "code",
   "execution_count": 29,
   "id": "dd334a9b-855f-46b2-8f1f-21491692fb1d",
   "metadata": {},
   "outputs": [
    {
     "name": "stdout",
     "output_type": "stream",
     "text": [
      "{'ResponseMetadata': {'RequestId': '04ac8cca-2587-49ea-9a00-6e8c15ea4814', 'HTTPStatusCode': 202, 'HTTPHeaders': {'date': 'Wed, 26 Feb 2025 04:02:18 GMT', 'content-type': 'application/json', 'content-length': '223', 'connection': 'keep-alive', 'x-amzn-requestid': '04ac8cca-2587-49ea-9a00-6e8c15ea4814', 'x-amz-apigw-id': 'GkvLYG8WIAMEZjg=', 'x-amzn-trace-id': 'Root=1-67be9248-16c53ad15c2c7c7827578517'}, 'RetryAttempts': 0}, 'documentDetails': [{'dataSourceId': 'E3NRB1GDE0', 'identifier': {'custom': {'id': 'GUAT542536187863'}, 'dataSourceType': 'CUSTOM'}, 'knowledgeBaseId': '5WYB0DMRMN', 'status': 'STARTING', 'updatedAt': datetime.datetime(2025, 2, 26, 4, 2, 17, 795270, tzinfo=tzlocal())}]}\n"
     ]
    }
   ],
   "source": [
    "print(s3_upload_response)"
   ]
  },
  {
   "cell_type": "code",
   "execution_count": 30,
   "id": "ca03356b-cb21-490e-acc8-e37933af8a8c",
   "metadata": {},
   "outputs": [],
   "source": [
    "# the request failed, I will test now using a json file\n",
    "s3_response = s3_upload_image('s3://mainbucketrockhight5461/test/documentation/bedrock-user-guide.pdf.metadata.json')"
   ]
  },
  {
   "cell_type": "code",
   "execution_count": 31,
   "id": "8afe2a4d-4ac9-49f8-a6f9-a60ba587e3eb",
   "metadata": {},
   "outputs": [
    {
     "name": "stdout",
     "output_type": "stream",
     "text": [
      "{'ResponseMetadata': {'RequestId': '3d353762-49c1-460a-935e-c411d936acb9', 'HTTPStatusCode': 202, 'HTTPHeaders': {'date': 'Wed, 26 Feb 2025 04:06:11 GMT', 'content-type': 'application/json', 'content-length': '223', 'connection': 'keep-alive', 'x-amzn-requestid': '3d353762-49c1-460a-935e-c411d936acb9', 'x-amz-apigw-id': 'Gkvv0FZ1IAMED8A=', 'x-amzn-trace-id': 'Root=1-67be9331-12e06a2f070686eb35bd5087'}, 'RetryAttempts': 0}, 'documentDetails': [{'dataSourceId': 'E3NRB1GDE0', 'identifier': {'custom': {'id': 'QDUB542769316690'}, 'dataSourceType': 'CUSTOM'}, 'knowledgeBaseId': '5WYB0DMRMN', 'status': 'STARTING', 'updatedAt': datetime.datetime(2025, 2, 26, 4, 6, 10, 894650, tzinfo=tzlocal())}]}\n"
     ]
    }
   ],
   "source": [
    "print(s3_response)"
   ]
  },
  {
   "cell_type": "code",
   "execution_count": null,
   "id": "4e858623-b81f-40da-8715-e03ea70c4958",
   "metadata": {},
   "outputs": [],
   "source": []
  }
 ],
 "metadata": {
  "kernelspec": {
   "display_name": "Python 3 (ipykernel)",
   "language": "python",
   "name": "python3"
  },
  "language_info": {
   "codemirror_mode": {
    "name": "ipython",
    "version": 3
   },
   "file_extension": ".py",
   "mimetype": "text/x-python",
   "name": "python",
   "nbconvert_exporter": "python",
   "pygments_lexer": "ipython3",
   "version": "3.11.11"
  }
 },
 "nbformat": 4,
 "nbformat_minor": 5
}
