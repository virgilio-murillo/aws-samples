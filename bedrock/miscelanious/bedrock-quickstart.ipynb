{
 "cells": [
  {
   "cell_type": "code",
   "execution_count": 1,
   "id": "a05aaf5e-a9af-46b8-854d-882cc24fadad",
   "metadata": {},
   "outputs": [],
   "source": [
    "import boto3\n",
    "import json"
   ]
  },
  {
   "cell_type": "code",
   "execution_count": 2,
   "id": "8576a729-90e4-4999-98a3-0b25d6a44702",
   "metadata": {},
   "outputs": [
    {
     "name": "stdout",
     "output_type": "stream",
     "text": [
      "arn:aws:sts::794038231401:assumed-role/SageMaker-ExecutionRole-20250103T203496/SageMaker\n"
     ]
    }
   ],
   "source": [
    "# first we will find out which user or role is being used by sagemaker\n",
    "# We will assign BedrockFUllAccess to it. \n",
    "session = boto3.Session()\n",
    "sts_client = session.client('sts')\n",
    "identity = sts_client.get_caller_identity()\n",
    "print(identity['Arn'])"
   ]
  },
  {
   "cell_type": "code",
   "execution_count": 3,
   "id": "90b1d69d-5548-4745-a982-03d7de1f600d",
   "metadata": {},
   "outputs": [],
   "source": [
    "# now we will check if we have access to the model using the specific region us-west-2 (change to us-west-2 in the bedrock console to request access in that region)"
   ]
  },
  {
   "cell_type": "code",
   "execution_count": 4,
   "id": "d7702d0c-d785-4eee-a1f4-28ad50d233ea",
   "metadata": {},
   "outputs": [],
   "source": [
    "bedrock = boto3.client(service_name='bedrock', region_name=\"us-west-2\")\n",
    "bedrock_runtime = boto3.client(service_name='bedrock-runtime', region_name=\"us-west-2\")"
   ]
  },
  {
   "cell_type": "code",
   "execution_count": 5,
   "id": "cfd27efa-1ba4-4b41-a1a0-566378bbe4a6",
   "metadata": {
    "scrolled": true
   },
   "outputs": [
    {
     "name": "stdout",
     "output_type": "stream",
     "text": [
      "amazon.titan-tg1-large\n",
      "amazon.titan-embed-g1-text-02\n",
      "amazon.titan-text-lite-v1:0:4k\n",
      "amazon.titan-text-lite-v1\n",
      "amazon.titan-text-express-v1:0:8k\n",
      "amazon.titan-text-express-v1\n",
      "amazon.nova-pro-v1:0\n",
      "amazon.nova-lite-v1:0\n",
      "amazon.nova-micro-v1:0\n",
      "amazon.titan-embed-text-v1:2:8k\n",
      "amazon.titan-embed-text-v1\n",
      "amazon.titan-embed-text-v2:0\n",
      "amazon.titan-embed-image-v1:0\n",
      "amazon.titan-embed-image-v1\n",
      "amazon.titan-image-generator-v1:0\n",
      "amazon.titan-image-generator-v1\n",
      "amazon.titan-image-generator-v2:0\n",
      "amazon.rerank-v1:0\n",
      "stability.stable-diffusion-xl-v1:0\n",
      "stability.stable-diffusion-xl-v1\n",
      "stability.sd3-large-v1:0\n",
      "stability.sd3-5-large-v1:0\n",
      "stability.stable-image-core-v1:0\n",
      "stability.stable-image-core-v1:1\n",
      "stability.stable-image-ultra-v1:0\n",
      "stability.stable-image-ultra-v1:1\n",
      "anthropic.claude-3-5-sonnet-20241022-v2:0:18k\n",
      "anthropic.claude-3-5-sonnet-20241022-v2:0:51k\n",
      "anthropic.claude-3-5-sonnet-20241022-v2:0:200k\n",
      "anthropic.claude-3-5-sonnet-20241022-v2:0\n",
      "anthropic.claude-3-5-haiku-20241022-v1:0\n",
      "anthropic.claude-instant-v1:2:100k\n",
      "anthropic.claude-instant-v1\n",
      "anthropic.claude-v2:0:18k\n",
      "anthropic.claude-v2:0:100k\n",
      "anthropic.claude-v2:1:18k\n",
      "anthropic.claude-v2:1:200k\n",
      "anthropic.claude-v2:1\n",
      "anthropic.claude-v2\n",
      "anthropic.claude-3-sonnet-20240229-v1:0:28k\n",
      "anthropic.claude-3-sonnet-20240229-v1:0:200k\n",
      "anthropic.claude-3-sonnet-20240229-v1:0\n",
      "anthropic.claude-3-haiku-20240307-v1:0:48k\n",
      "anthropic.claude-3-haiku-20240307-v1:0:200k\n",
      "anthropic.claude-3-haiku-20240307-v1:0\n",
      "anthropic.claude-3-opus-20240229-v1:0:12k\n",
      "anthropic.claude-3-opus-20240229-v1:0:28k\n",
      "anthropic.claude-3-opus-20240229-v1:0:200k\n",
      "anthropic.claude-3-opus-20240229-v1:0\n",
      "anthropic.claude-3-5-sonnet-20240620-v1:0:18k\n",
      "anthropic.claude-3-5-sonnet-20240620-v1:0:51k\n",
      "anthropic.claude-3-5-sonnet-20240620-v1:0:200k\n",
      "anthropic.claude-3-5-sonnet-20240620-v1:0\n",
      "cohere.command-text-v14:7:4k\n",
      "cohere.command-text-v14\n",
      "cohere.command-r-v1:0\n",
      "cohere.command-r-plus-v1:0\n",
      "cohere.command-light-text-v14:7:4k\n",
      "cohere.command-light-text-v14\n",
      "cohere.embed-english-v3:0:512\n",
      "cohere.embed-english-v3\n",
      "cohere.embed-multilingual-v3:0:512\n",
      "cohere.embed-multilingual-v3\n",
      "cohere.rerank-v3-5:0\n",
      "meta.llama3-8b-instruct-v1:0\n",
      "meta.llama3-70b-instruct-v1:0\n",
      "meta.llama3-1-8b-instruct-v1:0:128k\n",
      "meta.llama3-1-8b-instruct-v1:0\n",
      "meta.llama3-1-70b-instruct-v1:0:128k\n",
      "meta.llama3-1-70b-instruct-v1:0\n",
      "meta.llama3-1-405b-instruct-v1:0\n",
      "meta.llama3-2-11b-instruct-v1:0\n",
      "meta.llama3-2-90b-instruct-v1:0\n",
      "meta.llama3-2-1b-instruct-v1:0\n",
      "meta.llama3-2-3b-instruct-v1:0\n",
      "meta.llama3-3-70b-instruct-v1:0\n",
      "mistral.mistral-7b-instruct-v0:2\n",
      "mistral.mixtral-8x7b-instruct-v0:1\n",
      "mistral.mistral-large-2402-v1:0\n",
      "mistral.mistral-large-2407-v1:0\n"
     ]
    }
   ],
   "source": [
    "# bedrock.list_foundation_models()\n",
    "# print the list of foundation models just using the name\n",
    "for model in bedrock.list_foundation_models()['modelSummaries']:\n",
    "    print(model['modelId'])"
   ]
  },
  {
   "cell_type": "code",
   "execution_count": 6,
   "id": "10c5816d-f567-4d72-961e-176b1d7e0d01",
   "metadata": {},
   "outputs": [],
   "source": [
    "# test the model\n",
    "korean_text = \"\"\"\n",
    "한국은 동아시아에 위치한 나라로, 풍부한 역사와 문화를 자랑합니다. 고대로부터 현대에 이르기까지 한국은 수많은 변화를 겪어왔습니다. 삼국시대, 고려시대, 조선시대를 거쳐 현대의 대한민국에 이르기까지 한국인들은 독특한 문화와 전통을 발전시켜 왔습니다.\n",
    "\n",
    "한국의 문화는 유교, 불교, 샤머니즘 등 다양한 철학과 종교의 영향을 받았습니다. 이러한 영향은 한국의 예술, 건축, 음식, 그리고 일상생활의 여러 측면에서 찾아볼 수 있습니다. 특히 한글이라는 독창적인 문자 체계는 한국 문화의 자부심 중 하나입니다.\n",
    "\n",
    "현대 한국은 급속한 경제 성장과 기술 혁신으로 세계적인 주목을 받고 있습니다. 삼성, 현대, LG와 같은 글로벌 기업들이 한국 경제의 중추적 역할을 하고 있으며, K-pop과 한국 드라마로 대표되는 한류는 전 세계적으로 큰 인기를 얻고 있습니다.\n",
    "\n",
    "그러나 한국 사회는 여전히 많은 도전에 직면해 있습니다. 저출산 고령화, 청년 실업, 사회 불평등 등의 문제는 한국이 해결해야 할 중요한 과제입니다. 또한 남북 관계와 주변국과의 외교 관계도 한국의 미래에 중요한 영향을 미칠 것입니다.\n",
    "\n",
    "한국인들은 이러한 도전을 극복하고 더 나은 미래를 만들어가기 위해 노력하고 있습니다. 교육에 대한 높은 열정, 근면성실한 국민성, 그리고 혁신을 추구하는 정신은 한국이 앞으로도 계속 발전해 나갈 수 있게 하는 원동력이 될 것입니다.\n",
    "\"\"\"\n",
    "\n",
    "prompt = f\"Translate and summarize the following korean text to english: {korean_text}. Make it 1/5 half the size\""
   ]
  },
  {
   "cell_type": "code",
   "execution_count": 7,
   "id": "7bf371ba-ffe5-404c-93c1-08359f4006ae",
   "metadata": {},
   "outputs": [
    {
     "name": "stdout",
     "output_type": "stream",
     "text": [
      "{'ResponseMetadata': {'RequestId': '714e5a0d-e240-4c65-826f-e62229e9d4dd', 'HTTPStatusCode': 200, 'HTTPHeaders': {'date': 'Wed, 08 Jan 2025 14:10:48 GMT', 'content-type': 'application/json', 'content-length': '1184', 'connection': 'keep-alive', 'x-amzn-requestid': '714e5a0d-e240-4c65-826f-e62229e9d4dd', 'x-amzn-bedrock-invocation-latency': '5200', 'x-amzn-bedrock-output-token-count': '187', 'x-amzn-bedrock-input-token-count': '731'}, 'RetryAttempts': 0}, 'contentType': 'application/json', 'body': <botocore.response.StreamingBody object at 0x7f8be7e0c490>}\n"
     ]
    }
   ],
   "source": [
    "\n",
    "body = json.dumps({\n",
    "    \"anthropic_version\": \"bedrock-2023-05-31\",\n",
    "    \"max_tokens\": 500,\n",
    "    \"messages\": [\n",
    "        {\n",
    "            \"role\": \"user\",\n",
    "            \"content\": prompt\n",
    "        }\n",
    "    ]\n",
    "})\n",
    "\n",
    "response = bedrock_runtime.invoke_model(\n",
    "    modelId='anthropic.claude-3-5-sonnet-20240620-v1:0',  # Replace with the appropriate model ID\n",
    "    body=body\n",
    ")\n",
    "\n",
    "print(response)"
   ]
  },
  {
   "cell_type": "code",
   "execution_count": 8,
   "id": "f5e23907-c323-4936-bae7-a0f292b40eb0",
   "metadata": {},
   "outputs": [
    {
     "name": "stdout",
     "output_type": "stream",
     "text": [
      "\n",
      "Model's response:\n",
      "Here's a summarized English translation, reduced to approximately one-fifth of the original length:\n",
      "\n",
      "Korea, located in East Asia, boasts a rich history and culture. From ancient times to the present, Korea has undergone numerous changes, developing unique traditions through various historical periods. Korean culture is influenced by Confucianism, Buddhism, and shamanism, evident in its art, architecture, and daily life. The Korean alphabet, Hangul, is a source of cultural pride.\n",
      "\n",
      "Modern Korea has gained global attention for its rapid economic growth and technological innovation, with companies like Samsung and Hyundai playing crucial roles. K-pop and Korean dramas have become internationally popular. However, Korea faces challenges such as an aging population, youth unemployment, and social inequality. Koreans are working to overcome these issues, driven by their passion for education, diligence, and innovative spirit.\n"
     ]
    }
   ],
   "source": [
    "# Read and parse the StreamingBody\n",
    "response_body = json.loads(response['body'].read().decode('utf-8'))\n",
    "\n",
    "print(\"\\nModel's response:\")\n",
    "print(response_body['content'][0]['text'])"
   ]
  },
  {
   "cell_type": "code",
   "execution_count": null,
   "id": "09eea572-80a3-4dc0-81a4-7ef6e167b5b1",
   "metadata": {},
   "outputs": [],
   "source": []
  }
 ],
 "metadata": {
  "kernelspec": {
   "display_name": "Python 3 (ipykernel)",
   "language": "python",
   "name": "python3"
  },
  "language_info": {
   "codemirror_mode": {
    "name": "ipython",
    "version": 3
   },
   "file_extension": ".py",
   "mimetype": "text/x-python",
   "name": "python",
   "nbconvert_exporter": "python",
   "pygments_lexer": "ipython3",
   "version": "3.11.11"
  }
 },
 "nbformat": 4,
 "nbformat_minor": 5
}
