{
 "cells": [
  {
   "cell_type": "markdown",
   "id": "746fd3d5-0b58-4c6e-964a-c6a3be50be8e",
   "metadata": {},
   "source": [
    "# 🌟 AWS Bedrock and Language Models: A Practical Exploration\n",
    "\n",
    "Welcome to this Jupyter notebook on AWS Bedrock and its language models! 🚀\n",
    "\n",
    "In this interactive guide, we'll cover:\n",
    "\n",
    "1. 🔐 **AWS Bedrock Setup**: Learn to configure AWS Bedrock, identify your user/role, and access foundation models.\n",
    "\n",
    "2. 🌏 **Language Processing in Action**: Use the Claude 3 Sonnet model to translate and summarize Korean text, demonstrating real-world AI applications.\n",
    "\n",
    "By the end, you'll understand how to:\n",
    "- Configure and use AWS Bedrock\n",
    "- Invoke AI models for advanced language tasks\n",
    "- Translate and summarize multilingual content\n",
    "\n",
    "Perfect for data scientists, language enthusiasts, or anyone curious about AI's language processing capabilities. Let's dive in! 🎉\n",
    "\n",
    "💡 **Found this helpful?** If you've found value in this notebook, please consider starring the repository. Your support helps others discover this resource and motivates further improvements! ⭐\n"
   ]
  },
  {
   "cell_type": "markdown",
   "id": "b2fd1003-d327-49a3-913d-91cb69e8c2c4",
   "metadata": {},
   "source": [
    "---"
   ]
  },
  {
   "cell_type": "markdown",
   "id": "7a1e05bf-fda0-4e00-82bb-68acfe3251da",
   "metadata": {},
   "source": [
    "🚀 Setting Up AWS Bedrock Access\n",
    "In this section, we'll configure our environment to work with AWS Bedrock. Let's break it down step by step:\n",
    "\n",
    "* 📦 Imports necessary libraries (boto3 and json)\n",
    "* 🔍 Creates an AWS session and STS client\n",
    "* 👤 Retrieves and prints the ARN (Amazon Resource Name) of the current user or role\n",
    "* 💡 Note: Ensure this user/role has the BedrockFullAccess permission for proper functionality."
   ]
  },
  {
   "cell_type": "code",
   "execution_count": 1,
   "id": "a05aaf5e-a9af-46b8-854d-882cc24fadad",
   "metadata": {},
   "outputs": [],
   "source": [
    "import boto3\n",
    "import json"
   ]
  },
  {
   "cell_type": "markdown",
   "id": "256bd434-adc6-4c06-9326-498713a2368c",
   "metadata": {},
   "source": [
    "This code snippet uses the AWS SDK (boto3) to identify the current user or role. We'll use this information to assign the necessary permissions (BedrockFullAccess) for accessing Bedrock services."
   ]
  },
  {
   "cell_type": "code",
   "execution_count": 2,
   "id": "8576a729-90e4-4999-98a3-0b25d6a44702",
   "metadata": {},
   "outputs": [
    {
     "name": "stdout",
     "output_type": "stream",
     "text": [
      "arn:aws:sts::794038231401:assumed-role/SageMaker-ExecutionRole-20250103T203496/SageMaker\n"
     ]
    }
   ],
   "source": [
    "# first we will find out which user or role is being used by sagemaker\n",
    "# We will assign BedrockFUllAccess to it. \n",
    "session = boto3.Session()\n",
    "sts_client = session.client('sts')\n",
    "identity = sts_client.get_caller_identity()\n",
    "print(identity['Arn'])"
   ]
  },
  {
   "cell_type": "markdown",
   "id": "3a7f97c4-551e-4f1b-b449-d0eb2f7c46d5",
   "metadata": {},
   "source": [
    "📋 Listing Available Foundation Models\n",
    "\n",
    "We will first list all the modelId's for bedrock. This will allow us to see all the available options. To request model access for an specific model, refer to [1]\n",
    "\n",
    "💡 Important: Make sure you're using the required region (in this case us-west-2) in the Bedrock console for proper access."
   ]
  },
  {
   "cell_type": "code",
   "execution_count": 4,
   "id": "d7702d0c-d785-4eee-a1f4-28ad50d233ea",
   "metadata": {},
   "outputs": [],
   "source": [
    "bedrock = boto3.client(service_name='bedrock', region_name=\"us-west-2\")\n",
    "bedrock_runtime = boto3.client(service_name='bedrock-runtime', region_name=\"us-west-2\")"
   ]
  },
  {
   "cell_type": "markdown",
   "id": "dfc02919-9412-4799-800c-087c204b55cc",
   "metadata": {},
   "source": [
    "The following loop:\n",
    "\n",
    "🔄 Iterates through the list of available foundation models in AWS Bedrock\n",
    "🖨️ Prints the modelId for each available model\n",
    "\n",
    "By running this code, you'll get a clear picture of your AWS identity and the foundation models available to you through AWS Bedrock. 🎉\n",
    "\n",
    "You still need to request access, refer to [1]"
   ]
  },
  {
   "cell_type": "code",
   "execution_count": 5,
   "id": "cfd27efa-1ba4-4b41-a1a0-566378bbe4a6",
   "metadata": {
    "scrolled": true
   },
   "outputs": [
    {
     "name": "stdout",
     "output_type": "stream",
     "text": [
      "amazon.titan-tg1-large\n",
      "amazon.titan-embed-g1-text-02\n",
      "amazon.titan-text-lite-v1:0:4k\n",
      "amazon.titan-text-lite-v1\n",
      "amazon.titan-text-express-v1:0:8k\n",
      "amazon.titan-text-express-v1\n",
      "amazon.nova-pro-v1:0\n",
      "amazon.nova-lite-v1:0\n",
      "amazon.nova-micro-v1:0\n",
      "amazon.titan-embed-text-v1:2:8k\n",
      "amazon.titan-embed-text-v1\n",
      "amazon.titan-embed-text-v2:0\n",
      "amazon.titan-embed-image-v1:0\n",
      "amazon.titan-embed-image-v1\n",
      "amazon.titan-image-generator-v1:0\n",
      "amazon.titan-image-generator-v1\n",
      "amazon.titan-image-generator-v2:0\n",
      "amazon.rerank-v1:0\n",
      "stability.stable-diffusion-xl-v1:0\n",
      "stability.stable-diffusion-xl-v1\n",
      "stability.sd3-large-v1:0\n",
      "stability.sd3-5-large-v1:0\n",
      "stability.stable-image-core-v1:0\n",
      "stability.stable-image-core-v1:1\n",
      "stability.stable-image-ultra-v1:0\n",
      "stability.stable-image-ultra-v1:1\n",
      "anthropic.claude-3-5-sonnet-20241022-v2:0:18k\n",
      "anthropic.claude-3-5-sonnet-20241022-v2:0:51k\n",
      "anthropic.claude-3-5-sonnet-20241022-v2:0:200k\n",
      "anthropic.claude-3-5-sonnet-20241022-v2:0\n",
      "anthropic.claude-3-5-haiku-20241022-v1:0\n",
      "anthropic.claude-instant-v1:2:100k\n",
      "anthropic.claude-instant-v1\n",
      "anthropic.claude-v2:0:18k\n",
      "anthropic.claude-v2:0:100k\n",
      "anthropic.claude-v2:1:18k\n",
      "anthropic.claude-v2:1:200k\n",
      "anthropic.claude-v2:1\n",
      "anthropic.claude-v2\n",
      "anthropic.claude-3-sonnet-20240229-v1:0:28k\n",
      "anthropic.claude-3-sonnet-20240229-v1:0:200k\n",
      "anthropic.claude-3-sonnet-20240229-v1:0\n",
      "anthropic.claude-3-haiku-20240307-v1:0:48k\n",
      "anthropic.claude-3-haiku-20240307-v1:0:200k\n",
      "anthropic.claude-3-haiku-20240307-v1:0\n",
      "anthropic.claude-3-opus-20240229-v1:0:12k\n",
      "anthropic.claude-3-opus-20240229-v1:0:28k\n",
      "anthropic.claude-3-opus-20240229-v1:0:200k\n",
      "anthropic.claude-3-opus-20240229-v1:0\n",
      "anthropic.claude-3-5-sonnet-20240620-v1:0:18k\n",
      "anthropic.claude-3-5-sonnet-20240620-v1:0:51k\n",
      "anthropic.claude-3-5-sonnet-20240620-v1:0:200k\n",
      "anthropic.claude-3-5-sonnet-20240620-v1:0\n",
      "cohere.command-text-v14:7:4k\n",
      "cohere.command-text-v14\n",
      "cohere.command-r-v1:0\n",
      "cohere.command-r-plus-v1:0\n",
      "cohere.command-light-text-v14:7:4k\n",
      "cohere.command-light-text-v14\n",
      "cohere.embed-english-v3:0:512\n",
      "cohere.embed-english-v3\n",
      "cohere.embed-multilingual-v3:0:512\n",
      "cohere.embed-multilingual-v3\n",
      "cohere.rerank-v3-5:0\n",
      "meta.llama3-8b-instruct-v1:0\n",
      "meta.llama3-70b-instruct-v1:0\n",
      "meta.llama3-1-8b-instruct-v1:0:128k\n",
      "meta.llama3-1-8b-instruct-v1:0\n",
      "meta.llama3-1-70b-instruct-v1:0:128k\n",
      "meta.llama3-1-70b-instruct-v1:0\n",
      "meta.llama3-1-405b-instruct-v1:0\n",
      "meta.llama3-2-11b-instruct-v1:0\n",
      "meta.llama3-2-90b-instruct-v1:0\n",
      "meta.llama3-2-1b-instruct-v1:0\n",
      "meta.llama3-2-3b-instruct-v1:0\n",
      "meta.llama3-3-70b-instruct-v1:0\n",
      "mistral.mistral-7b-instruct-v0:2\n",
      "mistral.mixtral-8x7b-instruct-v0:1\n",
      "mistral.mistral-large-2402-v1:0\n",
      "mistral.mistral-large-2407-v1:0\n"
     ]
    }
   ],
   "source": [
    "# bedrock.list_foundation_models()\n",
    "# print the list of foundation models just using the name\n",
    "for model in bedrock.list_foundation_models()['modelSummaries']:\n",
    "    print(model['modelId'])"
   ]
  },
  {
   "cell_type": "markdown",
   "id": "0b828a92-4c18-4347-9208-fec58cd003b3",
   "metadata": {},
   "source": [
    "# 🌏 Korean to English Translation and Summarization\n",
    "\n",
    "This code showcases how to leverage AWS Bedrock and the Claude 3 Sonnet model for advanced language tasks like translation and summarization. 🌟\n",
    "\n",
    "* 🇰🇷 We start with a comprehensive Korean text about Korea\n",
    "* 🔄 The prompt asks for translation and summarization to 1/10th of the original size"
   ]
  },
  {
   "cell_type": "code",
   "execution_count": 6,
   "id": "10c5816d-f567-4d72-961e-176b1d7e0d01",
   "metadata": {},
   "outputs": [],
   "source": [
    "korean_text = \"\"\"\n",
    "한국은 동아시아에 위치한 나라로, 풍부한 역사와 문화를 자랑합니다. 고대로부터 현대에 이르기까지 한국은 수많은 변화를 겪어왔습니다. 삼국시대, 고려시대, 조선시대를 거쳐 현대의 대한민국에 이르기까지 한국인들은 독특한 문화와 전통을 발전시켜 왔습니다.\n",
    "\n",
    "한국의 문화는 유교, 불교, 샤머니즘 등 다양한 철학과 종교의 영향을 받았습니다. 이러한 영향은 한국의 예술, 건축, 음식, 그리고 일상생활의 여러 측면에서 찾아볼 수 있습니다. 특히 한글이라는 독창적인 문자 체계는 한국 문화의 자부심 중 하나입니다.\n",
    "\n",
    "현대 한국은 급속한 경제 성장과 기술 혁신으로 세계적인 주목을 받고 있습니다. 삼성, 현대, LG와 같은 글로벌 기업들이 한국 경제의 중추적 역할을 하고 있으며, K-pop과 한국 드라마로 대표되는 한류는 전 세계적으로 큰 인기를 얻고 있습니다.\n",
    "\n",
    "그러나 한국 사회는 여전히 많은 도전에 직면해 있습니다. 저출산 고령화, 청년 실업, 사회 불평등 등의 문제는 한국이 해결해야 할 중요한 과제입니다. 또한 남북 관계와 주변국과의 외교 관계도 한국의 미래에 중요한 영향을 미칠 것입니다.\n",
    "\n",
    "한국인들은 이러한 도전을 극복하고 더 나은 미래를 만들어가기 위해 노력하고 있습니다. 교육에 대한 높은 열정, 근면성실한 국민성, 그리고 혁신을 추구하는 정신은 한국이 앞으로도 계속 발전해 나갈 수 있게 하는 원동력이 될 것입니다.\n",
    "\"\"\"\n",
    "\n",
    "prompt = f\"Translate and summarize the following korean text to english: {korean_text}. Make it 1/5 half the size\""
   ]
  },
  {
   "cell_type": "markdown",
   "id": "2b8026b4-7ddf-4c6d-9730-dfa0660dfa32",
   "metadata": {},
   "source": [
    "🛠️ Preparing the API Request\n",
    "\n",
    "* 📊 We structure the request body as JSON\n",
    "* ⚙️ Set parameters like anthropic_version and max_tokens\n",
    "* 💬 Include our prompt in the messages array"
   ]
  },
  {
   "cell_type": "code",
   "execution_count": null,
   "id": "983f098b-3576-4d8f-8062-c48ca1b25d51",
   "metadata": {},
   "outputs": [],
   "source": [
    "body = json.dumps({\n",
    "    \"anthropic_version\": \"bedrock-2023-05-31\",\n",
    "    \"max_tokens\": 500,\n",
    "    \"messages\": [\n",
    "        {\n",
    "            \"role\": \"user\",\n",
    "            \"content\": prompt\n",
    "        }\n",
    "    ]\n",
    "})"
   ]
  },
  {
   "cell_type": "markdown",
   "id": "21316e6c-4799-4787-ab97-63283a7d9ca9",
   "metadata": {},
   "source": [
    "🚀 Invoking the Model\n",
    "\n",
    "* 🤖 We use bedrock_runtime.invoke_model() to call the Claude 3 Sonnet model\n",
    "* 🎭 The model ID is specified as anthropic.claude-3-5-sonnet-20240620-v1:0 as listed in the previous section"
   ]
  },
  {
   "cell_type": "code",
   "execution_count": 7,
   "id": "7bf371ba-ffe5-404c-93c1-08359f4006ae",
   "metadata": {},
   "outputs": [
    {
     "name": "stdout",
     "output_type": "stream",
     "text": [
      "{'ResponseMetadata': {'RequestId': '714e5a0d-e240-4c65-826f-e62229e9d4dd', 'HTTPStatusCode': 200, 'HTTPHeaders': {'date': 'Wed, 08 Jan 2025 14:10:48 GMT', 'content-type': 'application/json', 'content-length': '1184', 'connection': 'keep-alive', 'x-amzn-requestid': '714e5a0d-e240-4c65-826f-e62229e9d4dd', 'x-amzn-bedrock-invocation-latency': '5200', 'x-amzn-bedrock-output-token-count': '187', 'x-amzn-bedrock-input-token-count': '731'}, 'RetryAttempts': 0}, 'contentType': 'application/json', 'body': <botocore.response.StreamingBody object at 0x7f8be7e0c490>}\n"
     ]
    }
   ],
   "source": [
    "response = bedrock_runtime.invoke_model(\n",
    "    modelId='anthropic.claude-3-5-sonnet-20240620-v1:0',  # Replace with the appropriate model ID\n",
    "    body=body\n",
    ")\n",
    "\n",
    "print(response)"
   ]
  },
  {
   "cell_type": "markdown",
   "id": "bbcb7d72-82a3-492b-8685-982d561a2b23",
   "metadata": {},
   "source": [
    "📊 Processing and Displaying the Response\n",
    "\n",
    "* 📥 We read and parse the response from the StreamingBody\n",
    "* 🖨️ The translated and summarized text is then printed to the console"
   ]
  },
  {
   "cell_type": "code",
   "execution_count": 8,
   "id": "f5e23907-c323-4936-bae7-a0f292b40eb0",
   "metadata": {},
   "outputs": [
    {
     "name": "stdout",
     "output_type": "stream",
     "text": [
      "\n",
      "Model's response:\n",
      "Here's a summarized English translation, reduced to approximately one-fifth of the original length:\n",
      "\n",
      "Korea, located in East Asia, boasts a rich history and culture. From ancient times to the present, Korea has undergone numerous changes, developing unique traditions through various historical periods. Korean culture is influenced by Confucianism, Buddhism, and shamanism, evident in its art, architecture, and daily life. The Korean alphabet, Hangul, is a source of cultural pride.\n",
      "\n",
      "Modern Korea has gained global attention for its rapid economic growth and technological innovation, with companies like Samsung and Hyundai playing crucial roles. K-pop and Korean dramas have become internationally popular. However, Korea faces challenges such as an aging population, youth unemployment, and social inequality. Koreans are working to overcome these issues, driven by their passion for education, diligence, and innovative spirit.\n"
     ]
    }
   ],
   "source": [
    "# Read and parse the StreamingBody\n",
    "response_body = json.loads(response['body'].read().decode('utf-8'))\n",
    "\n",
    "print(\"\\nModel's response:\")\n",
    "print(response_body['content'][0]['text'])"
   ]
  },
  {
   "cell_type": "markdown",
   "id": "92db0542-fe64-444a-9571-e71d4277995a",
   "metadata": {},
   "source": [
    "### references\n",
    "[1] Access Amazon Bedrock foundation models - https://docs.aws.amazon.com/bedrock/latest/userguide/model-access.html"
   ]
  }
 ],
 "metadata": {
  "kernelspec": {
   "display_name": "Python 3 (ipykernel)",
   "language": "python",
   "name": "python3"
  },
  "language_info": {
   "codemirror_mode": {
    "name": "ipython",
    "version": 3
   },
   "file_extension": ".py",
   "mimetype": "text/x-python",
   "name": "python",
   "nbconvert_exporter": "python",
   "pygments_lexer": "ipython3",
   "version": "3.11.11"
  }
 },
 "nbformat": 4,
 "nbformat_minor": 5
}
