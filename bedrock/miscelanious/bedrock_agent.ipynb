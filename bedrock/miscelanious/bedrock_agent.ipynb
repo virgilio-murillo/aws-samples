{
 "cells": [
  {
   "cell_type": "code",
   "execution_count": 29,
   "id": "df087886-54c7-445d-b636-54de8145b4a5",
   "metadata": {},
   "outputs": [],
   "source": [
    "#invoke agent test"
   ]
  },
  {
   "cell_type": "code",
   "execution_count": 30,
   "id": "ddda454f-bd5b-4864-ba64-52fbc60680ff",
   "metadata": {},
   "outputs": [],
   "source": [
    "import boto3\n",
    "import json"
   ]
  },
  {
   "cell_type": "code",
   "execution_count": 31,
   "id": "08c6e1f9-2ffa-478c-bd26-ef8595f33058",
   "metadata": {},
   "outputs": [],
   "source": [
    "session = boto3.Session()\n",
    "agent_runtime = session.client('bedrock-agent-runtime')\n",
    "agent = session.client('bedrock-agent')"
   ]
  },
  {
   "cell_type": "code",
   "execution_count": 32,
   "id": "d90885cc-debf-4038-9805-30f47ed26b0b",
   "metadata": {},
   "outputs": [],
   "source": [
    "from config import *"
   ]
  },
  {
   "cell_type": "code",
   "execution_count": 33,
   "id": "2ec18648-a1f2-482f-a99d-399ae441fa6d",
   "metadata": {},
   "outputs": [],
   "source": [
    "agent_name = agent_name\n",
    "agent_id = agent_id\n",
    "agent_arn = agent_arn\n",
    "agent_alias_id = agent_alias_id"
   ]
  },
  {
   "cell_type": "code",
   "execution_count": 34,
   "id": "60dac371-57ea-455b-8173-c1006551a606",
   "metadata": {},
   "outputs": [],
   "source": [
    "prompt = \"bedrock quickstart, give me the s3 link you used for your reposnse\""
   ]
  },
  {
   "cell_type": "code",
   "execution_count": 35,
   "id": "a93ecf3a-04fe-44e6-b059-ff1377694f34",
   "metadata": {},
   "outputs": [
    {
     "name": "stdout",
     "output_type": "stream",
     "text": [
      "1076726386216\n"
     ]
    }
   ],
   "source": [
    "import random\n",
    "\n",
    "# Random integer between 1 and 10 (inclusive)\n",
    "\n",
    "sessionId = \"\"\n",
    "for i in range(12):\n",
    "    number = random.randint(1, 10)\n",
    "    sessionId  += str(number)\n",
    "print(sessionId)"
   ]
  },
  {
   "cell_type": "code",
   "execution_count": 36,
   "id": "ce66df9e-07b5-4e88-9a7f-1a97732097d1",
   "metadata": {},
   "outputs": [
    {
     "name": "stdout",
     "output_type": "stream",
     "text": [
      "=== event: {'chunk': {'bytes': b'I could not find an exact answer to the question in the search results. The search results provided detailed information about Amazon Bedrock, its features, and integration with other AWS services, but they did not mention an S3 link.\\n'}}\n",
      "\n",
      "\n"
     ]
    }
   ],
   "source": [
    "response = agent_runtime.invoke_agent(agentAliasId = agent_alias_id,\n",
    "                                      agentId = agent_id, \n",
    "                                      sessionId = sessionId, \n",
    "                                      inputText = prompt)\n",
    "completion = \"\"\n",
    "for event in response.get(\"completion\"):\n",
    "    print(f\"=== event: {event}\\n\\n\")"
   ]
  },
  {
   "cell_type": "code",
   "execution_count": null,
   "id": "0d5fbe43-f1c9-4ec7-bb17-30710d01e1d0",
   "metadata": {},
   "outputs": [],
   "source": []
  }
 ],
 "metadata": {
  "kernelspec": {
   "display_name": "Python 3 (ipykernel)",
   "language": "python",
   "name": "python3"
  },
  "language_info": {
   "codemirror_mode": {
    "name": "ipython",
    "version": 3
   },
   "file_extension": ".py",
   "mimetype": "text/x-python",
   "name": "python",
   "nbconvert_exporter": "python",
   "pygments_lexer": "ipython3",
   "version": "3.11.11"
  }
 },
 "nbformat": 4,
 "nbformat_minor": 5
}
