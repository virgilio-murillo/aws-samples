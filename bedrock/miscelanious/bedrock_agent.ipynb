{
 "cells": [
  {
   "cell_type": "code",
   "execution_count": 1,
   "id": "ddda454f-bd5b-4864-ba64-52fbc60680ff",
   "metadata": {},
   "outputs": [],
   "source": [
    "import boto3\n",
    "import json\n",
    "import time"
   ]
  },
  {
   "cell_type": "code",
   "execution_count": 2,
   "id": "0ce4d29d-baba-44fa-b74f-47645c3b66d3",
   "metadata": {},
   "outputs": [
    {
     "name": "stdout",
     "output_type": "stream",
     "text": [
      "1.37.18\n"
     ]
    }
   ],
   "source": [
    "print(boto3.__version__) "
   ]
  },
  {
   "cell_type": "code",
   "execution_count": null,
   "id": "5f4f1931-e91f-4f51-8b9d-0ca02453ce76",
   "metadata": {},
   "outputs": [],
   "source": []
  },
  {
   "cell_type": "code",
   "execution_count": 3,
   "id": "08c6e1f9-2ffa-478c-bd26-ef8595f33058",
   "metadata": {},
   "outputs": [],
   "source": [
    "session = boto3.Session()\n",
    "agent_runtime = session.client('bedrock-agent-runtime')\n",
    "agent = session.client('bedrock-agent')"
   ]
  },
  {
   "cell_type": "code",
   "execution_count": 4,
   "id": "d90885cc-debf-4038-9805-30f47ed26b0b",
   "metadata": {},
   "outputs": [],
   "source": [
    "from config import *"
   ]
  },
  {
   "cell_type": "code",
   "execution_count": 17,
   "id": "2ec18648-a1f2-482f-a99d-399ae441fa6d",
   "metadata": {},
   "outputs": [],
   "source": [
    "agent_name = agent_name\n",
    "agent_id = agent_id\n",
    "agent_arn = agent_arn\n",
    "agent_alias_id = agent_alias_id"
   ]
  },
  {
   "cell_type": "code",
   "execution_count": 18,
   "id": "21748abe-f79b-483e-ae45-256b3629eb46",
   "metadata": {},
   "outputs": [
    {
     "name": "stdout",
     "output_type": "stream",
     "text": [
      "KLIQ4FV4Q9\n"
     ]
    }
   ],
   "source": [
    "print(agent_alias_id)"
   ]
  },
  {
   "cell_type": "code",
   "execution_count": 19,
   "id": "60dac371-57ea-455b-8173-c1006551a606",
   "metadata": {},
   "outputs": [],
   "source": [
    "prompt = \"give me a quick start on bedrock\""
   ]
  },
  {
   "cell_type": "code",
   "execution_count": 5,
   "id": "a93ecf3a-04fe-44e6-b059-ff1377694f34",
   "metadata": {},
   "outputs": [],
   "source": [
    "import random\n",
    "\n",
    "# Random integer between 1 and 10 (inclusive)\n",
    "def get_session_id():\n",
    "    sessionId = \"\"\n",
    "    for i in range(12):\n",
    "        number = random.randint(1, 10)\n",
    "        sessionId  += str(number)\n",
    "    return sessionId"
   ]
  },
  {
   "cell_type": "code",
   "execution_count": 6,
   "id": "6ca99cdd-b229-4180-a1d1-f826d5ca2d3c",
   "metadata": {},
   "outputs": [],
   "source": [
    "def call_agent(inputText, session_id):\n",
    "    response = agent_runtime.invoke_agent(agentAliasId = agent_alias_id,\n",
    "                                      agentId = agent_id, \n",
    "                                      sessionId = session_id, \n",
    "                                      inputText = inputText)\n",
    "    # we will store it first\n",
    "    ans = []\n",
    "    counter = 1\n",
    "    for event in response.get('completion'):\n",
    "        print(f\"trace step {str(counter)}\")\n",
    "        counter +=1\n",
    "        print(event)\n",
    "    # we only sleep 250 seconds to test if the memory is kept after that time\n",
    "    time.sleep(250)"
   ]
  },
  {
   "cell_type": "code",
   "execution_count": 9,
   "id": "ce66df9e-07b5-4e88-9a7f-1a97732097d1",
   "metadata": {},
   "outputs": [
    {
     "name": "stdout",
     "output_type": "stream",
     "text": [
      "trace step 1\n",
      "{'chunk': {'bytes': b'I cannot provide information about Bedrock.'}}\n"
     ]
    }
   ],
   "source": [
    "call_agent(prompt, get_session_id())"
   ]
  },
  {
   "cell_type": "code",
   "execution_count": 22,
   "id": "03ef5bc4-ef34-4e6b-9161-6109c1c02603",
   "metadata": {},
   "outputs": [],
   "source": [
    "texts = []\n",
    "\n",
    "text1 = \"my asset is 88324cf919e14212bce765be9eed46ab please help me about this asset.\"\n",
    "text2 = \"what is my asset id\"\n",
    "\n",
    "text3 = \"I am interested with DTAc application logbook feature\"\n",
    "text4 = \"Do you remember which DTAc application feature that I am interested with?\"\n",
    "\n",
    "text5 = \"How many assets i have?\"\n",
    "text6 = \"I have 5 assets in this fleet\""
   ]
  },
  {
   "cell_type": "code",
   "execution_count": 23,
   "id": "f1a2aaa2-02cc-4432-98e1-2ffa3320290a",
   "metadata": {},
   "outputs": [],
   "source": [
    "texts = []\n",
    "texts.append(text1)\n",
    "texts.append(text2)\n",
    "texts.append(text3)\n",
    "texts.append(text4)\n",
    "texts.append(text5)\n",
    "texts.append(text6)"
   ]
  },
  {
   "cell_type": "code",
   "execution_count": 24,
   "id": "7d93d1a3-fd59-4f83-a830-8e7ca6125fbe",
   "metadata": {},
   "outputs": [],
   "source": [
    "session_id = get_session_id()"
   ]
  },
  {
   "cell_type": "code",
   "execution_count": 25,
   "id": "7a8f8e8c-72fe-4997-82b4-51fcc9d0083b",
   "metadata": {},
   "outputs": [
    {
     "name": "stdout",
     "output_type": "stream",
     "text": [
      "trace step 1\n",
      "{'chunk': {'bytes': b'I do not have the capability to fetch information about assets.'}}\n",
      "trace step 1\n",
      "{'chunk': {'bytes': b'Your asset ID is 88324cf919e14212bce765be9eed46ab.'}}\n",
      "trace step 1\n",
      "{'chunk': {'bytes': b'I do not have the capability to provide information about specific application features.'}}\n",
      "trace step 1\n",
      "{'chunk': {'bytes': b'You are interested in the DTAc application logbook feature.'}}\n",
      "trace step 1\n",
      "{'chunk': {'bytes': b'I do not have the capability to fetch information about the number of assets you have.'}}\n",
      "trace step 1\n",
      "{'chunk': {'bytes': b'Thank you for informing me that you have 5 assets in your fleet.'}}\n"
     ]
    }
   ],
   "source": [
    "for text in texts:\n",
    "    call_agent(text, session_id)"
   ]
  },
  {
   "cell_type": "code",
   "execution_count": 7,
   "id": "f015c3bc-f876-4d63-a3bb-66eb4327470d",
   "metadata": {},
   "outputs": [],
   "source": [
    "# now we will query a new agent using metadata filtering for the knoweldge base"
   ]
  },
  {
   "cell_type": "code",
   "execution_count": 8,
   "id": "bba38f0b-2b70-4c3f-9416-3fbd4366f17e",
   "metadata": {},
   "outputs": [
    {
     "name": "stdout",
     "output_type": "stream",
     "text": [
      "trace step 1\n",
      "{'chunk': {'attribution': {'citations': [{'generatedResponsePart': {'textResponsePart': {'span': {'end': 319, 'start': 0}, 'text': 'GreenLeaf Technologies is a leading company in the sustainable energy sector, founded in 2008 by Dr. Amelia Chen and Dr. Marcus Hoffman. The company has grown from a small Silicon Valley startup to a global leader in renewable energy technologies, with operations in 25 countries and a workforce of over 5,000 employees.'}}, 'retrievedReferences': [{'content': {'text': 'Company 1: GreenLeaf Technologies\\r \\r GreenLeaf Technologies is a pioneering force in the sustainable energy sector, dedicated to developing innovative solutions for a cleaner, greener future. Founded in 2008 by Dr. Amelia Chen and Dr. Marcus Hoffman, the company has grown from a small startup in Silicon Valley to a global leader in renewable energy technologies.', 'type': 'TEXT'}, 'location': {'s3Location': {'uri': 's3://mainbucketrockhight5461/test/knowledge-bases/companies/bfjsdbvhfubsvhufodsbvfhusobhsfd.txt'}, 'type': 'S3'}, 'metadata': {'x-amz-bedrock-kb-source-uri': 's3://mainbucketrockhight5461/test/knowledge-bases/companies/bfjsdbvhfubsvhufodsbvfhusobhsfd.txt', 'x-amz-bedrock-kb-chunk-id': '1%3A0%3AjJjZyJUB5IaZkrsKaXkP', 'x-amz-bedrock-kb-data-source-id': 'ND5LJFJSLL'}}, {'content': {'text': \"With a global workforce of over 5,000 employees and operations in 25 countries, GreenLeaf has established itself as a major player in the renewable energy industry.\\r \\r The company's success has not gone unnoticed by investors. GreenLeaf went public in 2015, and its stock price has more than quadrupled since then. The company has also attracted significant venture capital funding, raising over $800 million in its last funding round in 2019.\", 'type': 'TEXT'}, 'location': {'s3Location': {'uri': 's3://mainbucketrockhight5461/test/knowledge-bases/companies/bfjsdbvhfubsvhufodsbvfhusobhsfd.txt'}, 'type': 'S3'}, 'metadata': {'x-amz-bedrock-kb-source-uri': 's3://mainbucketrockhight5461/test/knowledge-bases/companies/bfjsdbvhfubsvhufodsbvfhusobhsfd.txt', 'x-amz-bedrock-kb-chunk-id': '1%3A0%3AkpjZyJUB5IaZkrsKaXkQ', 'x-amz-bedrock-kb-data-source-id': 'ND5LJFJSLL'}}]}, {'generatedResponsePart': {'textResponsePart': {'span': {'end': 722, 'start': 321}, 'text': \"\\nThe company focuses on three main areas: solar energy optimization, wind power efficiency, and energy storage solutions. Their mission is to accelerate the world's transition to sustainable energy by making renewable sources more accessible, efficient, and cost-effective. One of their flagship products is the SolarMax Pro, an advanced solar panel system with an industry-leading 27% efficiency rate.\"}}, 'retrievedReferences': [{'content': {'text': \"At its core, GreenLeaf Technologies focuses on three main areas: solar energy optimization, wind power efficiency, and energy storage solutions. The company's mission is to accelerate the world's transition to sustainable energy by making renewable sources more accessible, efficient, and cost-effective.\\r \\r One of GreenLeaf's flagship products is the SolarMax Pro, an advanced solar panel system that boasts an industry-leading 27% efficiency rate.\", 'type': 'TEXT'}, 'location': {'s3Location': {'uri': 's3://mainbucketrockhight5461/test/knowledge-bases/companies/bfjsdbvhfubsvhufodsbvfhusobhsfd.txt'}, 'type': 'S3'}, 'metadata': {'x-amz-bedrock-kb-source-uri': 's3://mainbucketrockhight5461/test/knowledge-bases/companies/bfjsdbvhfubsvhufodsbvfhusobhsfd.txt', 'x-amz-bedrock-kb-chunk-id': '1%3A0%3AjZjZyJUB5IaZkrsKaXkP', 'x-amz-bedrock-kb-data-source-id': 'ND5LJFJSLL'}}]}, {'generatedResponsePart': {'textResponsePart': {'span': {'end': 1226, 'start': 724}, 'text': '\\nGreenLeaf Technologies is known for its strong corporate culture, emphasizing innovation, sustainability, and employee well-being. The company offers comprehensive benefits packages and has consistently been ranked as one of the best places to work in the tech industry. They also demonstrate corporate social responsibility through initiatives like the GreenLeaf Foundation, which provides grants for environmental conservation projects and supports STEM education programs in underserved communities.'}}, 'retrievedReferences': [{'content': {'text': 'GreenLeaf Technologies is known for its strong corporate culture, which emphasizes innovation, sustainability, and employee well-being. The company offers comprehensive benefits packages, including generous parental leave, mental health support, and professional development opportunities. GreenLeaf has consistently been ranked as one of the best places to work in the tech industry.\\r \\r In terms of corporate social responsibility, GreenLeaf has implemented several initiatives to give back to communities and promote environmental awareness.', 'type': 'TEXT'}, 'location': {'s3Location': {'uri': 's3://mainbucketrockhight5461/test/knowledge-bases/companies/bfjsdbvhfubsvhufodsbvfhusobhsfd.txt'}, 'type': 'S3'}, 'metadata': {'x-amz-bedrock-kb-source-uri': 's3://mainbucketrockhight5461/test/knowledge-bases/companies/bfjsdbvhfubsvhufodsbvfhusobhsfd.txt', 'x-amz-bedrock-kb-chunk-id': '1%3A0%3Ak5jZyJUB5IaZkrsKaXkQ', 'x-amz-bedrock-kb-data-source-id': 'ND5LJFJSLL'}}, {'content': {'text': 'The GreenLeaf Foundation, established in 2012, provides grants to environmental conservation projects and supports STEM education programs in underserved communities. The company also runs an annual \"Green Innovation Challenge,\" a competition that encourages young entrepreneurs to develop sustainable business ideas.\\r \\r Looking to the future, GreenLeaf Technologies aims to play a crucial role in the global transition to clean energy.', 'type': 'TEXT'}, 'location': {'s3Location': {'uri': 's3://mainbucketrockhight5461/test/knowledge-bases/companies/bfjsdbvhfubsvhufodsbvfhusobhsfd.txt'}, 'type': 'S3'}, 'metadata': {'x-amz-bedrock-kb-source-uri': 's3://mainbucketrockhight5461/test/knowledge-bases/companies/bfjsdbvhfubsvhufodsbvfhusobhsfd.txt', 'x-amz-bedrock-kb-chunk-id': '1%3A0%3AlJjZyJUB5IaZkrsKaXkQ', 'x-amz-bedrock-kb-data-source-id': 'ND5LJFJSLL'}}]}]}, 'bytes': b\"GreenLeaf Technologies is a leading company in the sustainable energy sector, founded in 2008 by Dr. Amelia Chen and Dr. Marcus Hoffman. The company has grown from a small Silicon Valley startup to a global leader in renewable energy technologies, with operations in 25 countries and a workforce of over 5,000 employees. \\nThe company focuses on three main areas: solar energy optimization, wind power efficiency, and energy storage solutions. Their mission is to accelerate the world's transition to sustainable energy by making renewable sources more accessible, efficient, and cost-effective. One of their flagship products is the SolarMax Pro, an advanced solar panel system with an industry-leading 27% efficiency rate. \\nGreenLeaf Technologies is known for its strong corporate culture, emphasizing innovation, sustainability, and employee well-being. The company offers comprehensive benefits packages and has consistently been ranked as one of the best places to work in the tech industry. They also demonstrate corporate social responsibility through initiatives like the GreenLeaf Foundation, which provides grants for environmental conservation projects and supports STEM education programs in underserved communities.\"}}\n"
     ]
    }
   ],
   "source": [
    "inputText = \"GreenLeaf\"\n",
    "\n",
    "response = agent_runtime.invoke_agent(agentAliasId = ALIASID2,\n",
    "                                  agentId = AGENTID2, \n",
    "                                  sessionId = get_session_id(), \n",
    "                                  inputText = inputText)\n",
    "# we will store it first\n",
    "ans = []\n",
    "counter = 1\n",
    "for event in response.get('completion'):\n",
    "    print(f\"trace step {str(counter)}\")\n",
    "    counter +=1\n",
    "    print(event)"
   ]
  },
  {
   "cell_type": "code",
   "execution_count": 11,
   "id": "113c5032-04f1-4b5a-bec2-e1c79b811e9e",
   "metadata": {},
   "outputs": [
    {
     "name": "stdout",
     "output_type": "stream",
     "text": [
      "trace step 1\n",
      "{'chunk': {'attribution': {'citations': [{'generatedResponsePart': {'textResponsePart': {'span': {'end': 519, 'start': 0}, 'text': \"GreenLeaf Technologies is a major competitor to MediSync Solutions in the healthcare technology industry. The company has been making significant strides in various areas of health tech, including telemedicine, AI-driven solutions, and wearable technology.\\n\\nGreenLeaf has set an ambitious goal to reach 120 million patients through telemedicine by 2025, surpassing MediSync's target of 100 million. The company has also been actively expanding its presence globally, with a particular focus on the South American market.\"}}, 'retrievedReferences': [{'content': {'text': \"MediSync's goal of expanding telemedicine access to 100 million patients by 2025 is ambitious, but GreenLeaf has countered with a plan to reach 120 million patients in the same timeframe.\\r \\r The competition between MediSync and GreenLeaf is ultimately beneficial for the healthcare industry as a whole. Their ongoing innovation race is driving rapid advancements in medical technology, leading to improved patient care and outcomes.\", 'type': 'TEXT'}, 'location': {'s3Location': {'uri': 's3://mainbucketrockhight5461/test/knowledge-bases/companies/medisync.txt'}, 'type': 'S3'}, 'metadata': {'x-amz-bedrock-kb-source-uri': 's3://mainbucketrockhight5461/test/knowledge-bases/companies/medisync.txt', 'x-amz-bedrock-kb-chunk-id': '1%3A0%3AIJrZyJUBLLC3xaMoZijY', 'x-amz-bedrock-kb-data-source-id': 'ND5LJFJSLL'}}, {'content': {'text': \"However, GreenLeaf Technologies is not far behind, with its own AI division, GreenMind, developing competitive solutions for early cancer detection.\\r \\r The wearable technology market has become another battleground for these tech giants. While MediSync's MediVital smartwatch has garnered praise for its accuracy and integration capabilities, GreenLeaf's VitaTrack device boasts longer battery life and a more user-friendly interface.\\r \\r Both companies have been aggressive in their expansion strategies.\", 'type': 'TEXT'}, 'location': {'s3Location': {'uri': 's3://mainbucketrockhight5461/test/knowledge-bases/companies/medisync.txt'}, 'type': 'S3'}, 'metadata': {'x-amz-bedrock-kb-source-uri': 's3://mainbucketrockhight5461/test/knowledge-bases/companies/medisync.txt', 'x-amz-bedrock-kb-chunk-id': '1%3A0%3AG5rZyJUBLLC3xaMoZijY', 'x-amz-bedrock-kb-data-source-id': 'ND5LJFJSLL'}}, {'content': {'text': \"MediSync Solutions has focused on penetrating emerging markets in Southeast Asia, while GreenLeaf Technologies has made significant inroads in South America. This global competition has driven both firms to continually innovate and improve their offerings.\\r \\r In terms of financial performance, MediSync and GreenLeaf have been neck-and-neck. While MediSync reported revenues of $1.8 billion in 2021, GreenLeaf wasn't far behind with $1.6 billion.\", 'type': 'TEXT'}, 'location': {'s3Location': {'uri': 's3://mainbucketrockhight5461/test/knowledge-bases/companies/medisync.txt'}, 'type': 'S3'}, 'metadata': {'x-amz-bedrock-kb-source-uri': 's3://mainbucketrockhight5461/test/knowledge-bases/companies/medisync.txt', 'x-amz-bedrock-kb-chunk-id': '1%3A0%3AHJrZyJUBLLC3xaMoZijY', 'x-amz-bedrock-kb-data-source-id': 'ND5LJFJSLL'}}]}, {'generatedResponsePart': {'textResponsePart': {'span': {'end': 1095, 'start': 521}, 'text': \"\\nIn terms of technological advancements, GreenLeaf's AI division, GreenMind, is developing competitive solutions for early cancer detection. The company's VitaTrack wearable device competes with MediSync's MediVital smartwatch, offering longer battery life and a more user-friendly interface.\\n\\nGreenLeaf has also been aggressive in talent acquisition, offering attractive packages to top professionals in fields such as data science, AI, and biomedical engineering. Financially, the company reported revenues of $1.6 billion in 2021, closely trailing MediSync's $1.8 billion.\"}}, 'retrievedReferences': [{'content': {'text': \"Analysts predict that the gap may narrow further in the coming years as GreenLeaf's recent acquisitions begin to pay off.\\r \\r The rivalry between MediSync Solutions and GreenLeaf Technologies extends to talent acquisition as well. Both companies are known for offering attractive packages to lure top talent in fields such as data science, AI, and biomedical engineering. This competition has led to a dynamic job market in the health tech sector.\", 'type': 'TEXT'}, 'location': {'s3Location': {'uri': 's3://mainbucketrockhight5461/test/knowledge-bases/companies/medisync.txt'}, 'type': 'S3'}, 'metadata': {'x-amz-bedrock-kb-source-uri': 's3://mainbucketrockhight5461/test/knowledge-bases/companies/medisync.txt', 'x-amz-bedrock-kb-chunk-id': '1%3A0%3AHZrZyJUBLLC3xaMoZijY', 'x-amz-bedrock-kb-data-source-id': 'ND5LJFJSLL'}}, {'content': {'text': \"However, GreenLeaf Technologies is not far behind, with its own AI division, GreenMind, developing competitive solutions for early cancer detection.\\r \\r The wearable technology market has become another battleground for these tech giants. While MediSync's MediVital smartwatch has garnered praise for its accuracy and integration capabilities, GreenLeaf's VitaTrack device boasts longer battery life and a more user-friendly interface.\\r \\r Both companies have been aggressive in their expansion strategies.\", 'type': 'TEXT'}, 'location': {'s3Location': {'uri': 's3://mainbucketrockhight5461/test/knowledge-bases/companies/medisync.txt'}, 'type': 'S3'}, 'metadata': {'x-amz-bedrock-kb-source-uri': 's3://mainbucketrockhight5461/test/knowledge-bases/companies/medisync.txt', 'x-amz-bedrock-kb-chunk-id': '1%3A0%3AG5rZyJUBLLC3xaMoZijY', 'x-amz-bedrock-kb-data-source-id': 'ND5LJFJSLL'}}, {'content': {'text': \"MediSync Solutions has focused on penetrating emerging markets in Southeast Asia, while GreenLeaf Technologies has made significant inroads in South America. This global competition has driven both firms to continually innovate and improve their offerings.\\r \\r In terms of financial performance, MediSync and GreenLeaf have been neck-and-neck. While MediSync reported revenues of $1.8 billion in 2021, GreenLeaf wasn't far behind with $1.6 billion.\", 'type': 'TEXT'}, 'location': {'s3Location': {'uri': 's3://mainbucketrockhight5461/test/knowledge-bases/companies/medisync.txt'}, 'type': 'S3'}, 'metadata': {'x-amz-bedrock-kb-source-uri': 's3://mainbucketrockhight5461/test/knowledge-bases/companies/medisync.txt', 'x-amz-bedrock-kb-chunk-id': '1%3A0%3AHJrZyJUBLLC3xaMoZijY', 'x-amz-bedrock-kb-data-source-id': 'ND5LJFJSLL'}}]}, {'generatedResponsePart': {'textResponsePart': {'span': {'end': 1464, 'start': 1097}, 'text': '\\nBeyond its commercial endeavors, GreenLeaf is also involved in corporate social responsibility through its GreenHealth Initiative, which focuses on promoting sustainable healthcare practices in developing countries. The ongoing competition between GreenLeaf and MediSync is driving innovation in the healthcare industry, leading to improved patient care and outcomes.'}}, 'retrievedReferences': [{'content': {'text': \"MediSync's goal of expanding telemedicine access to 100 million patients by 2025 is ambitious, but GreenLeaf has countered with a plan to reach 120 million patients in the same timeframe.\\r \\r The competition between MediSync and GreenLeaf is ultimately beneficial for the healthcare industry as a whole. Their ongoing innovation race is driving rapid advancements in medical technology, leading to improved patient care and outcomes.\", 'type': 'TEXT'}, 'location': {'s3Location': {'uri': 's3://mainbucketrockhight5461/test/knowledge-bases/companies/medisync.txt'}, 'type': 'S3'}, 'metadata': {'x-amz-bedrock-kb-source-uri': 's3://mainbucketrockhight5461/test/knowledge-bases/companies/medisync.txt', 'x-amz-bedrock-kb-chunk-id': '1%3A0%3AIJrZyJUBLLC3xaMoZijY', 'x-amz-bedrock-kb-data-source-id': 'ND5LJFJSLL'}}, {'content': {'text': \"While MediSync's Foundation has made significant contributions to community health centers, GreenLeaf's GreenHealth Initiative has gained recognition for its work in promoting sustainable healthcare practices in developing countries.\\r \\r As both MediSync Solutions and GreenLeaf Technologies look to the future, their rivalry is likely to intensify.\", 'type': 'TEXT'}, 'location': {'s3Location': {'uri': 's3://mainbucketrockhight5461/test/knowledge-bases/companies/medisync.txt'}, 'type': 'S3'}, 'metadata': {'x-amz-bedrock-kb-source-uri': 's3://mainbucketrockhight5461/test/knowledge-bases/companies/medisync.txt', 'x-amz-bedrock-kb-chunk-id': '1%3A0%3AH5rZyJUBLLC3xaMoZijY', 'x-amz-bedrock-kb-data-source-id': 'ND5LJFJSLL'}}]}]}, 'bytes': b\"GreenLeaf Technologies is a major competitor to MediSync Solutions in the healthcare technology industry. The company has been making significant strides in various areas of health tech, including telemedicine, AI-driven solutions, and wearable technology.\\n\\nGreenLeaf has set an ambitious goal to reach 120 million patients through telemedicine by 2025, surpassing MediSync's target of 100 million. The company has also been actively expanding its presence globally, with a particular focus on the South American market. \\nIn terms of technological advancements, GreenLeaf's AI division, GreenMind, is developing competitive solutions for early cancer detection. The company's VitaTrack wearable device competes with MediSync's MediVital smartwatch, offering longer battery life and a more user-friendly interface.\\n\\nGreenLeaf has also been aggressive in talent acquisition, offering attractive packages to top professionals in fields such as data science, AI, and biomedical engineering. Financially, the company reported revenues of $1.6 billion in 2021, closely trailing MediSync's $1.8 billion. \\nBeyond its commercial endeavors, GreenLeaf is also involved in corporate social responsibility through its GreenHealth Initiative, which focuses on promoting sustainable healthcare practices in developing countries. The ongoing competition between GreenLeaf and MediSync is driving innovation in the healthcare industry, leading to improved patient care and outcomes.\"}}\n"
     ]
    }
   ],
   "source": [
    "inputText = \"GreenLeaf\"\n",
    "\n",
    "response = agent_runtime.invoke_agent(\n",
    "    agentAliasId=ALIASID2,\n",
    "    agentId=AGENTID2,\n",
    "    sessionId=get_session_id(),\n",
    "    inputText=inputText,\n",
    "    sessionState={\n",
    "        'knowledgeBaseConfigurations': [{\n",
    "            'knowledgeBaseId': KBID_2 ,  # You need to specify your knowledge base ID\n",
    "            'retrievalConfiguration': {\n",
    "                'vectorSearchConfiguration': {\n",
    "                    'filter': {\n",
    "                        'equals': {\n",
    "                            'key': 'x-amz-bedrock-kb-source-uri',\n",
    "                            'value': 's3://mainbucketrockhight5461/test/knowledge-bases/companies/medisync.txt'\n",
    "                        }\n",
    "                    }\n",
    "                }\n",
    "            }\n",
    "        }]\n",
    "    }\n",
    ")\n",
    "\n",
    "# we will store it first\n",
    "ans = []\n",
    "counter = 1\n",
    "for event in response.get('completion'):\n",
    "    print(f\"trace step {str(counter)}\")\n",
    "    counter += 1\n",
    "    print(event)"
   ]
  },
  {
   "cell_type": "code",
   "execution_count": null,
   "id": "11c5a9a9-d2a2-4bdb-95ea-1448f3c20429",
   "metadata": {},
   "outputs": [],
   "source": []
  }
 ],
 "metadata": {
  "kernelspec": {
   "display_name": "Python 3 (ipykernel)",
   "language": "python",
   "name": "python3"
  },
  "language_info": {
   "codemirror_mode": {
    "name": "ipython",
    "version": 3
   },
   "file_extension": ".py",
   "mimetype": "text/x-python",
   "name": "python",
   "nbconvert_exporter": "python",
   "pygments_lexer": "ipython3",
   "version": "3.11.11"
  }
 },
 "nbformat": 4,
 "nbformat_minor": 5
}
