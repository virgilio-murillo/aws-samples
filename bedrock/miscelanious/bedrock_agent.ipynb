{
 "cells": [
  {
   "cell_type": "code",
   "execution_count": 1,
   "id": "ddda454f-bd5b-4864-ba64-52fbc60680ff",
   "metadata": {},
   "outputs": [],
   "source": [
    "import boto3\n",
    "import json\n",
    "import time"
   ]
  },
  {
   "cell_type": "code",
   "execution_count": 2,
   "id": "08c6e1f9-2ffa-478c-bd26-ef8595f33058",
   "metadata": {},
   "outputs": [],
   "source": [
    "session = boto3.Session()\n",
    "agent_runtime = session.client('bedrock-agent-runtime')\n",
    "agent = session.client('bedrock-agent')"
   ]
  },
  {
   "cell_type": "code",
   "execution_count": 3,
   "id": "d90885cc-debf-4038-9805-30f47ed26b0b",
   "metadata": {},
   "outputs": [],
   "source": [
    "from config import *"
   ]
  },
  {
   "cell_type": "code",
   "execution_count": 4,
   "id": "2ec18648-a1f2-482f-a99d-399ae441fa6d",
   "metadata": {},
   "outputs": [],
   "source": [
    "agent_name = agent_name\n",
    "agent_id = agent_id\n",
    "agent_arn = agent_arn\n",
    "agent_alias_id = agent_alias_id"
   ]
  },
  {
   "cell_type": "code",
   "execution_count": 5,
   "id": "21748abe-f79b-483e-ae45-256b3629eb46",
   "metadata": {},
   "outputs": [
    {
     "name": "stdout",
     "output_type": "stream",
     "text": [
      "KLIQ4FV4Q9\n"
     ]
    }
   ],
   "source": [
    "print(agent_alias_id)"
   ]
  },
  {
   "cell_type": "code",
   "execution_count": 6,
   "id": "60dac371-57ea-455b-8173-c1006551a606",
   "metadata": {},
   "outputs": [],
   "source": [
    "prompt = \"give me a quick start on bedrock\""
   ]
  },
  {
   "cell_type": "code",
   "execution_count": 7,
   "id": "a93ecf3a-04fe-44e6-b059-ff1377694f34",
   "metadata": {},
   "outputs": [],
   "source": [
    "import random\n",
    "\n",
    "# Random integer between 1 and 10 (inclusive)\n",
    "def get_session_id():\n",
    "    sessionId = \"\"\n",
    "    for i in range(12):\n",
    "        number = random.randint(1, 10)\n",
    "        sessionId  += str(number)\n",
    "    return sessionId"
   ]
  },
  {
   "cell_type": "code",
   "execution_count": 8,
   "id": "6ca99cdd-b229-4180-a1d1-f826d5ca2d3c",
   "metadata": {},
   "outputs": [],
   "source": [
    "def call_agent(inputText, session_id):\n",
    "    response = agent_runtime.invoke_agent(agentAliasId = agent_alias_id,\n",
    "                                      agentId = agent_id, \n",
    "                                      sessionId = session_id, \n",
    "                                      inputText = inputText)\n",
    "    # we will store it first\n",
    "    ans = []\n",
    "    counter = 1\n",
    "    for event in response.get('completion'):\n",
    "        print(f\"trace step {str(counter)}\")\n",
    "        counter +=1\n",
    "        print(event)\n",
    "    time.sleep(60)"
   ]
  },
  {
   "cell_type": "code",
   "execution_count": 9,
   "id": "ce66df9e-07b5-4e88-9a7f-1a97732097d1",
   "metadata": {},
   "outputs": [
    {
     "name": "stdout",
     "output_type": "stream",
     "text": [
      "trace step 1\n",
      "{'chunk': {'bytes': b'I cannot provide information about Bedrock.'}}\n"
     ]
    }
   ],
   "source": [
    "call_agent(prompt, get_session_id())"
   ]
  },
  {
   "cell_type": "code",
   "execution_count": 10,
   "id": "03ef5bc4-ef34-4e6b-9161-6109c1c02603",
   "metadata": {},
   "outputs": [],
   "source": [
    "texts = []\n",
    "\n",
    "text1 = \"my asset is 88324cf919e14212bce765be9eed46ab please help me about this asset.\"\n",
    "text2 = \"what is my asset id\"\n",
    "\n",
    "text3 = \"I am interested with DTAc application logbook feature\"\n",
    "text4 = \"Do you remember which DTAc application feature that I am interested with?\"\n",
    "\n",
    "text5 = \"How many assets i have?\"\n",
    "text6 = \"I have 5 assets in this fleet\""
   ]
  },
  {
   "cell_type": "code",
   "execution_count": 11,
   "id": "f1a2aaa2-02cc-4432-98e1-2ffa3320290a",
   "metadata": {},
   "outputs": [],
   "source": [
    "texts = []\n",
    "texts.append(text1)\n",
    "texts.append(text2)\n",
    "texts.append(text3)\n",
    "texts.append(text4)\n",
    "texts.append(text5)\n",
    "texts.append(text6)"
   ]
  },
  {
   "cell_type": "code",
   "execution_count": 12,
   "id": "7d93d1a3-fd59-4f83-a830-8e7ca6125fbe",
   "metadata": {},
   "outputs": [],
   "source": [
    "session_id = get_session_id()"
   ]
  },
  {
   "cell_type": "code",
   "execution_count": 13,
   "id": "7a8f8e8c-72fe-4997-82b4-51fcc9d0083b",
   "metadata": {},
   "outputs": [
    {
     "name": "stdout",
     "output_type": "stream",
     "text": [
      "trace step 1\n",
      "{'chunk': {'bytes': b'There are no available actions to fetch information about the asset.'}}\n",
      "trace step 1\n",
      "{'chunk': {'bytes': b'Your asset ID is 88324cf919e14212bce765be9eed46ab.'}}\n",
      "trace step 1\n",
      "{'chunk': {'bytes': b\"I'm sorry, but I cannot provide information about the DTAc application logbook feature.\"}}\n",
      "trace step 1\n",
      "{'chunk': {'bytes': b'You have previously mentioned that you are interested in the DTAc application logbook feature.'}}\n",
      "trace step 1\n",
      "{'chunk': {'bytes': b\"I'm sorry, but I cannot provide information about the number of assets you have.\"}}\n",
      "trace step 1\n",
      "{'chunk': {'bytes': b'Thank you for informing me that you have 5 assets in your fleet.'}}\n"
     ]
    }
   ],
   "source": [
    "for text in texts:\n",
    "    call_agent(text, session_id)"
   ]
  }
 ],
 "metadata": {
  "kernelspec": {
   "display_name": "conda_python3",
   "language": "python",
   "name": "conda_python3"
  },
  "language_info": {
   "codemirror_mode": {
    "name": "ipython",
    "version": 3
   },
   "file_extension": ".py",
   "mimetype": "text/x-python",
   "name": "python",
   "nbconvert_exporter": "python",
   "pygments_lexer": "ipython3",
   "version": "3.10.16"
  }
 },
 "nbformat": 4,
 "nbformat_minor": 5
}
