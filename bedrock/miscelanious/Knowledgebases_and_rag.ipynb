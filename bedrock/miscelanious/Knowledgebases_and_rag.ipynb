{
 "cells": [
  {
   "cell_type": "markdown",
   "id": "76aafdad-4025-4a0d-acd3-f6be143b0b08",
   "metadata": {},
   "source": [
    "# Testing Retrieval-Augmented Generation (RAG) with Amazon Bedrock\n",
    "\n",
    "This notebook demonstrates:\n",
    "\n",
    "- Implementation of RAG techniques using Amazon Bedrock\n",
    "- Enhancement of LLMs with external knowledge\n",
    "- Utilization of custom knowledge bases\n",
    "- Testing of retrieval functionality\n",
    "\n",
    "Ideal for developers and AI enthusiasts exploring how to augment language models with domain-specific knowledge for improved accuracy and relevance.\n"
   ]
  },
  {
   "cell_type": "markdown",
   "id": "6703750d-ac6b-4f5d-b20b-81a6c86d7010",
   "metadata": {},
   "source": [
    "⭐ Do you find this project usefull? Please consider giving it a star on GitHub! \n",
    "\n",
    "💖 Made with dedication to help fellow developers. Your support means the world! "
   ]
  },
  {
   "cell_type": "code",
   "execution_count": 1,
   "id": "a14b8195-5bb4-49a8-b4a0-204d6e9f9aaf",
   "metadata": {},
   "outputs": [],
   "source": [
    "import boto3\n",
    "import pprint"
   ]
  },
  {
   "cell_type": "code",
   "execution_count": 2,
   "id": "b3c7a2a5-a107-4622-82e0-6d0aee1f60ca",
   "metadata": {},
   "outputs": [],
   "source": [
    "# import kb_id from my private file config.py\n",
    "from config import *"
   ]
  },
  {
   "cell_type": "markdown",
   "id": "121e90aa-cfb6-4d61-b702-be3f59be4c6d",
   "metadata": {},
   "source": [
    "<a id=\"test-a-knowledge-base\"></a>\n",
    "## AWS Bedrock Agent with Knowledge Base Integration\n",
    "\n",
    "This script demonstrates how to use AWS Bedrock Agent Runtime to perform RAG (Retrieval-Augmented Generation) operations with a custom knowledge base. It includes:\n",
    "\n",
    "- Setup for Bedrock Agent Runtime client\n",
    "- A function to query the LLM with knowledge base support\n",
    "- Example usage with Claude 3 Sonnet model\n",
    "- Handling of session IDs for follow-up questions\n",
    "- Citation retrieval from the knowledge base\n",
    "\n",
    "🚀 Ideal for developers working on AI-powered Q&A systems or chatbots with custom knowledge bases."
   ]
  },
  {
   "cell_type": "code",
   "execution_count": 8,
   "id": "78c45b65-ca50-43c2-b223-f235610ca0de",
   "metadata": {},
   "outputs": [],
   "source": [
    "pp = pprint.PrettyPrinter(indent=2)\n",
    "region_name = 'us-east-1'\n",
    "bedrock_agent_runtime_client = boto3.client('bedrock-agent-runtime', region_name = region_name)"
   ]
  },
  {
   "cell_type": "code",
   "execution_count": 7,
   "id": "53ab92ba-d102-43fa-abae-37b8a2fb28d2",
   "metadata": {},
   "outputs": [],
   "source": [
    "model_id =  [\"Claude 3 Sonnet\", \"anthropic.claude-3-sonnet-20240229-v1:0\"]\n",
    "kb_id = kb_id"
   ]
  },
  {
   "cell_type": "code",
   "execution_count": 4,
   "id": "4184d057-a42b-4803-af01-466a628ac88c",
   "metadata": {},
   "outputs": [],
   "source": [
    "def ask_bedrock_llm_with_knowledge_base(query: str, model_arn: str, kb_id: str, sessionId:str = None) -> str:\n",
    "    response = \"None\"\n",
    "    # If this is the first RAG action\n",
    "    if not sessionId:\n",
    "        response = bedrock_agent_runtime_client.retrieve_and_generate(\n",
    "            input={\n",
    "                'text': query\n",
    "            },\n",
    "            retrieveAndGenerateConfiguration={\n",
    "                'type': 'KNOWLEDGE_BASE',\n",
    "                'knowledgeBaseConfiguration': {\n",
    "                    'knowledgeBaseId': kb_id,\n",
    "                    'modelArn': model_arn\n",
    "                }\n",
    "            },\n",
    "        )\n",
    "    else:\n",
    "        # If sessionId is present\n",
    "        response = bedrock_agent_runtime_client.retrieve_and_generate(\n",
    "            input={\n",
    "                'text': query\n",
    "            },\n",
    "            retrieveAndGenerateConfiguration={\n",
    "                'type': 'KNOWLEDGE_BASE',\n",
    "                'knowledgeBaseConfiguration': {\n",
    "                    'knowledgeBaseId': kb_id,\n",
    "                    'modelArn': model_arn\n",
    "                }\n",
    "            },\n",
    "            sessionId = sessionId\n",
    "        )       \n",
    "\n",
    "    return response"
   ]
  },
  {
   "cell_type": "code",
   "execution_count": 5,
   "id": "8780a06a-a836-4a8b-b007-2ce0db7b7c86",
   "metadata": {
    "scrolled": true
   },
   "outputs": [
    {
     "name": "stdout",
     "output_type": "stream",
     "text": [
      "---------- Generated using Claude 3 Sonnet:\n",
      "('Here are 5 relatively insignificant packages listed in the exported '\n",
      " 'environments:\\n'\n",
      " '\\n'\n",
      " '1. xsel (a command-line program for manipulating the X Window selection)\\n'\n",
      " '2. xorg-libxmu (X.Org X11 miscellaneous utility library)\\n'\n",
      " '3. xorg-libxt (X.Org X11 toolkit intrinsics library)\\n'\n",
      " '4. xorg-libice (X.Org Inter-Client Exchange library)\\n'\n",
      " '5. xorg-libxau (X.Org X11 authorisation library)')\n",
      "---------- The citations for the response generated by Claude 3 Sonnet:\n",
      "[]\n",
      "\n"
     ]
    }
   ],
   "source": [
    "query = 'list 5 insignificant packages listted in the exported environments'\n",
    "\n",
    "\n",
    "model_arn = f'arn:aws:bedrock:{region_name}::foundation-model/{model_id[1]}'\n",
    "response = ask_bedrock_llm_with_knowledge_base(query, model_arn, kb_id)\n",
    "# !important: keep the same session Id for the follow up questions\n",
    "sessionId = response['sessionId']\n",
    "generated_text = response['output']['text']\n",
    "# the list of citations from the knowledge base\n",
    "citations = response[\"citations\"]\n",
    "contexts = []\n",
    "\n",
    "# extra: print the citations from the knowledgebase\n",
    "#for citation in citations:\n",
    "#    retrievedReferences = citation[\"retrievedReferences\"]\n",
    "#    for reference in retrievedReferences:\n",
    "#        contexts.append(reference[\"content\"][\"text\"])\n",
    "print(f\"---------- Generated using {model_id[0]}:\")\n",
    "pp.pprint(generated_text)\n",
    "print(f'---------- The citations for the response generated by {model_id[0]}:')\n",
    "pp.pprint(contexts)\n",
    "print()"
   ]
  },
  {
   "cell_type": "markdown",
   "id": "483c8c7d-0be8-4020-8430-870403138713",
   "metadata": {},
   "source": [
    "<a id=\"test-persistent-conversation-with-rag\"></a>\n",
    "## Persistent Conversation Testing with AWS Bedrock Agent\n",
    "\n",
    "This section demonstrates how to maintain context in a conversation using AWS Bedrock Agent Runtime:\n",
    "\n",
    "- Reuses the previous session ID for continuity\n",
    "- Sends a follow-up query to test conversation persistence\n",
    "- Processes and displays the response, including any citations\n",
    "\n",
    "🧠 Showcases the AI's ability to remember and reference previous interactions within the same session."
   ]
  },
  {
   "cell_type": "code",
   "execution_count": 6,
   "id": "e92c7e47-c252-4b32-b0d9-826f7056e98d",
   "metadata": {},
   "outputs": [
    {
     "name": "stdout",
     "output_type": "stream",
     "text": [
      "---------- Generated using Claude 3 Sonnet:\n",
      "('Based on the search results, here are 5 packages that seem relatively '\n",
      " 'insignificant or small in scope that are listed in the exported '\n",
      " 'environments:\\n'\n",
      " '\\n'\n",
      " '1. pluggy (version 1.5.0)\\n'\n",
      " '2. ptyprocess (version 0.7.0)\\n'\n",
      " '3. pure_eval (version 0.2.3)\\n'\n",
      " '4. pygments (version 2.18.0)\\n'\n",
      " '5. pymsgbox (version 1.0.9)')\n",
      "---------- The citations for the response generated by Claude 3 Sonnet:\n",
      "[]\n",
      "\n"
     ]
    }
   ],
   "source": [
    "# we will use the same code as before, but keeping the same sessionId\n",
    "query2 = 'what did you told me in the last response?'\n",
    "\n",
    "\n",
    "model_arn = f'arn:aws:bedrock:{region_name}::foundation-model/{model_id[1]}'\n",
    "response = ask_bedrock_llm_with_knowledge_base(query2, model_arn, kb_id,sessionId=sessionId)\n",
    "# !important: keep the same session Id for the follow up questions\n",
    "sessionId = response['sessionId']\n",
    "generated_text = response['output']['text']\n",
    "citations = response[\"citations\"]\n",
    "contexts = []\n",
    "\n",
    "# extra: print the citations from the knowledgebase\n",
    "#for citation in citations:\n",
    "#    retrievedReferences = citation[\"retrievedReferences\"]\n",
    "#    for reference in retrievedReferences:\n",
    "#        contexts.append(reference[\"content\"][\"text\"])\n",
    "print(f\"---------- Generated using {model_id[0]}:\")\n",
    "pp.pprint(generated_text)\n",
    "print(f'---------- The citations for the response generated by {model_id[0]}:')\n",
    "pp.pprint(contexts)\n",
    "print()"
   ]
  },
  {
   "cell_type": "code",
   "execution_count": 9,
   "id": "2e744748-0622-4433-a9f6-f3678805e877",
   "metadata": {},
   "outputs": [],
   "source": [
    "# now we will use metadata filtering"
   ]
  },
  {
   "cell_type": "code",
   "execution_count": 10,
   "id": "ee1d7f55-3b4d-4da7-8fde-15f547342a12",
   "metadata": {},
   "outputs": [],
   "source": [
    "# we will filter based on:\n",
    "# x-amz-bedrock-kb-source-uri\n",
    "# the values are:\n",
    "# s3://mainbucketrockhight5461/test/knowledge-bases/companies/hvfbnbgjhfkdhvjkbnfdbgvjhkdfsgjk.txt\n",
    "# s3://mainbucketrockhight5461/test/knowledge-bases/companies/vbfhdsjkvbhdfkjsvjfdsbvhjfdsbvfdshjkvbdfsjh.txt\n",
    "# s3://mainbucketrockhight5461/test/knowledge-bases/companies/medisync.txt\n",
    "# query:\n",
    "# \"is a leading healthcare technology company\""
   ]
  },
  {
   "cell_type": "code",
   "execution_count": 19,
   "id": "53d42fa9-8fad-4e98-bc5b-ab49a4f6e38f",
   "metadata": {},
   "outputs": [],
   "source": [
    "query = \"GreenLeaf\"\n",
    "\n",
    "response = bedrock_agent_runtime_client.retrieve_and_generate(\n",
    "    input={\n",
    "        'text': query\n",
    "    },\n",
    "    retrieveAndGenerateConfiguration={\n",
    "        'type': 'KNOWLEDGE_BASE',\n",
    "        'knowledgeBaseConfiguration': {\n",
    "            'knowledgeBaseId': KBID_2,\n",
    "            'modelArn': model_arn,\n",
    "            'retrievalConfiguration': {\n",
    "                'vectorSearchConfiguration': {\n",
    "                    'numberOfResults': 20\n",
    "                }\n",
    "            }\n",
    "        }\n",
    "    }\n",
    ")"
   ]
  },
  {
   "cell_type": "code",
   "execution_count": 20,
   "id": "ae60c8e6-3eb3-41b5-9803-8e48d8fb4954",
   "metadata": {},
   "outputs": [
    {
     "name": "stdout",
     "output_type": "stream",
     "text": [
      "---------- Generated using Claude 3 Sonnet:\n",
      "('GreenLeaf Technologies is a leading company in the sustainable energy '\n",
      " 'sector, founded in 2008 by Dr. Amelia Chen and Dr. Marcus Hoffman. The '\n",
      " 'company focuses on developing innovative solutions in solar energy '\n",
      " 'optimization, wind power efficiency, and energy storage solutions with the '\n",
      " 'mission of accelerating the transition to renewable energy sources. Some of '\n",
      " \"GreenLeaf's flagship products include:\\n\"\n",
      " '\\n'\n",
      " '- The SolarMax Pro, an advanced solar panel system with an industry-leading '\n",
      " '27% efficiency rate\\n'\n",
      " '- The WindFlow Turbine series, featuring a proprietary blade design that '\n",
      " 'increases energy output by up to 40% compared to traditional models\\n'\n",
      " '- The EcoCell, a revolutionary energy storage system that uses organic '\n",
      " 'compounds and nanotechnology to create a highly efficient and '\n",
      " 'environmentally friendly battery GreenLeaf has experienced rapid growth, '\n",
      " 'reporting annual revenues of $3.2 billion in 2020, a 28% increase from the '\n",
      " 'previous year. The company went public in 2015 and has attracted significant '\n",
      " 'venture capital funding. GreenLeaf is known for its strong corporate '\n",
      " 'culture, emphasis on sustainability and employee well-being, and corporate '\n",
      " 'social responsibility initiatives like the GreenLeaf Foundation and Green '\n",
      " 'Innovation Challenge.')\n",
      "citation 1: \n",
      "{'generatedResponsePart': {'textResponsePart': {'span': {'end': 349, 'start': 0}, 'text': 'GreenLeaf Technologies is a leading company in the sustainable energy sector, founded in 2008 by Dr. Amelia Chen and Dr. Marcus Hoffman. The company focuses on developing innovative solutions in solar energy optimization, wind power efficiency, and energy storage solutions with the mission of accelerating the transition to renewable energy sources.'}}, 'retrievedReferences': [{'content': {'text': 'Company 1: GreenLeaf Technologies\\r \\r GreenLeaf Technologies is a pioneering force in the sustainable energy sector, dedicated to developing innovative solutions for a cleaner, greener future. Founded in 2008 by Dr. Amelia Chen and Dr. Marcus Hoffman, the company has grown from a small startup in Silicon Valley to a global leader in renewable energy technologies.'}, 'location': {'s3Location': {'uri': 's3://mainbucketrockhight5461/test/knowledge-bases/companies/bfjsdbvhfubsvhufodsbvfhusobhsfd.txt'}, 'type': 'S3'}, 'metadata': {'x-amz-bedrock-kb-source-uri': 's3://mainbucketrockhight5461/test/knowledge-bases/companies/bfjsdbvhfubsvhufodsbvfhusobhsfd.txt', 'x-amz-bedrock-kb-chunk-id': '1%3A0%3AjJjZyJUB5IaZkrsKaXkP', 'x-amz-bedrock-kb-data-source-id': 'ND5LJFJSLL'}}, {'content': {'text': \"At its core, GreenLeaf Technologies focuses on three main areas: solar energy optimization, wind power efficiency, and energy storage solutions. The company's mission is to accelerate the world's transition to sustainable energy by making renewable sources more accessible, efficient, and cost-effective.\\r \\r One of GreenLeaf's flagship products is the SolarMax Pro, an advanced solar panel system that boasts an industry-leading 27% efficiency rate.\"}, 'location': {'s3Location': {'uri': 's3://mainbucketrockhight5461/test/knowledge-bases/companies/bfjsdbvhfubsvhufodsbvfhusobhsfd.txt'}, 'type': 'S3'}, 'metadata': {'x-amz-bedrock-kb-source-uri': 's3://mainbucketrockhight5461/test/knowledge-bases/companies/bfjsdbvhfubsvhufodsbvfhusobhsfd.txt', 'x-amz-bedrock-kb-chunk-id': '1%3A0%3AjZjZyJUB5IaZkrsKaXkP', 'x-amz-bedrock-kb-data-source-id': 'ND5LJFJSLL'}}]}\n",
      "citation 2: \n",
      "{'generatedResponsePart': {'textResponsePart': {'span': {'end': 800, 'start': 351}, 'text': \"Some of GreenLeaf's flagship products include:\\n\\n- The SolarMax Pro, an advanced solar panel system with an industry-leading 27% efficiency rate\\n- The WindFlow Turbine series, featuring a proprietary blade design that increases energy output by up to 40% compared to traditional models\\n- The EcoCell, a revolutionary energy storage system that uses organic compounds and nanotechnology to create a highly efficient and environmentally friendly battery\"}}, 'retrievedReferences': [{'content': {'text': 'This breakthrough technology utilizes a unique combination of multi-junction cells and concentrated photovoltaics to maximize energy capture even in low-light conditions. The SolarMax Pro has been adopted by numerous residential and commercial properties worldwide, significantly reducing their carbon footprint and energy costs.\\r \\r In the wind energy sector, GreenLeaf has made substantial strides with its WindFlow Turbine series. These innovative wind turbines feature a proprietary blade design that increases energy output by up to 40% compared to traditional models.'}, 'location': {'s3Location': {'uri': 's3://mainbucketrockhight5461/test/knowledge-bases/companies/bfjsdbvhfubsvhufodsbvfhusobhsfd.txt'}, 'type': 'S3'}, 'metadata': {'x-amz-bedrock-kb-source-uri': 's3://mainbucketrockhight5461/test/knowledge-bases/companies/bfjsdbvhfubsvhufodsbvfhusobhsfd.txt', 'x-amz-bedrock-kb-chunk-id': '1%3A0%3AjpjZyJUB5IaZkrsKaXkP', 'x-amz-bedrock-kb-data-source-id': 'ND5LJFJSLL'}}, {'content': {'text': 'The WindFlow Turbines are particularly effective in areas with variable wind speeds, making wind energy a viable option for a broader range of geographical locations.\\r \\r Perhaps the most groundbreaking development from GreenLeaf Technologies is the EcoCell, a revolutionary energy storage system. The EcoCell uses organic compounds and advanced nanotechnology to create a highly efficient, long-lasting, and environmentally friendly battery. This technology has the potential to solve one of the biggest challenges in renewable energy: intermittency.'}, 'location': {'s3Location': {'uri': 's3://mainbucketrockhight5461/test/knowledge-bases/companies/bfjsdbvhfubsvhufodsbvfhusobhsfd.txt'}, 'type': 'S3'}, 'metadata': {'x-amz-bedrock-kb-source-uri': 's3://mainbucketrockhight5461/test/knowledge-bases/companies/bfjsdbvhfubsvhufodsbvfhusobhsfd.txt', 'x-amz-bedrock-kb-chunk-id': '1%3A0%3Aj5jZyJUB5IaZkrsKaXkP', 'x-amz-bedrock-kb-data-source-id': 'ND5LJFJSLL'}}, {'content': {'text': 'With the EcoCell, excess energy generated during peak production times can be stored and used during periods of low production or high demand.\\r \\r [The rest of the text continues as before, with \"EcoSphere Innovations\" replacing \"GreenLeaf Technologies\" throughout.]'}, 'location': {'s3Location': {'uri': 's3://mainbucketrockhight5461/test/knowledge-bases/companies/vgrebgebdhbxchfedhndfhdf.txt'}, 'type': 'S3'}, 'metadata': {'x-amz-bedrock-kb-source-uri': 's3://mainbucketrockhight5461/test/knowledge-bases/companies/vgrebgebdhbxchfedhndfhdf.txt', 'x-amz-bedrock-kb-chunk-id': '1%3A0%3Ai5jZyJUB5IaZkrsKYnkT', 'x-amz-bedrock-kb-data-source-id': 'ND5LJFJSLL'}}]}\n",
      "citation 3: \n",
      "{'generatedResponsePart': {'textResponsePart': {'span': {'end': 1232, 'start': 802}, 'text': 'GreenLeaf has experienced rapid growth, reporting annual revenues of $3.2 billion in 2020, a 28% increase from the previous year. The company went public in 2015 and has attracted significant venture capital funding. GreenLeaf is known for its strong corporate culture, emphasis on sustainability and employee well-being, and corporate social responsibility initiatives like the GreenLeaf Foundation and Green Innovation Challenge.'}}, 'retrievedReferences': [{'content': {'text': \"GreenLeaf's corporate headquarters in Palo Alto, California, is a model of green architecture, powered entirely by renewable energy and designed to minimize water usage and waste production. The building has received numerous awards for its innovative design and environmental performance.\\r \\r GreenLeaf Technologies has experienced rapid growth since its inception. In 2020, the company reported annual revenues of $3.2 billion, a 28% increase from the previous year.\"}, 'location': {'s3Location': {'uri': 's3://mainbucketrockhight5461/test/knowledge-bases/companies/bfjsdbvhfubsvhufodsbvfhusobhsfd.txt'}, 'type': 'S3'}, 'metadata': {'x-amz-bedrock-kb-source-uri': 's3://mainbucketrockhight5461/test/knowledge-bases/companies/bfjsdbvhfubsvhufodsbvfhusobhsfd.txt', 'x-amz-bedrock-kb-chunk-id': '1%3A0%3AkZjZyJUB5IaZkrsKaXkP', 'x-amz-bedrock-kb-data-source-id': 'ND5LJFJSLL'}}, {'content': {'text': 'GreenLeaf Technologies is known for its strong corporate culture, which emphasizes innovation, sustainability, and employee well-being. The company offers comprehensive benefits packages, including generous parental leave, mental health support, and professional development opportunities. GreenLeaf has consistently been ranked as one of the best places to work in the tech industry.\\r \\r In terms of corporate social responsibility, GreenLeaf has implemented several initiatives to give back to communities and promote environmental awareness.'}, 'location': {'s3Location': {'uri': 's3://mainbucketrockhight5461/test/knowledge-bases/companies/bfjsdbvhfubsvhufodsbvfhusobhsfd.txt'}, 'type': 'S3'}, 'metadata': {'x-amz-bedrock-kb-source-uri': 's3://mainbucketrockhight5461/test/knowledge-bases/companies/bfjsdbvhfubsvhufodsbvfhusobhsfd.txt', 'x-amz-bedrock-kb-chunk-id': '1%3A0%3Ak5jZyJUB5IaZkrsKaXkQ', 'x-amz-bedrock-kb-data-source-id': 'ND5LJFJSLL'}}, {'content': {'text': 'The GreenLeaf Foundation, established in 2012, provides grants to environmental conservation projects and supports STEM education programs in underserved communities. The company also runs an annual \"Green Innovation Challenge,\" a competition that encourages young entrepreneurs to develop sustainable business ideas.\\r \\r Looking to the future, GreenLeaf Technologies aims to play a crucial role in the global transition to clean energy.'}, 'location': {'s3Location': {'uri': 's3://mainbucketrockhight5461/test/knowledge-bases/companies/bfjsdbvhfubsvhufodsbvfhusobhsfd.txt'}, 'type': 'S3'}, 'metadata': {'x-amz-bedrock-kb-source-uri': 's3://mainbucketrockhight5461/test/knowledge-bases/companies/bfjsdbvhfubsvhufodsbvfhusobhsfd.txt', 'x-amz-bedrock-kb-chunk-id': '1%3A0%3AlJjZyJUB5IaZkrsKaXkQ', 'x-amz-bedrock-kb-data-source-id': 'ND5LJFJSLL'}}, {'content': {'text': \"With a global workforce of over 5,000 employees and operations in 25 countries, GreenLeaf has established itself as a major player in the renewable energy industry.\\r \\r The company's success has not gone unnoticed by investors. GreenLeaf went public in 2015, and its stock price has more than quadrupled since then. The company has also attracted significant venture capital funding, raising over $800 million in its last funding round in 2019.\"}, 'location': {'s3Location': {'uri': 's3://mainbucketrockhight5461/test/knowledge-bases/companies/bfjsdbvhfubsvhufodsbvfhusobhsfd.txt'}, 'type': 'S3'}, 'metadata': {'x-amz-bedrock-kb-source-uri': 's3://mainbucketrockhight5461/test/knowledge-bases/companies/bfjsdbvhfubsvhufodsbvfhusobhsfd.txt', 'x-amz-bedrock-kb-chunk-id': '1%3A0%3AkpjZyJUB5IaZkrsKaXkQ', 'x-amz-bedrock-kb-data-source-id': 'ND5LJFJSLL'}}]}\n",
      "[]\n",
      "\n"
     ]
    }
   ],
   "source": [
    "response\n",
    "\n",
    "generated_text = response['output']['text']\n",
    "# the list of citations from the knowledge base\n",
    "citations = response[\"citations\"]\n",
    "contexts = []\n",
    "\n",
    "# extra: print the citations from the knowledgebase\n",
    "#for citation in citations:\n",
    "#    retrievedReferences = citation[\"retrievedReferences\"]\n",
    "#    for reference in retrievedReferences:\n",
    "#        contexts.append(reference[\"content\"][\"text\"])\n",
    "print(f\"---------- Generated using {model_id[0]}:\")\n",
    "pp.pprint(generated_text)\n",
    "counter = 0\n",
    "for citation in citations:\n",
    "    counter += 1\n",
    "    print(f\"citation {counter}: \\n{citation}\")\n",
    "pp.pprint(contexts)\n",
    "print()"
   ]
  },
  {
   "cell_type": "code",
   "execution_count": null,
   "id": "e4345646-b36d-49de-8205-b89886b207d2",
   "metadata": {},
   "outputs": [],
   "source": [
    "# now we will use metadata filtering to only use the file s3://mainbucketrockhight5461/test/knowledge-bases/companies/medisync.txt"
   ]
  },
  {
   "cell_type": "code",
   "execution_count": 17,
   "id": "9087181e-474f-48b2-b03d-372f6f4afa19",
   "metadata": {},
   "outputs": [],
   "source": [
    "query = \"GreenLeaf\"\n",
    "\n",
    "response = bedrock_agent_runtime_client.retrieve_and_generate(\n",
    "    input={\n",
    "        'text': query\n",
    "    },\n",
    "    retrieveAndGenerateConfiguration={\n",
    "        'type': 'KNOWLEDGE_BASE',\n",
    "        'knowledgeBaseConfiguration': {\n",
    "            'knowledgeBaseId': KBID_2,\n",
    "            'modelArn': model_arn,\n",
    "            'retrievalConfiguration': {\n",
    "                'vectorSearchConfiguration': {\n",
    "                    'filter': {\n",
    "                        'equals': {\n",
    "                            'key': 'x-amz-bedrock-kb-source-uri',\n",
    "                            'value': 's3://mainbucketrockhight5461/test/knowledge-bases/companies/medisync.txt'\n",
    "                        }\n",
    "                    },\n",
    "                    'numberOfResults': 20\n",
    "                }\n",
    "            }\n",
    "        }\n",
    "    }\n",
    ")"
   ]
  },
  {
   "cell_type": "code",
   "execution_count": 18,
   "id": "188e7c2b-953e-47f2-852d-b6757c0f5ca8",
   "metadata": {},
   "outputs": [
    {
     "name": "stdout",
     "output_type": "stream",
     "text": [
      "---------- Generated using Claude 3 Sonnet:\n",
      "('GreenLeaf Technologies is a major competitor of MediSync Solutions in the '\n",
      " 'healthcare technology sector. Both companies are leading players in '\n",
      " 'developing innovative digital solutions for healthcare, including electronic '\n",
      " 'health records, telemedicine platforms, AI-driven diagnostic tools, and '\n",
      " 'wearable medical devices. GreenLeaf has made significant progress in areas '\n",
      " 'like AI for early cancer detection through its GreenMind division, and its '\n",
      " \"VitaTrack wearable device is seen as a strong competitor to MediSync's \"\n",
      " 'MediVital smartwatch. The two companies are engaged in an intense rivalry '\n",
      " 'across various fronts, including research and development investment, '\n",
      " 'expansion into new markets, talent acquisition, and corporate social '\n",
      " 'responsibility initiatives. In terms of financial performance, GreenLeaf '\n",
      " \"reported revenues of $1.6 billion in 2021, slightly behind MediSync's $1.8 \"\n",
      " 'billion. However, the gap between the two companies is narrowing, and '\n",
      " \"analysts predict that GreenLeaf's recent acquisitions may help it catch up \"\n",
      " 'further in the coming years.')\n",
      "citation 1: \n",
      "{'generatedResponsePart': {'textResponsePart': {'span': {'end': 315, 'start': 0}, 'text': 'GreenLeaf Technologies is a major competitor of MediSync Solutions in the healthcare technology sector. Both companies are leading players in developing innovative digital solutions for healthcare, including electronic health records, telemedicine platforms, AI-driven diagnostic tools, and wearable medical devices.'}}, 'retrievedReferences': [{'content': {'text': \"MediSync's MediConnect telemedicine platform has seen impressive growth, but GreenLeaf's LeafLink solution has also gained traction, particularly in the European market. The two companies have been engaged in a fierce battle to secure partnerships with major hospital networks and insurance providers.\\r \\r In the realm of AI-driven diagnostics, MediSync's MediAI Labs has made groundbreaking progress with its neurological disorder detection tool.\"}, 'location': {'s3Location': {'uri': 's3://mainbucketrockhight5461/test/knowledge-bases/companies/medisync.txt'}, 'type': 'S3'}, 'metadata': {'x-amz-bedrock-kb-source-uri': 's3://mainbucketrockhight5461/test/knowledge-bases/companies/medisync.txt', 'x-amz-bedrock-kb-chunk-id': '1%3A0%3AGprZyJUBLLC3xaMoZijY', 'x-amz-bedrock-kb-data-source-id': 'ND5LJFJSLL'}}, {'content': {'text': \"However, GreenLeaf Technologies is not far behind, with its own AI division, GreenMind, developing competitive solutions for early cancer detection.\\r \\r The wearable technology market has become another battleground for these tech giants. While MediSync's MediVital smartwatch has garnered praise for its accuracy and integration capabilities, GreenLeaf's VitaTrack device boasts longer battery life and a more user-friendly interface.\\r \\r Both companies have been aggressive in their expansion strategies.\"}, 'location': {'s3Location': {'uri': 's3://mainbucketrockhight5461/test/knowledge-bases/companies/medisync.txt'}, 'type': 'S3'}, 'metadata': {'x-amz-bedrock-kb-source-uri': 's3://mainbucketrockhight5461/test/knowledge-bases/companies/medisync.txt', 'x-amz-bedrock-kb-chunk-id': '1%3A0%3AG5rZyJUBLLC3xaMoZijY', 'x-amz-bedrock-kb-data-source-id': 'ND5LJFJSLL'}}]}\n",
      "citation 2: \n",
      "{'generatedResponsePart': {'textResponsePart': {'span': {'end': 751, 'start': 317}, 'text': \"GreenLeaf has made significant progress in areas like AI for early cancer detection through its GreenMind division, and its VitaTrack wearable device is seen as a strong competitor to MediSync's MediVital smartwatch. The two companies are engaged in an intense rivalry across various fronts, including research and development investment, expansion into new markets, talent acquisition, and corporate social responsibility initiatives.\"}}, 'retrievedReferences': [{'content': {'text': \"In the area of research and development, MediSync's investment of 20% of its annual revenue has kept it at the forefront of innovation. However, GreenLeaf has recently announced plans to increase its R&D budget to 25% of revenue, potentially challenging MediSync's technological edge.\\r \\r Corporate social responsibility is another area where these companies compete.\"}, 'location': {'s3Location': {'uri': 's3://mainbucketrockhight5461/test/knowledge-bases/companies/medisync.txt'}, 'type': 'S3'}, 'metadata': {'x-amz-bedrock-kb-source-uri': 's3://mainbucketrockhight5461/test/knowledge-bases/companies/medisync.txt', 'x-amz-bedrock-kb-chunk-id': '1%3A0%3AHprZyJUBLLC3xaMoZijY', 'x-amz-bedrock-kb-data-source-id': 'ND5LJFJSLL'}}, {'content': {'text': \"However, GreenLeaf Technologies is not far behind, with its own AI division, GreenMind, developing competitive solutions for early cancer detection.\\r \\r The wearable technology market has become another battleground for these tech giants. While MediSync's MediVital smartwatch has garnered praise for its accuracy and integration capabilities, GreenLeaf's VitaTrack device boasts longer battery life and a more user-friendly interface.\\r \\r Both companies have been aggressive in their expansion strategies.\"}, 'location': {'s3Location': {'uri': 's3://mainbucketrockhight5461/test/knowledge-bases/companies/medisync.txt'}, 'type': 'S3'}, 'metadata': {'x-amz-bedrock-kb-source-uri': 's3://mainbucketrockhight5461/test/knowledge-bases/companies/medisync.txt', 'x-amz-bedrock-kb-chunk-id': '1%3A0%3AG5rZyJUBLLC3xaMoZijY', 'x-amz-bedrock-kb-data-source-id': 'ND5LJFJSLL'}}, {'content': {'text': \"While MediSync's Foundation has made significant contributions to community health centers, GreenLeaf's GreenHealth Initiative has gained recognition for its work in promoting sustainable healthcare practices in developing countries.\\r \\r As both MediSync Solutions and GreenLeaf Technologies look to the future, their rivalry is likely to intensify.\"}, 'location': {'s3Location': {'uri': 's3://mainbucketrockhight5461/test/knowledge-bases/companies/medisync.txt'}, 'type': 'S3'}, 'metadata': {'x-amz-bedrock-kb-source-uri': 's3://mainbucketrockhight5461/test/knowledge-bases/companies/medisync.txt', 'x-amz-bedrock-kb-chunk-id': '1%3A0%3AH5rZyJUBLLC3xaMoZijY', 'x-amz-bedrock-kb-data-source-id': 'ND5LJFJSLL'}}]}\n",
      "citation 3: \n",
      "{'generatedResponsePart': {'textResponsePart': {'span': {'end': 1045, 'start': 753}, 'text': \"In terms of financial performance, GreenLeaf reported revenues of $1.6 billion in 2021, slightly behind MediSync's $1.8 billion. However, the gap between the two companies is narrowing, and analysts predict that GreenLeaf's recent acquisitions may help it catch up further in the coming years.\"}}, 'retrievedReferences': [{'content': {'text': \"MediSync Solutions has focused on penetrating emerging markets in Southeast Asia, while GreenLeaf Technologies has made significant inroads in South America. This global competition has driven both firms to continually innovate and improve their offerings.\\r \\r In terms of financial performance, MediSync and GreenLeaf have been neck-and-neck. While MediSync reported revenues of $1.8 billion in 2021, GreenLeaf wasn't far behind with $1.6 billion.\"}, 'location': {'s3Location': {'uri': 's3://mainbucketrockhight5461/test/knowledge-bases/companies/medisync.txt'}, 'type': 'S3'}, 'metadata': {'x-amz-bedrock-kb-source-uri': 's3://mainbucketrockhight5461/test/knowledge-bases/companies/medisync.txt', 'x-amz-bedrock-kb-chunk-id': '1%3A0%3AHJrZyJUBLLC3xaMoZijY', 'x-amz-bedrock-kb-data-source-id': 'ND5LJFJSLL'}}]}\n",
      "[]\n",
      "\n"
     ]
    }
   ],
   "source": [
    "response\n",
    "\n",
    "generated_text = response['output']['text']\n",
    "# the list of citations from the knowledge base\n",
    "citations = response[\"citations\"]\n",
    "contexts = []\n",
    "\n",
    "# extra: print the citations from the knowledgebase\n",
    "#for citation in citations:\n",
    "#    retrievedReferences = citation[\"retrievedReferences\"]\n",
    "#    for reference in retrievedReferences:\n",
    "#        contexts.append(reference[\"content\"][\"text\"])\n",
    "print(f\"---------- Generated using {model_id[0]}:\")\n",
    "pp.pprint(generated_text)\n",
    "counter = 0\n",
    "for citation in citations:\n",
    "    counter += 1\n",
    "    print(f\"citation {counter}: \\n{citation}\")\n",
    "pp.pprint(contexts)\n",
    "print()"
   ]
  },
  {
   "cell_type": "code",
   "execution_count": null,
   "id": "1dc3b712-ffb0-47ec-a79b-dae62c848590",
   "metadata": {},
   "outputs": [],
   "source": []
  }
 ],
 "metadata": {
  "kernelspec": {
   "display_name": "Python 3 (ipykernel)",
   "language": "python",
   "name": "python3"
  },
  "language_info": {
   "codemirror_mode": {
    "name": "ipython",
    "version": 3
   },
   "file_extension": ".py",
   "mimetype": "text/x-python",
   "name": "python",
   "nbconvert_exporter": "python",
   "pygments_lexer": "ipython3",
   "version": "3.11.11"
  }
 },
 "nbformat": 4,
 "nbformat_minor": 5
}
