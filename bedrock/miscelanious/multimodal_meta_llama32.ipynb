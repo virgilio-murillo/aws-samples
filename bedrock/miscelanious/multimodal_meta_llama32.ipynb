{
 "cells": [
  {
   "cell_type": "code",
   "execution_count": 55,
   "id": "41681daa-e8ab-43a0-819a-fd13c10b026a",
   "metadata": {},
   "outputs": [],
   "source": [
    "import os\n",
    "import boto3\n",
    "from config import *\n",
    "import base64\n",
    "import json"
   ]
  },
  {
   "cell_type": "code",
   "execution_count": 56,
   "id": "13477acb-895c-4213-a716-ec9131889fda",
   "metadata": {},
   "outputs": [
    {
     "name": "stdout",
     "output_type": "stream",
     "text": [
      "1.37.4\n"
     ]
    }
   ],
   "source": [
    "print(boto3.__version__)"
   ]
  },
  {
   "cell_type": "code",
   "execution_count": 57,
   "id": "c7bd1fe2-dbda-45a9-833b-395770a241cb",
   "metadata": {},
   "outputs": [],
   "source": [
    "bedrock_agent = boto3.Session().client('bedrock-agent')\n",
    "bedrock_rt = boto3.Session().client('bedrock-runtime')"
   ]
  },
  {
   "cell_type": "code",
   "execution_count": 58,
   "id": "f9ee2927-8ae8-48c0-a6cd-223d1b27cfa4",
   "metadata": {},
   "outputs": [],
   "source": [
    "image_path = \"resources/cat_image.png\""
   ]
  },
  {
   "cell_type": "code",
   "execution_count": 59,
   "id": "b2aea56f-f5ce-4e66-915b-ee25ef858658",
   "metadata": {},
   "outputs": [],
   "source": [
    "def image_to_bytes(image_path):\n",
    "    with open(image_path, \"rb\") as image_file:\n",
    "        # Read the file content\n",
    "        binary_data = image_file.read()\n",
    "        # Encode the binary data to base64\n",
    "        base64_encoded = base64.b64encode(binary_data)\n",
    "        # Convert bytes to string\n",
    "        base64_string = base64_encoded.decode('utf-8')      # <---- adding this step\n",
    "    return {'data': base64_string}"
   ]
  },
  {
   "cell_type": "code",
   "execution_count": 60,
   "id": "31d9416d-583d-4166-b747-b75dab324a55",
   "metadata": {},
   "outputs": [],
   "source": [
    "image_bytes = image_to_bytes(image_path)\n",
    "image_bytes_data = image_bytes['data']\n",
    "images = [image_bytes_data]"
   ]
  },
  {
   "cell_type": "code",
   "execution_count": 61,
   "id": "57d6e03d-4f59-4643-8d66-b93cdac5523c",
   "metadata": {},
   "outputs": [],
   "source": [
    "def invoke_llama(modelId):\n",
    "    # Embed the prompt in Llama 3's instruction format.\n",
    "    formatted_prompt = f\"\"\"\n",
    "    <|begin_of_text|><|start_header_id|>user<|end_header_id|><|image|>Describe this image in two\n",
    "    sentences\n",
    "    <|eot_id|>\n",
    "    <|start_header_id|>assistant<|end_header_id|>\n",
    "    \"\"\"\n",
    "    \n",
    "    payload = {\n",
    "        \"prompt\": formatted_prompt,\n",
    "        \"images\": images,\n",
    "        \"max_gen_len\": 2048,\n",
    "        \"temperature\": 0.0\n",
    "    }\n",
    "    \n",
    "    # Convert the payload to JSON\n",
    "    request_body = json.dumps(payload)\n",
    "    \n",
    "    # Invoke the model\n",
    "    response = bedrock_rt.invoke_model(\n",
    "        modelId=model_id,\n",
    "        body=request_body,\n",
    "        contentType='application/json'\n",
    "    )\n",
    "\n",
    "    # Assuming your response is stored in a variable called 'response'\n",
    "    body = response['body']\n",
    "    content = body.read().decode('utf-8')\n",
    "    \n",
    "    # Parse the JSON content\n",
    "    parsed_content = json.loads(content)\n",
    "    \n",
    "    print(json.dumps(parsed_content, indent=2))"
   ]
  },
  {
   "cell_type": "code",
   "execution_count": 62,
   "id": "f2dd3175-0d57-41f3-9186-24395a1441ed",
   "metadata": {},
   "outputs": [],
   "source": [
    "models_and_inference_profiles = [\"us.meta.llama3-2-90b-instruct-v1:0\", \"meta.llama3-2-11b-instruct-v1:0\", \"us.meta.llama3-2-11b-instruct-v1:0\"]"
   ]
  },
  {
   "cell_type": "code",
   "execution_count": 63,
   "id": "b875d2c7-3c98-4e97-a922-b5c4904337ba",
   "metadata": {},
   "outputs": [
    {
     "name": "stdout",
     "output_type": "stream",
     "text": [
      "{\n",
      "  \"generation\": \" The image depicts a cat lying on the ground, with its head up and looking directly at the camera. The cat has a striped coat with white paws and a white chest, and it appears to be in a relaxed pose.\",\n",
      "  \"prompt_token_count\": 25,\n",
      "  \"generation_token_count\": 47,\n",
      "  \"stop_reason\": \"stop\"\n",
      "}\n",
      "{\n",
      "  \"generation\": \" The image depicts a cat lying on the ground, with its head up and looking directly at the camera. The cat has a striped coat with white paws and a white chest, and it appears to be in a relaxed pose.\",\n",
      "  \"prompt_token_count\": 25,\n",
      "  \"generation_token_count\": 47,\n",
      "  \"stop_reason\": \"stop\"\n",
      "}\n",
      "{\n",
      "  \"generation\": \" The image depicts a cat lying on the ground, with its head up and looking directly at the camera. The cat has a striped coat with white paws and a white chest, and it appears to be in a relaxed pose.\",\n",
      "  \"prompt_token_count\": 25,\n",
      "  \"generation_token_count\": 47,\n",
      "  \"stop_reason\": \"stop\"\n",
      "}\n"
     ]
    }
   ],
   "source": [
    "for inference_id in models_and_inference_profiles:\n",
    "    invoke_llama(inference_id)\n",
    "    "
   ]
  },
  {
   "cell_type": "code",
   "execution_count": null,
   "id": "6bbd59a2-afab-4b95-b6b9-d2d5a3a7f9cb",
   "metadata": {},
   "outputs": [],
   "source": []
  }
 ],
 "metadata": {
  "kernelspec": {
   "display_name": "Python 3 (ipykernel)",
   "language": "python",
   "name": "python3"
  },
  "language_info": {
   "codemirror_mode": {
    "name": "ipython",
    "version": 3
   },
   "file_extension": ".py",
   "mimetype": "text/x-python",
   "name": "python",
   "nbconvert_exporter": "python",
   "pygments_lexer": "ipython3",
   "version": "3.11.11"
  }
 },
 "nbformat": 4,
 "nbformat_minor": 5
}
