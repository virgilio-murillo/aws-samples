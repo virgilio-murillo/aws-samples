{
 "cells": [
  {
   "cell_type": "code",
   "execution_count": 8,
   "id": "0dbd4f60-69ea-4e92-8e22-10cc227b26cf",
   "metadata": {},
   "outputs": [
    {
     "name": "stdout",
     "output_type": "stream",
     "text": [
      "['To'][' access'][' Maryland'][' Medicaid'][' (']['T']['-']['M']['SIS'][')'][' data'][' in'][' the'][' I']['DR'][','][' you'][\"'\"]['ll'][' need'][' two'][' job'][' codes'][':\\n\\n']['1']['.'][' First'][','][' you'][' need'][' the'][' base'][' Medicaid'][' view'][' access'][':\\n']['   ']['-'][' Job'][' code'][':'][' `']['ID']['RS']['F']['_']['V']['DM']['_']['MD']['CD']['_']['P']['`\\n\\n']['2']['.'][' Then'][','][' you'][' need'][' the'][' Maryland']['-']['specific'][' access'][':\\n']['   ']['-'][' Job'][' code'][':'][' `']['ID']['RS']['F']['_']['DATA']['_']['MD']['CD']['_']['MD']['_']['P']['`\\n\\n']['Alternative']['ly'][','][' if'][' you'][' need'][' access'][' to'][' all'][' states'][\"'\"][' Medicaid'][' data'][','][' you'][' can'][' request'][':\\n']['-'][' Job'][' code'][':'][' `']['ID']['RS']['F']['_']['DATA']['_']['MD']['CD']['_']['ALL']['_']['P']['`\\n\\n']['Would'][' you'][' like'][' information'][' about'][' the'][' DU']['A'][' process'][' or'][' additional'][' details'][' about'][' requesting'][' these'][' job'][' codes']['?\\n']To access Maryland Medicaid (T-MSIS) data in the IDR, you'll need two job codes:\n",
      "\n",
      "1. First, you need the base Medicaid view access:\n",
      "   - Job code: `IDRSF_VDM_MDCD_P`\n",
      "\n",
      "2. Then, you need the Maryland-specific access:\n",
      "   - Job code: `IDRSF_DATA_MDCD_MD_P`\n",
      "\n",
      "Alternatively, if you need access to all states' Medicaid data, you can request:\n",
      "- Job code: `IDRSF_DATA_MDCD_ALL_P`\n",
      "\n",
      "Would you like information about the DUA process or additional details about requesting these job codes?\n",
      "\n"
     ]
    }
   ],
   "source": [
    "import boto3\n",
    "import uuid\n",
    "\n",
    "client = boto3.client('bedrock-agent-runtime')\n",
    "\n",
    "agent_id = 'ZLBRYITCQG'\n",
    "agent_alias_id = '6CGTQBKF7J'\n",
    "session_id = str(uuid.uuid4())\n",
    "input_text = \"\"\" Print this string for me:\n",
    "\\n\\nTo access Maryland Medicaid (T-MSIS) data in the IDR, you'll need two job codes:\\n\\n1. First, you need the base Medicaid view access:\\n   - Job code: `IDRSF_VDM_MDCD_P`\\n\\n2. Then, you need the Maryland-specific access:\\n   - Job code: `IDRSF_DATA_MDCD_MD_P`\\n\\nAlternatively, if you need access to all states' Medicaid data, you can request:\\n- Job code: `IDRSF_DATA_MDCD_ALL_P`\\n\\nWould you like information about the DUA process or additional details about requesting these job codes?\\n\\n\\n\n",
    "\"\"\"\n",
    "\n",
    "\n",
    "response = client.invoke_agent(\n",
    "    agentId=agent_id,\n",
    "    agentAliasId=agent_alias_id,\n",
    "    sessionId=session_id,\n",
    "    inputText=input_text,\n",
    "    streamingConfigurations={\n",
    "        'streamFinalResponse': True\n",
    "    }\n",
    ")\n",
    "\n",
    "ans = \"\"\n",
    "for event in response['completion']:\n",
    "    if 'chunk' in event:\n",
    "        chunk = event['chunk']\n",
    "        str_chunk = chunk['bytes'].decode('utf-8')\n",
    "        print(f\"[{str_chunk!r}]\", end='', flush=True)\n",
    "        ans  += str_chunk\n",
    "\n",
    "print(ans)"
   ]
  }
 ],
 "metadata": {
  "kernelspec": {
   "display_name": "conda_tensorflow2_p310",
   "language": "python",
   "name": "conda_tensorflow2_p310"
  },
  "language_info": {
   "codemirror_mode": {
    "name": "ipython",
    "version": 3
   },
   "file_extension": ".py",
   "mimetype": "text/x-python",
   "name": "python",
   "nbconvert_exporter": "python",
   "pygments_lexer": "ipython3",
   "version": "3.10.18"
  }
 },
 "nbformat": 4,
 "nbformat_minor": 5
}
