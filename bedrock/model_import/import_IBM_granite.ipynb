{
 "cells": [
  {
   "cell_type": "code",
   "execution_count": 3,
   "id": "8fde77a3-823c-4da7-b978-b8c6bdf403e2",
   "metadata": {},
   "outputs": [
    {
     "data": {
      "application/vnd.jupyter.widget-view+json": {
       "model_id": "053be8a43a954fcab7f470038e16c04a",
       "version_major": 2,
       "version_minor": 0
      },
      "text/plain": [
       "Fetching 12 files:   0%|          | 0/12 [00:00<?, ?it/s]"
      ]
     },
     "metadata": {},
     "output_type": "display_data"
    },
    {
     "data": {
      "application/vnd.jupyter.widget-view+json": {
       "model_id": "95b5229462e340d8ad99dce8ea33b5e1",
       "version_major": 2,
       "version_minor": 0
      },
      "text/plain": [
       "model-00003-of-00004.safetensors:   0%|          | 0.00/4.97G [00:00<?, ?B/s]"
      ]
     },
     "metadata": {},
     "output_type": "display_data"
    },
    {
     "data": {
      "application/vnd.jupyter.widget-view+json": {
       "model_id": "a5cd6c6882624661ba6d60d3ddb0f5d6",
       "version_major": 2,
       "version_minor": 0
      },
      "text/plain": [
       "model-00004-of-00004.safetensors:   0%|          | 0.00/1.26G [00:00<?, ?B/s]"
      ]
     },
     "metadata": {},
     "output_type": "display_data"
    },
    {
     "data": {
      "application/vnd.jupyter.widget-view+json": {
       "model_id": "ed3f739aa8e44673a3ebf3b1834bd399",
       "version_major": 2,
       "version_minor": 0
      },
      "text/plain": [
       "model-00001-of-00004.safetensors:   0%|          | 0.00/4.97G [00:00<?, ?B/s]"
      ]
     },
     "metadata": {},
     "output_type": "display_data"
    },
    {
     "data": {
      "application/vnd.jupyter.widget-view+json": {
       "model_id": "3baa459169f24c728d7fb13433937467",
       "version_major": 2,
       "version_minor": 0
      },
      "text/plain": [
       "model-00002-of-00004.safetensors:   0%|          | 0.00/4.92G [00:00<?, ?B/s]"
      ]
     },
     "metadata": {},
     "output_type": "display_data"
    },
    {
     "data": {
      "text/plain": [
       "'/home/ec2-user/SageMaker/aws-samples/bedrock/model_import/granite_model'"
      ]
     },
     "execution_count": 3,
     "metadata": {},
     "output_type": "execute_result"
    }
   ],
   "source": [
    "from huggingface_hub import snapshot_download; snapshot_download(repo_id=\"ibm-granite/granite-8b-code-instruct-128k\", local_dir=\"granite_model\")"
   ]
  },
  {
   "cell_type": "code",
   "execution_count": 6,
   "id": "8e243444-a7e8-4861-b458-f8853d33704c",
   "metadata": {
    "scrolled": true
   },
   "outputs": [
    {
     "name": "stdout",
     "output_type": "stream",
     "text": [
      "upload: granite_model/.cache/huggingface/.gitignore to s3://virgilio-murillo/work/model_import/IBMGranite-granite-8b-code-instruct-128k/granite_model/.cache/huggingface/.gitignore\n",
      "upload: granite_model/.cache/huggingface/download/README.md.lock to s3://virgilio-murillo/work/model_import/IBMGranite-granite-8b-code-instruct-128k/granite_model/.cache/huggingface/download/README.md.lock\n",
      "upload: granite_model/.cache/huggingface/download/.gitattributes.lock to s3://virgilio-murillo/work/model_import/IBMGranite-granite-8b-code-instruct-128k/granite_model/.cache/huggingface/download/.gitattributes.lock\n",
      "upload: granite_model/.cache/huggingface/download/.gitattributes.metadata to s3://virgilio-murillo/work/model_import/IBMGranite-granite-8b-code-instruct-128k/granite_model/.cache/huggingface/download/.gitattributes.metadata\n",
      "upload: granite_model/.cache/huggingface/download/model-00002-of-00004.safetensors.lock to s3://virgilio-murillo/work/model_import/IBMGranite-granite-8b-code-instruct-128k/granite_model/.cache/huggingface/download/model-00002-of-00004.safetensors.lock\n",
      "upload: granite_model/.cache/huggingface/download/generation_config.json.lock to s3://virgilio-murillo/work/model_import/IBMGranite-granite-8b-code-instruct-128k/granite_model/.cache/huggingface/download/generation_config.json.lock\n",
      "upload: granite_model/.cache/huggingface/download/README.md.metadata to s3://virgilio-murillo/work/model_import/IBMGranite-granite-8b-code-instruct-128k/granite_model/.cache/huggingface/download/README.md.metadata\n",
      "upload: granite_model/.cache/huggingface/download/config.json.lock to s3://virgilio-murillo/work/model_import/IBMGranite-granite-8b-code-instruct-128k/granite_model/.cache/huggingface/download/config.json.lock\n",
      "upload: granite_model/.cache/huggingface/download/config.json.metadata to s3://virgilio-murillo/work/model_import/IBMGranite-granite-8b-code-instruct-128k/granite_model/.cache/huggingface/download/config.json.metadata\n",
      "upload: granite_model/.cache/huggingface/download/model-00001-of-00004.safetensors.metadata to s3://virgilio-murillo/work/model_import/IBMGranite-granite-8b-code-instruct-128k/granite_model/.cache/huggingface/download/model-00001-of-00004.safetensors.metadata\n",
      "upload: granite_model/.cache/huggingface/download/model-00003-of-00004.safetensors.lock to s3://virgilio-murillo/work/model_import/IBMGranite-granite-8b-code-instruct-128k/granite_model/.cache/huggingface/download/model-00003-of-00004.safetensors.lock\n",
      "upload: granite_model/.cache/huggingface/download/model-00002-of-00004.safetensors.metadata to s3://virgilio-murillo/work/model_import/IBMGranite-granite-8b-code-instruct-128k/granite_model/.cache/huggingface/download/model-00002-of-00004.safetensors.metadata\n",
      "upload: granite_model/.cache/huggingface/download/model-00001-of-00004.safetensors.lock to s3://virgilio-murillo/work/model_import/IBMGranite-granite-8b-code-instruct-128k/granite_model/.cache/huggingface/download/model-00001-of-00004.safetensors.lock\n",
      "upload: granite_model/.cache/huggingface/download/special_tokens_map.json.lock to s3://virgilio-murillo/work/model_import/IBMGranite-granite-8b-code-instruct-128k/granite_model/.cache/huggingface/download/special_tokens_map.json.lock\n",
      "upload: granite_model/.cache/huggingface/download/model-00004-of-00004.safetensors.metadata to s3://virgilio-murillo/work/model_import/IBMGranite-granite-8b-code-instruct-128k/granite_model/.cache/huggingface/download/model-00004-of-00004.safetensors.metadata\n",
      "upload: granite_model/.cache/huggingface/download/model-00004-of-00004.safetensors.lock to s3://virgilio-murillo/work/model_import/IBMGranite-granite-8b-code-instruct-128k/granite_model/.cache/huggingface/download/model-00004-of-00004.safetensors.lock\n",
      "upload: granite_model/.cache/huggingface/download/model.safetensors.index.json.lock to s3://virgilio-murillo/work/model_import/IBMGranite-granite-8b-code-instruct-128k/granite_model/.cache/huggingface/download/model.safetensors.index.json.lock\n",
      "upload: granite_model/.cache/huggingface/download/generation_config.json.metadata to s3://virgilio-murillo/work/model_import/IBMGranite-granite-8b-code-instruct-128k/granite_model/.cache/huggingface/download/generation_config.json.metadata\n",
      "upload: granite_model/.cache/huggingface/download/model-00003-of-00004.safetensors.metadata to s3://virgilio-murillo/work/model_import/IBMGranite-granite-8b-code-instruct-128k/granite_model/.cache/huggingface/download/model-00003-of-00004.safetensors.metadata\n",
      "upload: granite_model/.cache/huggingface/download/special_tokens_map.json.metadata to s3://virgilio-murillo/work/model_import/IBMGranite-granite-8b-code-instruct-128k/granite_model/.cache/huggingface/download/special_tokens_map.json.metadata\n",
      "upload: granite_model/.cache/huggingface/download/tokenizer.json.lock to s3://virgilio-murillo/work/model_import/IBMGranite-granite-8b-code-instruct-128k/granite_model/.cache/huggingface/download/tokenizer.json.lock\n",
      "upload: granite_model/.cache/huggingface/download/model.safetensors.index.json.metadata to s3://virgilio-murillo/work/model_import/IBMGranite-granite-8b-code-instruct-128k/granite_model/.cache/huggingface/download/model.safetensors.index.json.metadata\n",
      "upload: granite_model/.cache/huggingface/download/tokenizer.json.metadata to s3://virgilio-murillo/work/model_import/IBMGranite-granite-8b-code-instruct-128k/granite_model/.cache/huggingface/download/tokenizer.json.metadata\n",
      "upload: granite_model/.cache/huggingface/download/tokenizer_config.json.metadata to s3://virgilio-murillo/work/model_import/IBMGranite-granite-8b-code-instruct-128k/granite_model/.cache/huggingface/download/tokenizer_config.json.metadata\n",
      "upload: granite_model/generation_config.json to s3://virgilio-murillo/work/model_import/IBMGranite-granite-8b-code-instruct-128k/granite_model/generation_config.json\n",
      "upload: granite_model/.cache/huggingface/download/tokenizer_config.json.lock to s3://virgilio-murillo/work/model_import/IBMGranite-granite-8b-code-instruct-128k/granite_model/.cache/huggingface/download/tokenizer_config.json.lock\n",
      "upload: granite_model/config.json to s3://virgilio-murillo/work/model_import/IBMGranite-granite-8b-code-instruct-128k/granite_model/config.json\n",
      "upload: granite_model/.gitattributes to s3://virgilio-murillo/work/model_import/IBMGranite-granite-8b-code-instruct-128k/granite_model/.gitattributes\n",
      "upload: granite_model/README.md to s3://virgilio-murillo/work/model_import/IBMGranite-granite-8b-code-instruct-128k/granite_model/README.md\n",
      "upload: granite_model/model.safetensors.index.json to s3://virgilio-murillo/work/model_import/IBMGranite-granite-8b-code-instruct-128k/granite_model/model.safetensors.index.json\n",
      "upload: granite_model/special_tokens_map.json to s3://virgilio-murillo/work/model_import/IBMGranite-granite-8b-code-instruct-128k/granite_model/special_tokens_map.json\n",
      "upload: granite_model/tokenizer_config.json to s3://virgilio-murillo/work/model_import/IBMGranite-granite-8b-code-instruct-128k/granite_model/tokenizer_config.json\n",
      "upload: granite_model/tokenizer.json to s3://virgilio-murillo/work/model_import/IBMGranite-granite-8b-code-instruct-128k/granite_model/tokenizer.json\n",
      "upload: granite_model/model-00004-of-00004.safetensors to s3://virgilio-murillo/work/model_import/IBMGranite-granite-8b-code-instruct-128k/granite_model/model-00004-of-00004.safetensors\n",
      "upload: granite_model/model-00001-of-00004.safetensors to s3://virgilio-murillo/work/model_import/IBMGranite-granite-8b-code-instruct-128k/granite_model/model-00001-of-00004.safetensors\n",
      "upload: granite_model/model-00002-of-00004.safetensors to s3://virgilio-murillo/work/model_import/IBMGranite-granite-8b-code-instruct-128k/granite_model/model-00002-of-00004.safetensors\n",
      "upload: granite_model/model-00003-of-00004.safetensors to s3://virgilio-murillo/work/model_import/IBMGranite-granite-8b-code-instruct-128k/granite_model/model-00003-of-00004.safetensors\n"
     ]
    }
   ],
   "source": [
    "!aws s3 cp --recursive granite_model s3://virgilio-murillo/work/model_import/IBMGranite-granite-8b-code-instruct-128k/granite_model/"
   ]
  },
  {
   "cell_type": "markdown",
   "id": "bbecbb3f-ae02-4f28-9d31-56b0cd23cef9",
   "metadata": {},
   "source": [
    "added a custom IAM policy to allow access:\n",
    "\n",
    "```\n",
    "{\n",
    "\t\"Version\": \"2012-10-17\",\n",
    "\t\"Statement\": [\n",
    "\t\t{\n",
    "\t\t\t\"Sid\": \"VisualEditor0\",\n",
    "\t\t\t\"Effect\": \"Allow\",\n",
    "\t\t\t\"Action\": \"bedrock:InvokeModel\",\n",
    "\t\t\t\"Resource\": \"arn:aws:bedrock:us-east-1:794038231401:imported-model/o86ksgjlukpi\"\n",
    "\t\t}\n",
    "\t]\n",
    "}\n",
    "```"
   ]
  },
  {
   "cell_type": "code",
   "execution_count": 14,
   "id": "026452e4-d9bb-44ba-9657-6b8a276ef138",
   "metadata": {},
   "outputs": [],
   "source": [
    "# Use the native inference API to send a text message to Meta Llama 3.\n",
    "\n",
    "import boto3\n",
    "import json\n",
    "\n",
    "from botocore.exceptions import ClientError\n",
    "from botocore.config import Config\n",
    "\n",
    "config = Config(\n",
    "    retries={\n",
    "        'total_max_attempts': 10,\n",
    "        'mode': 'standard'\n",
    "    }\n",
    ")\n",
    "\n",
    "# Create a Bedrock Runtime client in the AWS Region of your choice.\n",
    "client = boto3.client(\"bedrock-runtime\", region_name=\"us-east-1\", config = config)"
   ]
  },
  {
   "cell_type": "code",
   "execution_count": 15,
   "id": "3aaafa36-cbf0-4a5d-8222-dbe303551e7b",
   "metadata": {},
   "outputs": [
    {
     "name": "stdout",
     "output_type": "stream",
     "text": [
      "The 'hello world' program is a simple computer program that outputs the phrase \"Hello, World!\" to the user.\n",
      "\n"
     ]
    }
   ],
   "source": [
    "# Set the model ID, e.g., Llama 3 70b Instruct.\n",
    "model_id = \"arn:aws:bedrock:us-east-1:794038231401:imported-model/o86ksgjlukpi\"\n",
    "\n",
    "# Define the prompt for the model.\n",
    "prompt = \"Describe the purpose of a 'hello world' program in one line.\"\n",
    "\n",
    "# Embed the prompt in Llama 3's instruction format.\n",
    "formatted_prompt = f\"\"\"\n",
    "<|begin_of_text|><|start_header_id|>user<|end_header_id|>\n",
    "{prompt}\n",
    "<|eot_id|>\n",
    "<|start_header_id|>assistant<|end_header_id|>\n",
    "\"\"\"\n",
    "\n",
    "# Format the request payload using the model's native structure.\n",
    "native_request = {\n",
    "    \"prompt\": formatted_prompt,\n",
    "    \"max_gen_len\": 512,\n",
    "    \"temperature\": 0.5,\n",
    "}\n",
    "\n",
    "# Convert the native request to JSON.\n",
    "request = json.dumps(native_request)\n",
    "\n",
    "try:\n",
    "    # Invoke the model with the request.\n",
    "    response = client.invoke_model(modelId=model_id, body=request)\n",
    "\n",
    "except (ClientError, Exception) as e:\n",
    "    print(f\"ERROR: Can't invoke '{model_id}'. Reason: {e}\")\n",
    "    exit(1)\n",
    "\n",
    "# Decode the response body.\n",
    "model_response = json.loads(response[\"body\"].read())\n",
    "\n",
    "# Extract and print the response text.\n",
    "response_text = model_response[\"generation\"]\n",
    "print(response_text)"
   ]
  }
 ],
 "metadata": {
  "kernelspec": {
   "display_name": "conda_python3",
   "language": "python",
   "name": "conda_python3"
  },
  "language_info": {
   "codemirror_mode": {
    "name": "ipython",
    "version": 3
   },
   "file_extension": ".py",
   "mimetype": "text/x-python",
   "name": "python",
   "nbconvert_exporter": "python",
   "pygments_lexer": "ipython3",
   "version": "3.10.18"
  }
 },
 "nbformat": 4,
 "nbformat_minor": 5
}
