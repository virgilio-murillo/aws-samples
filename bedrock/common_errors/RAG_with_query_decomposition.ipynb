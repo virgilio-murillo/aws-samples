{
 "cells": [
  {
   "cell_type": "code",
   "execution_count": 19,
   "id": "a14b8195-5bb4-49a8-b4a0-204d6e9f9aaf",
   "metadata": {},
   "outputs": [],
   "source": [
    "import boto3\n",
    "import pprint\n",
    "from pprint import pprint\n",
    "import copy"
   ]
  },
  {
   "cell_type": "code",
   "execution_count": 2,
   "id": "e73e9385-5ddc-4fa8-adc7-64ff0b3717e0",
   "metadata": {
    "tags": []
   },
   "outputs": [
    {
     "name": "stdout",
     "output_type": "stream",
     "text": [
      "1.35.96\n"
     ]
    }
   ],
   "source": [
    "print(boto3.__version__)"
   ]
  },
  {
   "cell_type": "code",
   "execution_count": 3,
   "id": "f41776ef-9381-4d53-af15-730af977832a",
   "metadata": {
    "tags": []
   },
   "outputs": [
    {
     "name": "stdout",
     "output_type": "stream",
     "text": [
      "arn:aws:sts::794038231401:assumed-role/SageMaker-ExecutionRole-20250103T203496/SageMaker\n"
     ]
    }
   ],
   "source": [
    "# first we will find out which user or role is being used by sagemaker\n",
    "# We will assign BedrockFUllAccess to it. \n",
    "session = boto3.Session()\n",
    "sts_client = session.client('sts')\n",
    "identity = sts_client.get_caller_identity()\n",
    "print(identity['Arn'])"
   ]
  },
  {
   "cell_type": "code",
   "execution_count": 4,
   "id": "b3c7a2a5-a107-4622-82e0-6d0aee1f60ca",
   "metadata": {},
   "outputs": [],
   "source": [
    "# import kb_id from my private file config.py\n",
    "from config import *"
   ]
  },
  {
   "cell_type": "code",
   "execution_count": 5,
   "id": "78c45b65-ca50-43c2-b223-f235610ca0de",
   "metadata": {},
   "outputs": [],
   "source": [
    "kb_id = kb_id\n",
    "region_name = 'us-east-1'\n",
    "model_id =  [\"Claude 3 Sonnet\", \"anthropic.claude-3-sonnet-20240229-v2:0\"]\n",
    "model_arn = 'arn:aws:bedrock:us-east-1::anthropic.claude-3-sonnet-20240620-v1'"
   ]
  },
  {
   "cell_type": "code",
   "execution_count": 6,
   "id": "42f9be34-8f0b-4218-b851-336fd3203e79",
   "metadata": {
    "tags": []
   },
   "outputs": [],
   "source": [
    "bedrock = boto3.client(service_name='bedrock')\n",
    "bedrock_agent_runtime_client = boto3.client('bedrock-agent-runtime', region_name = region_name)"
   ]
  },
  {
   "cell_type": "code",
   "execution_count": 26,
   "id": "df130392-049e-409b-b761-b5551e49f361",
   "metadata": {
    "tags": []
   },
   "outputs": [],
   "source": [
    "# we will create a small retrieveAndGenerateConfiguration that I know works\n",
    "retrieveAndGenerateConfiguration={\n",
    "    'type': 'KNOWLEDGE_BASE',\n",
    "    'knowledgeBaseConfiguration': {\n",
    "        'knowledgeBaseId': kb_id,\n",
    "        'modelArn': model_arn,\n",
    "        'generationConfiguration': {\n",
    "            'promptTemplate': {\n",
    "                'textPromptTemplate': '''<instruction>Here are the search results from the knowledge base: $search_results$\n",
    "                Study these search results carefully and identify the different question formats present. Choose one of those formats and use it to formulate your next question. Respond with the question you formulated, without any additional preamble or explanation. Answer as accurately as possible!</instruction>'''\n",
    "            }\n",
    "        },\n",
    "    }\n",
    "}\n",
    "query = 'list repeated packages, associate them with their source file'"
   ]
  },
  {
   "cell_type": "code",
   "execution_count": 27,
   "id": "027e1e99-59db-4257-a6d2-013139bef30b",
   "metadata": {
    "tags": []
   },
   "outputs": [
    {
     "name": "stdout",
     "output_type": "stream",
     "text": [
      "Exception occurred for model arn:aws:bedrock:us-east-1::anthropic.claude-3-sonnet-20240620-v1:\n",
      "Error type: ValidationException\n",
      "Error message: An error occurred (ValidationException) when calling the RetrieveAndGenerate operation: The model arn provided is not supported when using query decomposition. Please check your configuration and retry the request.\n",
      "Exception occurred for model arn:aws:bedrock:us-east-1::anthropic.claude-3-5-sonnet-20241022-v2:0:\n",
      "Error type: ValidationException\n",
      "Error message: An error occurred (ValidationException) when calling the RetrieveAndGenerate operation: The model arn provided is not supported when using query decomposition. Please check your configuration and retry the request.\n"
     ]
    }
   ],
   "source": [
    "error1_config = copy.deepcopy(retrieveAndGenerateConfiguration)\n",
    "e1_model_arns = ['arn:aws:bedrock:us-east-1::anthropic.claude-3-sonnet-20240620-v1','arn:aws:bedrock:us-east-1::anthropic.claude-3-5-sonnet-20241022-v2:0']\n",
    "\n",
    "\n",
    "# Add the orchestrationConfiguration\n",
    "error1_config['knowledgeBaseConfiguration']['orchestrationConfiguration'] = {\n",
    "    'queryTransformationConfiguration': {\n",
    "        'type': 'QUERY_DECOMPOSITION',\n",
    "    }\n",
    "}\n",
    "\n",
    "for m in e1_model_arns:\n",
    "    error1_config['knowledgeBaseConfiguration']['modelArn'] = m\n",
    "    try:\n",
    "        response = bedrock_agent_runtime_client.retrieve_and_generate(\n",
    "            input={'text': query},\n",
    "            retrieveAndGenerateConfiguration=error1_config\n",
    "        )\n",
    "    except Exception as e:\n",
    "        print(f\"Exception occurred for model {m}:\")\n",
    "        print(f\"Error type: {type(e).__name__}\")\n",
    "        print(f\"Error message: {str(e)}\")"
   ]
  },
  {
   "cell_type": "code",
   "execution_count": 28,
   "id": "4ce8438a-e6a7-448a-a4bf-a8ad5c996f70",
   "metadata": {
    "tags": []
   },
   "outputs": [
    {
     "name": "stdout",
     "output_type": "stream",
     "text": [
      "Exception occurred for model arn:aws:bedrock:us-east-1::anthropic.claude-3-sonnet-20240620-v1:\n",
      "Error type: ValidationException\n",
      "Error message: An error occurred (ValidationException) when calling the RetrieveAndGenerate operation: Custom prompt templates must be provided for both Orchestration and Generation when using the selected model. Please recheck the model arn or provide custom prompts and retry the request.\n",
      "Exception occurred for model arn:aws:bedrock:us-east-1::anthropic.claude-3-5-sonnet-20241022-v2:0:\n",
      "Error type: ValidationException\n",
      "Error message: An error occurred (ValidationException) when calling the RetrieveAndGenerate operation: Custom prompt templates must be provided for both Orchestration and Generation when using the selected model. Please recheck the model arn or provide custom prompts and retry the request.\n"
     ]
    }
   ],
   "source": [
    "# the second error\n",
    "error2_config = copy.deepcopy(retrieveAndGenerateConfiguration)\n",
    "for m in e1_model_arns:\n",
    "    error2_config['knowledgeBaseConfiguration']['modelArn'] = m\n",
    "    try:\n",
    "        response = bedrock_agent_runtime_client.retrieve_and_generate(\n",
    "            input={'text': query},\n",
    "            retrieveAndGenerateConfiguration=error2_config\n",
    "        )\n",
    "    except Exception as e:\n",
    "        print(f\"Exception occurred for model {m}:\")\n",
    "        print(f\"Error type: {type(e).__name__}\")\n",
    "        print(f\"Error message: {str(e)}\")"
   ]
  },
  {
   "cell_type": "code",
   "execution_count": 29,
   "id": "1904c65a-f356-4380-8bbe-60346e2a68a3",
   "metadata": {
    "tags": []
   },
   "outputs": [
    {
     "name": "stdout",
     "output_type": "stream",
     "text": [
      "Exception occurred for model arn:aws:bedrock:us-east-1::anthropic.claude-3-sonnet-20240620-v1:\n",
      "Error type: ParamValidationError\n",
      "Error message: Parameter validation failed:\n",
      "Unknown parameter in retrieveAndGenerateConfiguration.knowledgeBaseConfiguration.orchestrationConfiguration.queryTransformationConfiguration: \"promptTemplate\", must be one of: type\n",
      "Exception occurred for model arn:aws:bedrock:us-east-1::anthropic.claude-3-5-sonnet-20241022-v2:0:\n",
      "Error type: ParamValidationError\n",
      "Error message: Parameter validation failed:\n",
      "Unknown parameter in retrieveAndGenerateConfiguration.knowledgeBaseConfiguration.orchestrationConfiguration.queryTransformationConfiguration: \"promptTemplate\", must be one of: type\n"
     ]
    }
   ],
   "source": [
    "error3_config = copy.deepcopy(retrieveAndGenerateConfiguration)\n",
    "\n",
    "error3_config['knowledgeBaseConfiguration']['orchestrationConfiguration'] = {\n",
    "    'queryTransformationConfiguration': {\n",
    "        'type': 'QUERY_DECOMPOSITION',\n",
    "        'promptTemplate': {\n",
    "            'textPromptTemplate': '<instruction>You are a question formulation assistant. Review the conversation history: $conversation_history$ Your task is to: 1. Analyze the conversation context 2. Break down complex queries into simpler components 3. Ensure questions align with the knowledge base content $output_format_instructions$ Generate a focused search query that will help find relevant question formats in the knowledge base.</instruction>'\n",
    "        }\n",
    "    }\n",
    "}\n",
    "\n",
    "for m in e1_model_arns:\n",
    "    error2_config['knowledgeBaseConfiguration']['modelArn'] = m\n",
    "    try:\n",
    "        response = bedrock_agent_runtime_client.retrieve_and_generate(\n",
    "            input={'text': query},\n",
    "            retrieveAndGenerateConfiguration=error3_config\n",
    "        )\n",
    "    except Exception as e:\n",
    "        print(f\"Exception occurred for model {m}:\")\n",
    "        print(f\"Error type: {type(e).__name__}\")\n",
    "        print(f\"Error message: {str(e)}\")"
   ]
  },
  {
   "cell_type": "code",
   "execution_count": 28,
   "id": "4184d057-a42b-4803-af01-466a628ac88c",
   "metadata": {},
   "outputs": [],
   "source": [
    "# now I will provide a successful example"
   ]
  },
  {
   "cell_type": "code",
   "execution_count": 30,
   "id": "7916cb4e-6d8c-435e-913c-a5f27c09c149",
   "metadata": {
    "collapsed": true,
    "jupyter": {
     "outputs_hidden": true
    },
    "tags": []
   },
   "outputs": [
    {
     "name": "stdout",
     "output_type": "stream",
     "text": [
      "amazon.titan-tg1-large\n",
      "amazon.titan-image-generator-v1:0\n",
      "amazon.titan-image-generator-v1\n",
      "amazon.titan-image-generator-v2:0\n",
      "amazon.titan-text-premier-v1:0\n",
      "amazon.nova-pro-v1:0:300k\n",
      "amazon.nova-pro-v1:0\n",
      "amazon.nova-lite-v1:0:300k\n",
      "amazon.nova-lite-v1:0\n",
      "amazon.nova-canvas-v1:0\n",
      "amazon.nova-reel-v1:0\n",
      "amazon.nova-micro-v1:0:128k\n",
      "amazon.nova-micro-v1:0\n",
      "amazon.titan-embed-g1-text-02\n",
      "amazon.titan-text-lite-v1:0:4k\n",
      "amazon.titan-text-lite-v1\n",
      "amazon.titan-text-express-v1:0:8k\n",
      "amazon.titan-text-express-v1\n",
      "amazon.titan-embed-text-v1:2:8k\n",
      "amazon.titan-embed-text-v1\n",
      "amazon.titan-embed-text-v2:0:8k\n",
      "amazon.titan-embed-text-v2:0\n",
      "amazon.titan-embed-image-v1:0\n",
      "amazon.titan-embed-image-v1\n",
      "stability.stable-diffusion-xl-v1:0\n",
      "stability.stable-diffusion-xl-v1\n",
      "ai21.j2-grande-instruct\n",
      "ai21.j2-jumbo-instruct\n",
      "ai21.j2-mid\n",
      "ai21.j2-mid-v1\n",
      "ai21.j2-ultra\n",
      "ai21.j2-ultra-v1:0:8k\n",
      "ai21.j2-ultra-v1\n",
      "ai21.jamba-instruct-v1:0\n",
      "ai21.jamba-1-5-large-v1:0\n",
      "ai21.jamba-1-5-mini-v1:0\n",
      "anthropic.claude-instant-v1:2:100k\n",
      "anthropic.claude-instant-v1\n",
      "anthropic.claude-v2:0:18k\n",
      "anthropic.claude-v2:0:100k\n",
      "anthropic.claude-v2:1:18k\n",
      "anthropic.claude-v2:1:200k\n",
      "anthropic.claude-v2:1\n",
      "anthropic.claude-v2\n",
      "anthropic.claude-3-sonnet-20240229-v1:0:28k\n",
      "anthropic.claude-3-sonnet-20240229-v1:0:200k\n",
      "anthropic.claude-3-sonnet-20240229-v1:0\n",
      "anthropic.claude-3-haiku-20240307-v1:0:48k\n",
      "anthropic.claude-3-haiku-20240307-v1:0:200k\n",
      "anthropic.claude-3-haiku-20240307-v1:0\n",
      "anthropic.claude-3-opus-20240229-v1:0:12k\n",
      "anthropic.claude-3-opus-20240229-v1:0:28k\n",
      "anthropic.claude-3-opus-20240229-v1:0:200k\n",
      "anthropic.claude-3-opus-20240229-v1:0\n",
      "anthropic.claude-3-5-sonnet-20240620-v1:0\n",
      "anthropic.claude-3-5-sonnet-20241022-v2:0\n",
      "anthropic.claude-3-5-haiku-20241022-v1:0\n",
      "cohere.command-text-v14:7:4k\n",
      "cohere.command-text-v14\n",
      "cohere.command-r-v1:0\n",
      "cohere.command-r-plus-v1:0\n",
      "cohere.command-light-text-v14:7:4k\n",
      "cohere.command-light-text-v14\n",
      "cohere.embed-english-v3:0:512\n",
      "cohere.embed-english-v3\n",
      "cohere.embed-multilingual-v3:0:512\n",
      "cohere.embed-multilingual-v3\n",
      "meta.llama3-8b-instruct-v1:0\n",
      "meta.llama3-70b-instruct-v1:0\n",
      "meta.llama3-1-8b-instruct-v1:0\n",
      "meta.llama3-1-70b-instruct-v1:0\n",
      "meta.llama3-2-11b-instruct-v1:0\n",
      "meta.llama3-2-90b-instruct-v1:0\n",
      "meta.llama3-2-1b-instruct-v1:0\n",
      "meta.llama3-2-3b-instruct-v1:0\n",
      "meta.llama3-3-70b-instruct-v1:0\n",
      "mistral.mistral-7b-instruct-v0:2\n",
      "mistral.mixtral-8x7b-instruct-v0:1\n",
      "mistral.mistral-large-2402-v1:0\n",
      "mistral.mistral-small-2402-v1:0\n"
     ]
    }
   ],
   "source": [
    "# first we correct the model names, Here is a correct list of them\n",
    "for model in bedrock.list_foundation_models()['modelSummaries']:\n",
    "    print(model['modelId'])"
   ]
  },
  {
   "cell_type": "code",
   "execution_count": 42,
   "id": "5a39a641-4417-49f0-8d89-9a4480670616",
   "metadata": {
    "tags": []
   },
   "outputs": [],
   "source": [
    "# Note that models that end with k usually are for provisioned throughput. Since we are using on-demand we can use the ones that end in 0\n",
    "models = ['anthropic.claude-3-sonnet-20240229-v1:0']"
   ]
  },
  {
   "cell_type": "code",
   "execution_count": 47,
   "id": "a488e449-982e-42fe-a8de-e24cfebb5a52",
   "metadata": {
    "tags": []
   },
   "outputs": [],
   "source": [
    "# a corrected configuration per the boto3 documentation in https://boto3.amazonaws.com/v1/documentation/api/latest/reference/services/bedrock-agent-runtime/client/retrieve_and_generate.html\n",
    "\n",
    "# Important!: There is no promptTemplate under queryTransformationConfiguration, but under orchestrationConfiguration\n",
    "retrieveAndGenerateCorrectedConfiguration = {\n",
    "    'type': 'KNOWLEDGE_BASE',\n",
    "    'knowledgeBaseConfiguration': {\n",
    "        'knowledgeBaseId': kb_id,\n",
    "        'generationConfiguration': {\n",
    "            'promptTemplate': {\n",
    "                'textPromptTemplate': '''<instruction>Here are the search results from the knowledge base: $search_results$\n",
    "                Study these search results carefully and Answer as accurately as possible!</instruction>'''\n",
    "            }\n",
    "        },\n",
    "        'orchestrationConfiguration': {\n",
    "            'queryTransformationConfiguration': {\n",
    "                'type': 'QUERY_DECOMPOSITION',\n",
    "            },\n",
    "            'promptTemplate': {\n",
    "                'textPromptTemplate': '''<instruction>You are an assistant. Review the conversation history: $conversation_history$ Your task is to:\n",
    "    1. Analyze the conversation context\n",
    "    2. Break down complex queries into simpler components\n",
    "    3. Ensure questions align with the knowledge base content\n",
    "    $output_format_instructions$\n",
    "    Generate a focused search query that will help find relevant information from the knowledge base.</instruction>'''\n",
    "            }\n",
    "        }\n",
    "    }\n",
    "}\n",
    "\n",
    "\n"
   ]
  },
  {
   "cell_type": "code",
   "execution_count": 48,
   "id": "c186f1fb-b642-478d-a7fe-ee94b005c6d6",
   "metadata": {
    "tags": []
   },
   "outputs": [
    {
     "name": "stdout",
     "output_type": "stream",
     "text": [
      "Based on the search results, here are the repeated packages and their associated source files:\n",
      "\n",
      "pexpect=4.9.0\n",
      "- Source 1\n",
      "- Source 5\n",
      "\n",
      "pickleshare=0.7.5  \n",
      "- Source 1\n",
      "- Source 5  \n",
      "\n",
      "pillow=11.0.0\n",
      "- Source 1 \n",
      "- Source 5\n",
      "\n",
      "pip=24.3.1\n",
      "- Source 1\n",
      "- Source 5\n",
      "\n",
      "platformdirs=4.3.6\n",
      "- Source 1\n",
      "- Source 5\n",
      "\n",
      "readline=8.2\n",
      "- Source 1\n",
      "- Source 3\n",
      "\n",
      "rubicon-objc=0.4.9\n",
      "- Source 1 \n",
      "- Source 3\n",
      "\n",
      "selenium=4.27.1\n",
      "- Source 1\n",
      "- Source 3  \n",
      "\n",
      "selenium-manager=4.27.0\n",
      "- Source 1\n",
      "- Source 3\n",
      "\n",
      "setuptools=75.6.0\n",
      "- Source 1\n",
      "- Source 3\n",
      "\n",
      "xorg-libsm=1.2.5\n",
      "- Source 3\n",
      "- Source 4\n",
      "\n",
      "xorg-libx11=1.8.10\n",
      "- Source 3 \n",
      "- Source 4\n",
      "\n",
      "xorg-libxau=1.0.12\n",
      "- Source 3\n",
      "- Source 4\n",
      "\n",
      "xorg-libxdmcp=1.1.5  \n",
      "- Source 3\n",
      "- Source 4\n",
      "\n",
      "xorg-libxext=1.3.6\n",
      "- Source 3\n",
      "- Source 4\n",
      "\n",
      "xorg-libxmu=1.2.1\n",
      "- Source 3\n",
      "- Source 4\n",
      "\n",
      "liblapack=3.9.0\n",
      "- Source 2\n",
      "- Source 5\n",
      "\n",
      "libopenblas=0.3.28\n",
      "- Source 2\n",
      "- Source 5  \n",
      "\n",
      "libpng=1.6.44\n",
      "- Source 2\n",
      "- Source 5\n"
     ]
    }
   ],
   "source": [
    "for m in models:\n",
    "    retrieveAndGenerateCorrectedConfiguration['knowledgeBaseConfiguration']['modelArn'] = m\n",
    "    try:\n",
    "        response = bedrock_agent_runtime_client.retrieve_and_generate(\n",
    "            input={'text': query},\n",
    "            retrieveAndGenerateConfiguration=retrieveAndGenerateCorrectedConfiguration\n",
    "        )\n",
    "        generated_text = response['output']['text']\n",
    "        print(generated_text)\n",
    "    except Exception as e:\n",
    "        print(f\"Exception occurred for model {m}:\")\n",
    "        print(f\"Error type: {type(e).__name__}\")\n",
    "        print(f\"Error message: {str(e)}\")"
   ]
  }
 ],
 "metadata": {
  "kernelspec": {
   "display_name": "conda_pytorch_p310",
   "language": "python",
   "name": "conda_pytorch_p310"
  },
  "language_info": {
   "codemirror_mode": {
    "name": "ipython",
    "version": 3
   },
   "file_extension": ".py",
   "mimetype": "text/x-python",
   "name": "python",
   "nbconvert_exporter": "python",
   "pygments_lexer": "ipython3",
   "version": "3.10.14"
  }
 },
 "nbformat": 4,
 "nbformat_minor": 5
}
