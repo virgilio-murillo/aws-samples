{
 "cells": [
  {
   "cell_type": "markdown",
   "id": "22d551c2",
   "metadata": {},
   "source": [
    "# Time Series Forecasting with AWS Bedrock Runtime\n",
    "\n",
    "This notebook demonstrates how to use the AWS Bedrock Runtime client to invoke a time series forecasting model.\n",
    "\n",
    "**Note:** Ensure you have the necessary AWS credentials configured and the model endpoint deployed in the specified region.\n",
    "\n",
    "The payloads are structured as per the model's requirements:\n",
    "- `target`: The historical time series data.\n",
    "- `past_covariates` (optional): Historical features matching the target's length. Can include numeric and categorical features.\n",
    "- `future_covariates` (optional): Future features matching the prediction length.\n",
    "- `parameters`: Includes `prediction_length` (how many steps to forecast) and `quantile_levels` (quantiles for uncertainty estimates)."
   ]
  },
  {
   "cell_type": "markdown",
   "id": "f4855307",
   "metadata": {},
   "source": [
    "## Step 1: Import Required Libraries"
   ]
  },
  {
   "cell_type": "code",
   "execution_count": 1,
   "id": "6f04d9f9",
   "metadata": {},
   "outputs": [],
   "source": [
    "import boto3\n",
    "import json"
   ]
  },
  {
   "cell_type": "markdown",
   "id": "8eb5c312",
   "metadata": {},
   "source": [
    "## Step 2: Initialize the Bedrock Runtime Client\n",
    "\n",
    "Here, we create a client for the Bedrock Runtime service. \n",
    "Replace `'us-west-2'` with the region where your model endpoint is deployed.\n",
    "This client will be used to invoke the model."
   ]
  },
  {
   "cell_type": "code",
   "execution_count": 2,
   "id": "907f5638",
   "metadata": {},
   "outputs": [],
   "source": [
    "client = boto3.client('bedrock-runtime', region_name='us-west-2')"
   ]
  },
  {
   "cell_type": "markdown",
   "id": "75b14d99",
   "metadata": {},
   "source": [
    "## Step 3: Define the Model ID\n",
    "\n",
    "The `model_id` is the ARN of your deployed SageMaker endpoint.\n",
    "Replace the example ARN with your actual one from the AWS console."
   ]
  },
  {
   "cell_type": "code",
   "execution_count": 3,
   "id": "a879e269",
   "metadata": {},
   "outputs": [],
   "source": [
    "model_id = 'arn:aws:sagemaker:us-west-2:609009159737:endpoint/endpoint-quick-start-ov3et'  # Example ARN; update with yours"
   ]
  },
  {
   "cell_type": "markdown",
   "id": "530336ab",
   "metadata": {},
   "source": [
    "## Step 4: Prepare Example Payloads\n",
    "\n",
    "We define two example payloads:\n",
    "\n",
    "### Basic Payload\n",
    "- Only includes the `target` time series and forecasting parameters.\n",
    "- Forecasts 10 steps ahead with quantiles at 0.1, 0.5 (median), and 0.9.\n",
    "\n",
    "### Payload with Covariates\n",
    "- Includes `past_covariates` (historical features) and `future_covariates` (future features).\n",
    "- Covariates can be numeric (e.g., `feat_1`) or categorical (e.g., `feat_2` as strings).\n",
    "- Lengths: `past_covariates` matches `target`; `future_covariates` matches `prediction_length`.\n",
    "- Forecasts 3 steps ahead in this example."
   ]
  },
  {
   "cell_type": "code",
   "execution_count": 4,
   "id": "44108985",
   "metadata": {},
   "outputs": [],
   "source": [
    "# Basic payload without covariates\n",
    "payload_basic = {\n",
    "    \"inputs\": [\n",
    "        {\n",
    "            \"target\": [0.0, 4.0, 5.0, 1.5, -3.0, -5.0, -3.0, 1.5, 5.0, 4.0, 0.0, -4.0, -5.0, -1.5, 3.0, 5.0, 3.0, -1.5, -5.0, -4.0]\n",
    "        }\n",
    "    ],\n",
    "    \"parameters\": {\n",
    "        \"prediction_length\": 10,\n",
    "        \"quantile_levels\": [0.1, 0.5, 0.9]\n",
    "    }\n",
    "}"
   ]
  },
  {
   "cell_type": "code",
   "execution_count": 5,
   "id": "7e8c4fd5",
   "metadata": {},
   "outputs": [],
   "source": [
    "# Payload with covariates\n",
    "payload_with_covariates = {\n",
    "    \"inputs\": [\n",
    "        {\n",
    "            \"target\": [0.0, 4.0, 5.0, 1.5, -3.0, -5.0, -3.0, 1.5, 5.0, 4.0],\n",
    "            \"past_covariates\": {\n",
    "                \"feat_1\": [0.0, 1.0, 1.0, 1.0, 0.0, 0.0, 2.0, 0.0, 3.0, 1.0],  # Numeric feature\n",
    "                \"feat_2\": [\"A\", \"A\", \"A\", \"B\", \"B\", \"A\", \"B\", \"C\", \"A\", \"A\"]   # Categorical feature (strings)\n",
    "            },\n",
    "            \"future_covariates\": {\n",
    "                \"feat_1\": [0.5, 1.0, 1.0],\n",
    "                \"feat_2\": [\"C\", \"B\", \"C\"]\n",
    "            }\n",
    "        }\n",
    "    ],\n",
    "    \"parameters\": {\n",
    "        \"prediction_length\": 3,\n",
    "        \"quantile_levels\": [0.1, 0.5, 0.9]\n",
    "    }\n",
    "}"
   ]
  },
  {
   "cell_type": "markdown",
   "id": "e8a50c47",
   "metadata": {},
   "source": [
    "## Step 5: Select a Payload\n",
    "\n",
    "Choose which payload to use for the model invocation.\n",
    "Uncomment the other line to switch to the covariates example."
   ]
  },
  {
   "cell_type": "code",
   "execution_count": 6,
   "id": "27d1818f",
   "metadata": {},
   "outputs": [],
   "source": [
    "# Select the basic payload (swap to payload_with_covariates if desired)\n",
    "payload = payload_basic  # Or: payload = payload_with_covariates"
   ]
  },
  {
   "cell_type": "markdown",
   "id": "88e43146",
   "metadata": {},
   "source": [
    "## Step 6: Invoke the Model\n",
    "\n",
    "We send the payload to the model endpoint using the Bedrock Runtime client.\n",
    "- `body`: JSON-encoded payload.\n",
    "- `modelId`: The ARN defined earlier.\n",
    "- `accept` and `contentType`: Set to JSON for input/output."
   ]
  },
  {
   "cell_type": "code",
   "execution_count": 7,
   "id": "26224e05",
   "metadata": {},
   "outputs": [],
   "source": [
    "response = client.invoke_model(\n",
    "    body=json.dumps(payload),\n",
    "    modelId=model_id,\n",
    "    accept='application/json',\n",
    "    contentType='application/json'\n",
    ")"
   ]
  },
  {
   "cell_type": "markdown",
   "id": "bea84704",
   "metadata": {},
   "source": [
    "## Step 7: Parse and Print the Response\n",
    "\n",
    "The response contains the forecasted values.\n",
    "- We read and decode the response body.\n",
    "- Parse it as JSON.\n",
    "- Pretty-print the output, showing mean forecasts and quantiles."
   ]
  },
  {
   "cell_type": "code",
   "execution_count": 8,
   "id": "30d95573",
   "metadata": {},
   "outputs": [
    {
     "name": "stdout",
     "output_type": "stream",
     "text": [
      "{\n",
      "    \"predictions\": [\n",
      "        {\n",
      "            \"mean\": [\n",
      "                -1.5533066987991333,\n",
      "                0.562282919883728,\n",
      "                1.9398761987686157,\n",
      "                1.4267929792404175,\n",
      "                -1.033194899559021,\n",
      "                -3.359640598297119,\n",
      "                -2.670844078063965,\n",
      "                -0.6044541597366333,\n",
      "                1.0121092796325684,\n",
      "                1.6446776390075684\n",
      "            ],\n",
      "            \"0.1\": [\n",
      "                -4.132779598236084,\n",
      "                -2.670844078063965,\n",
      "                -1.6306205987930298,\n",
      "                -2.3053600788116455,\n",
      "                -4.779405117034912,\n",
      "                -6.97230863571167,\n",
      "                -6.578710556030273,\n",
      "                -4.807519435882568,\n",
      "                -3.3877546787261963,\n",
      "                -2.839528799057007\n",
      "            ],\n",
      "            \"0.5\": [\n",
      "                -1.5533066987991333,\n",
      "                0.562282919883728,\n",
      "                1.9398761987686157,\n",
      "                1.4267929792404175,\n",
      "                -1.033194899559021,\n",
      "                -3.359640598297119,\n",
      "                -2.670844078063965,\n",
      "                -0.6044541597366333,\n",
      "                1.0121092796325684,\n",
      "                1.6446776390075684\n",
      "            ],\n",
      "            \"0.9\": [\n",
      "                1.4970782995224,\n",
      "                4.5263776779174805,\n",
      "                6.325683116912842,\n",
      "                6.016427516937256,\n",
      "                3.472097158432007,\n",
      "                1.0542805194854736,\n",
      "                2.0242185592651367,\n",
      "                4.498263359069824,\n",
      "                6.466253757476807,\n",
      "                7.197221755981445\n",
      "            ]\n",
      "        }\n",
      "    ]\n",
      "}\n"
     ]
    }
   ],
   "source": [
    "response_body = json.loads(response['body'].read().decode('utf-8'))\n",
    "print(json.dumps(response_body, indent=4))  # Outputs mean and quantile forecasts"
   ]
  },
  {
   "cell_type": "code",
   "execution_count": null,
   "id": "d502b5eb",
   "metadata": {},
   "outputs": [],
   "source": []
  }
 ],
 "metadata": {
  "kernelspec": {
   "display_name": "conda_tensorflow2_p310",
   "language": "python",
   "name": "conda_tensorflow2_p310"
  },
  "language_info": {
   "codemirror_mode": {
    "name": "ipython",
    "version": 3
   },
   "file_extension": ".py",
   "mimetype": "text/x-python",
   "name": "python",
   "nbconvert_exporter": "python",
   "pygments_lexer": "ipython3",
   "version": "3.10.18"
  }
 },
 "nbformat": 4,
 "nbformat_minor": 5
}
