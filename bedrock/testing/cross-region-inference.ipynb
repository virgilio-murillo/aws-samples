{
 "cells": [
  {
   "cell_type": "markdown",
   "id": "445ab37b-f9be-4aef-9900-3ac5c575520e",
   "metadata": {},
   "source": [
    "### Required IAM Policy\n",
    "To use the inference profile, attach the following IAM policy to your role or user:\n",
    "\n",
    "```\n",
    "{\n",
    "    \"Version\": \"2012-10-17\",\n",
    "    \"Statement\": [\n",
    "        {\n",
    "            \"Effect\": \"Allow\",\n",
    "            \"Action\": [\n",
    "                \"bedrock:InvokeModel\",\n",
    "                \"bedrock:InvokeModelWithResponseStream\"\n",
    "            ],\n",
    "            \"Resource\": [\n",
    "                \"arn:aws:bedrock:us-west-2:794038231401:inference-profile/us.amazon.nova-pro-v1:0\"\n",
    "            ]\n",
    "        },\n",
    "        {\n",
    "            \"Effect\": \"Allow\",\n",
    "            \"Action\": [\n",
    "                \"bedrock:InvokeModel\",\n",
    "                \"bedrock:InvokeModelWithResponseStream\"\n",
    "            ],\n",
    "            \"Resource\": [\n",
    "                \"arn:aws:bedrock:us-east-1::foundation-model/amazon.nova-pro-v1:0\",\n",
    "                \"arn:aws:bedrock:us-east-2::foundation-model/amazon.nova-pro-v1:0\",\n",
    "                \"arn:aws:bedrock:us-west-2::foundation-model/amazon.nova-pro-v1:0\"\n",
    "            ],\n",
    "            \"Condition\": {\n",
    "                \"StringLike\": {\n",
    "                    \"bedrock:InferenceProfileArn\": \"arn:aws:bedrock:us-west-2:794038231401:inference-profile/us.amazon.nova-pro-v1:0\"\n",
    "                }\n",
    "            }\n",
    "        }\n",
    "    ]\n",
    "}\n",
    "```"
   ]
  },
  {
   "cell_type": "code",
   "execution_count": 1,
   "id": "bf6826c8",
   "metadata": {},
   "outputs": [],
   "source": [
    "import boto3\n",
    "import json"
   ]
  },
  {
   "cell_type": "code",
   "execution_count": 2,
   "id": "fb77874a",
   "metadata": {},
   "outputs": [
    {
     "name": "stdout",
     "output_type": "stream",
     "text": [
      "arn:aws:sts::794038231401:assumed-role/SageMaker-ExecutionRole-20250401T103257/SageMaker\n"
     ]
    }
   ],
   "source": [
    "session = boto3.Session()\n",
    "sts_client = session.client('sts')\n",
    "identity = sts_client.get_caller_identity()\n",
    "print(identity['Arn'])"
   ]
  },
  {
   "cell_type": "code",
   "execution_count": 3,
   "id": "dee36c09",
   "metadata": {},
   "outputs": [],
   "source": [
    "bedrock = boto3.client(service_name='bedrock', region_name=\"us-west-2\")\n",
    "bedrock_runtime = boto3.client(service_name='bedrock-runtime', region_name=\"us-west-2\")"
   ]
  },
  {
   "cell_type": "code",
   "execution_count": 4,
   "id": "9c5ced94",
   "metadata": {},
   "outputs": [],
   "source": [
    "inference_profile = \"us.amazon.nova-pro-v1:0\"\n",
    "\n",
    "# If you'd like to try your own prompt, edit this parameter!\n",
    "prompt_data = \"\"\"Command: Write me a blog about making strong business decisions as a leader.\n",
    "\n",
    "Blog:\n",
    "\"\"\"\n",
    "\n",
    "# Define one or more messages using the \"user\" and \"assistant\" roles.\n",
    "message_list = [{\"role\": \"user\", \"content\": [{\"text\": prompt_data}]}]\n",
    "\n",
    "# Configure the inference parameters.\n",
    "inf_params = {\"max_new_tokens\": 250, \"top_p\": 0.9, \"top_k\": 20, \"temperature\": 0.7}\n",
    "\n",
    "body = {\n",
    "    \"schemaVersion\": \"messages-v1\",\n",
    "    \"messages\": message_list,\n",
    "    \"inferenceConfig\": inf_params,\n",
    "}"
   ]
  },
  {
   "cell_type": "code",
   "execution_count": 5,
   "id": "aba32e20",
   "metadata": {},
   "outputs": [
    {
     "name": "stdout",
     "output_type": "stream",
     "text": [
      "{'output': {'message': {'content': [{'text': \"### The Art of Making Strong Business Decisions as a Leader\\n\\nIn the dynamic world of business, the ability to make strong, informed decisions is a hallmark of effective leadership. Whether you're steering a startup or managing a multinational corporation, the decisions you make can significantly impact your organization's trajectory. Here’s a comprehensive guide to help you navigate the complexities of decision-making as a leader.\\n\\n#### 1. **Understanding the Decision-Making Process**\\n\\nStrong business decisions don’t happen in a vacuum. They are the result of a well-thought-out process that involves several key steps:\\n\\n**a. Identifying the Problem:**\\n   - Clearly define the issue at hand. What are the symptoms, and what is the root cause? \\n   - Gather data and input from various stakeholders to get a comprehensive view.\\n\\n**b. Gathering Information:**\\n   - Collect relevant data and insights. This may include market research, financial reports, customer feedback, and industry trends.\\n   - Utilize both qualitative and quantitative data to form a robust information base.\\n\\n**c. Generating Alternatives:**\\n   - Brainstorm possible solutions. Encourage creative thinking and consider all viable options, no matter how unconventional they may seem.\\n   - Involve your team in this\"}], 'role': 'assistant'}}, 'stopReason': 'max_tokens', 'usage': {'inputTokens': 17, 'outputTokens': 250, 'totalTokens': 267, 'cacheReadInputTokenCount': 0, 'cacheWriteInputTokenCount': 0}}\n"
     ]
    }
   ],
   "source": [
    "# Attempt to invoke the model directly (may fail without inference profile)\n",
    "try:\n",
    "    response = bedrock_runtime.invoke_model(\n",
    "        modelId=inference_profile,\n",
    "        body=json.dumps(body),\n",
    "        accept=\"application/json\",\n",
    "        contentType=\"application/json\"\n",
    "    )\n",
    "    response_body = json.loads(response['body'].read().decode('utf-8'))\n",
    "    print(response_body)\n",
    "except Exception as e:\n",
    "    print(f\"Error: {e}\")"
   ]
  },
  {
   "cell_type": "markdown",
   "id": "ed59f64c",
   "metadata": {},
   "source": [
    "### Cross-Region Inference Requirement\n",
    "The Amazon Nova Pro model may not be directly accessible in us-west-2 without cross-region inference. To address this, an inference profile is used to route requests to us-east-1, us-east-2, and us-west-2."
   ]
  },
  {
   "cell_type": "code",
   "execution_count": null,
   "id": "8cfa83d0-4175-4c2a-8c43-ce32480e55dd",
   "metadata": {},
   "outputs": [],
   "source": []
  }
 ],
 "metadata": {
  "kernelspec": {
   "display_name": "conda_python3",
   "language": "python",
   "name": "conda_python3"
  },
  "language_info": {
   "codemirror_mode": {
    "name": "ipython",
    "version": 3
   },
   "file_extension": ".py",
   "mimetype": "text/x-python",
   "name": "python",
   "nbconvert_exporter": "python",
   "pygments_lexer": "ipython3",
   "version": "3.10.18"
  }
 },
 "nbformat": 4,
 "nbformat_minor": 5
}
