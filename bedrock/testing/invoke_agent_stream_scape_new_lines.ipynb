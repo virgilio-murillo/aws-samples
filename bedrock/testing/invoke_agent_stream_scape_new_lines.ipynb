{
 "cells": [
  {
   "cell_type": "markdown",
   "id": "a65a0c8e",
   "metadata": {},
   "source": [
    "# Bedrock Agent Runtime Streaming Demo\n",
    "This script demonstrates how to use AWS Bedrock Agent Runtime with streaming configurations.\n",
    "Tested with an agent with Claude Sonnet 3.5 v2"
   ]
  },
  {
   "cell_type": "markdown",
   "id": "fe530b80",
   "metadata": {},
   "source": [
    "## Import Required Libraries"
   ]
  },
  {
   "cell_type": "code",
   "execution_count": 1,
   "id": "da2463b1",
   "metadata": {},
   "outputs": [],
   "source": [
    "import boto3\n",
    "import uuid"
   ]
  },
  {
   "cell_type": "markdown",
   "id": "81a2ebcb",
   "metadata": {},
   "source": [
    "## Initialize Bedrock Client and Configuration"
   ]
  },
  {
   "cell_type": "code",
   "execution_count": 2,
   "id": "c6ccb2f9",
   "metadata": {
    "lines_to_next_cell": 1
   },
   "outputs": [],
   "source": [
    "# Initialize Bedrock Agent Runtime client\n",
    "client = boto3.client('bedrock-agent-runtime')\n",
    "\n",
    "# Agent configuration\n",
    "agent_id = 'ZLBRYITCQG'\n",
    "agent_alias_id = 'YJZWWL0R4S'\n",
    "session_id = str(uuid.uuid4())\n",
    "\n",
    "# Sample input text for testing\n",
    "input_text = \"\"\" Print this string for me:\n",
    "\\n\\nTo access Maryland Medicaid (T-MSIS) data in the IDR, you'll need two job codes:\\n\\n\\n\\n\\n\\n\\n\\n\\n\\n\\n\\n\\n\\n\\n\\n\\n\\n\\n\\n\\n\\n\\n\\n\\n\\n\\n\\n\\n\\n\\n\\n\\n\\n\\n\\n\\n\\n\\n\\n\\n\\n\\n\\n\\n\\n\\n\\n\\n\\n\\n\\n\\n\\n\\n\\n\\n\\n\\n\\n\\n\\n\\n\\n\\n\\n\\n\\n\\n\\n\\n\\n\\n\\n\\n\\n\\n\\n\\n\\n\\n\\n\\n\\n\\n\\n\\n\\n1. First, you need the base Medicaid view access:\\n   - Job code: `IDRSF_VDM_MDCD_P`\\n\\n2. Then, you need the Maryland-specific access:\\n   - Job code: `IDRSF_DATA_MDCD_MD_P`\\n\\nAlternatively, if you need access to all states' Medicaid data, you can request:\\n- Job code: `IDRSF_DATA_MDCD_ALL_P`\\n\\nWould you like information about the DUA process or additional details about requesting these job codes?\\n\\n\\n\n",
    "\"\"\""
   ]
  },
  {
   "cell_type": "markdown",
   "id": "1c85ad84",
   "metadata": {},
   "source": [
    "## Helper Functions"
   ]
  },
  {
   "cell_type": "code",
   "execution_count": 3,
   "id": "8316ca0e",
   "metadata": {
    "lines_to_next_cell": 1
   },
   "outputs": [],
   "source": [
    "def client_invoke():\n",
    "    \"\"\"\n",
    "    Invokes the Bedrock agent with streaming configuration.\n",
    "    \n",
    "    Returns:\n",
    "        dict: Response from the Bedrock agent\n",
    "    \"\"\"\n",
    "    response = client.invoke_agent(\n",
    "        agentId=agent_id,\n",
    "        agentAliasId=agent_alias_id,\n",
    "        sessionId=session_id,\n",
    "        inputText=input_text,\n",
    "        streamingConfigurations={\n",
    "            'streamFinalResponse': True\n",
    "        }\n",
    "    )\n",
    "    return response\n",
    "\n",
    "def fix_newline_escapes(input_string):\n",
    "    \"\"\"\n",
    "    Properly escapes newline characters in a string.\n",
    "    \n",
    "    Args:\n",
    "        input_string (str): Input string to process\n",
    "        \n",
    "    Returns:\n",
    "        str: String with properly escaped newlines\n",
    "    \"\"\"\n",
    "    ans = \"\"\n",
    "    for ch in input_string:\n",
    "        if ch == '\\n':\n",
    "            ans += \"\\\\n\"\n",
    "        else:\n",
    "            ans += ch\n",
    "    return ans"
   ]
  },
  {
   "cell_type": "markdown",
   "id": "e8c4f3f1",
   "metadata": {},
   "source": [
    "## Demo 1: Raw Output (Without Escaping Characters)"
   ]
  },
  {
   "cell_type": "code",
   "execution_count": 4,
   "id": "37ca8533",
   "metadata": {},
   "outputs": [
    {
     "name": "stdout",
     "output_type": "stream",
     "text": [
      "['To access Marylan']['d Medicaid (T']['-MSIS'][') data in the'][' IDR, you'][\"'ll need two job\"][' codes:\\n\\n\\n\\n\\n\\n\\n\\n\\n\\n\\n\\n\\n\\n\\n\\n\\n\\n\\n\\n\\n\\n']['\\n\\n\\n\\n\\n\\n\\n\\n\\n\\n\\n\\n\\n\\n\\n\\n\\n\\n\\n\\n\\n\\n\\n\\n\\n\\n\\n\\n\\n\\n\\n\\n\\n\\n\\n\\n\\n\\n\\n\\n\\n\\n\\n\\n\\n\\n\\n\\n\\n\\n\\n\\n\\n\\n\\n\\n\\n\\n\\n\\n\\n\\n\\n\\n\\n\\n1. First'][', you need the'][' base Medicai']['d view access:']['\\n   - Job code'][': `ID']['RSF_V']['DM_']['MDCD_P']['`\\n\\n2.'][' Then, you nee']['d the Maryland-specific'][' access:\\n   ']['- Job code:'][' `IDRS']['F_DATA_']['MDCD_']['MD_P`']['\\n\\nAlternatively,'][' if you need access'][\" to all states'\"][' Medicaid data'][', you can request'][':\\n- Job'][' code: `']['IDRSF_']['DATA_MD']['CD_ALL_']['P`\\n\\nWoul']['d you like information about'][' the DUA process'][' or additional details about'][' requesting these job codes']['?\\n']"
     ]
    }
   ],
   "source": [
    "response = client_invoke()\n",
    "ans = \"\"\n",
    "for event in response['completion']:\n",
    "    if 'chunk' in event:\n",
    "        chunk = event['chunk']\n",
    "        str_chunk = chunk['bytes'].decode('utf-8')\n",
    "        print(f\"[{str_chunk!r}]\", end='', flush=True)\n",
    "        ans += str_chunk"
   ]
  },
  {
   "cell_type": "markdown",
   "id": "60192162",
   "metadata": {},
   "source": [
    "## Demo 2: Output with Escaped Newlines"
   ]
  },
  {
   "cell_type": "code",
   "execution_count": 5,
   "id": "be3bb6a1",
   "metadata": {},
   "outputs": [
    {
     "name": "stdout",
     "output_type": "stream",
     "text": [
      "['To'][' access Maryland Medic']['aid (T-']['MSIS)'][' data in the ID'][\"R, you'll\"][' need two job codes'][':\\\\n\\\\n\\\\n\\\\n\\\\n\\\\n\\\\n\\\\n\\\\n\\\\n\\\\n\\\\n\\\\n\\\\n\\\\n\\\\n\\\\n\\\\n\\\\n\\\\n\\\\n\\\\n\\\\n\\\\n\\\\n\\\\n\\\\n\\\\n\\\\n\\\\n\\\\n\\\\n\\\\n\\\\n\\\\n\\\\n\\\\n\\\\n\\\\n\\\\n\\\\n\\\\n\\\\n\\\\n\\\\n\\\\n\\\\n\\\\n\\\\n\\\\n\\\\n\\\\n\\\\n\\\\n\\\\n\\\\n\\\\n\\\\n\\\\n\\\\n\\\\n\\\\n\\\\n\\\\n\\\\n\\\\n\\\\n\\\\n\\\\n\\\\n\\\\n\\\\n\\\\n\\\\n\\\\n\\\\n\\\\n\\\\n\\\\n\\\\n\\\\n\\\\n\\\\n\\\\n\\\\n\\\\n\\\\n\\\\n1']['. First, you'][' need the base'][' Medicaid view access'][':\\\\n   -'][' Job code: `']['IDRSF']['_VDM']['_MDCD']['_P`']['\\\\n\\\\n2. Then,'][' you need the Marylan']['d-specific access:']['\\\\n   - Job'][' code: `']['IDRSF_']['DATA_MD']['CD_MD_']['P`']['\\\\n\\\\nAlternatively, if you'][' need access to all'][\" states' Medic\"]['aid data, you'][' can request:']['\\\\n- Job code:'][' `IDRS']['F_DATA_']['MDCD_']['ALL_P`']['\\\\n\\\\nWould you like'][' information about the D']['UA process or additional'][' details about requesting these'][' job codes?']"
     ]
    }
   ],
   "source": [
    "response = client_invoke()\n",
    "ans = \"\"\n",
    "for event in response['completion']:\n",
    "    if 'chunk' in event:\n",
    "        chunk = event['chunk']\n",
    "        str_chunk = chunk['bytes'].decode('utf-8')\n",
    "        str_chunk = fix_newline_escapes(str_chunk)\n",
    "        print(f\"[{str_chunk!r}]\", end='', flush=True)\n",
    "        ans += str_chunk"
   ]
  },
  {
   "cell_type": "markdown",
   "id": "bf3a20b6",
   "metadata": {},
   "source": [
    "## Final Implementation"
   ]
  },
  {
   "cell_type": "code",
   "execution_count": 9,
   "id": "4af9501d",
   "metadata": {},
   "outputs": [
    {
     "name": "stdout",
     "output_type": "stream",
     "text": [
      "To access Maryland Medicaid (T-MSIS) data in the IDR, you'll need two job codes:\\n\\n\\n\\n\\n\\n\\n\\n\\n\\n\\n\\n\\n\\n\\n\\n\\n\\n\\n\\n\\n\\n\\n\\n\\n\\n\\n\\n\\n\\n\\n\\n\\n\\n\\n\\n\\n\\n\\n\\n\\n\\n\\n\\n\\n\\n\\n\\n\\n\\n\\n\\n\\n\\n\\n\\n\\n\\n\\n\\n\\n\\n\\n\\n\\n\\n\\n\\n\\n\\n\\n\\n\\n\\n\\n\\n\\n\\n\\n\\n\\n\\n\\n\\n\\n\\n\\n\\n1. First, you need the base Medicaid view access:\\n   - Job code: `IDRSF_VDM_MDCD_P`\\n\\n2. Then, you need the Maryland-specific access:\\n   - Job code: `IDRSF_DATA_MDCD_MD_P`\\n\\nAlternatively, if you need access to all states' Medicaid data, you can request:\\n- Job code: `IDRSF_DATA_MDCD_ALL_P`\\n\\nWould you like information about the DUA process or additional details about requesting these job codes?"
     ]
    }
   ],
   "source": [
    "# Note: This is the recommended implementation for production use\n",
    "response = client_invoke()\n",
    "ans = \"\"\n",
    "for event in response['completion']:\n",
    "    if 'chunk' in event:\n",
    "        chunk = event['chunk']\n",
    "        str_chunk = chunk['bytes'].decode('utf-8')\n",
    "        str_chunk = fix_newline_escapes(str_chunk)\n",
    "        print(str_chunk, end='', flush=True)\n",
    "        ans += str_chunk\n"
   ]
  },
  {
   "cell_type": "code",
   "execution_count": 11,
   "id": "0491856a-f22f-443f-8e7d-57bb73ba0d6f",
   "metadata": {},
   "outputs": [
    {
     "name": "stdout",
     "output_type": "stream",
     "text": [
      "\"To access Maryland Medicaid (T-MSIS) data in the IDR, you'll need two job codes:\\\\n\\\\n\\\\n\\\\n\\\\n\\\\n\\\\n\\\\n\\\\n\\\\n\\\\n\\\\n\\\\n\\\\n\\\\n\\\\n\\\\n\\\\n\\\\n\\\\n\\\\n\\\\n\\\\n\\\\n\\\\n\\\\n\\\\n\\\\n\\\\n\\\\n\\\\n\\\\n\\\\n\\\\n\\\\n\\\\n\\\\n\\\\n\\\\n\\\\n\\\\n\\\\n\\\\n\\\\n\\\\n\\\\n\\\\n\\\\n\\\\n\\\\n\\\\n\\\\n\\\\n\\\\n\\\\n\\\\n\\\\n\\\\n\\\\n\\\\n\\\\n\\\\n\\\\n\\\\n\\\\n\\\\n\\\\n\\\\n\\\\n\\\\n\\\\n\\\\n\\\\n\\\\n\\\\n\\\\n\\\\n\\\\n\\\\n\\\\n\\\\n\\\\n\\\\n\\\\n\\\\n\\\\n\\\\n\\\\n1. First, you need the base Medicaid view access:\\\\n   - Job code: `IDRSF_VDM_MDCD_P`\\\\n\\\\n2. Then, you need the Maryland-specific access:\\\\n   - Job code: `IDRSF_DATA_MDCD_MD_P`\\\\n\\\\nAlternatively, if you need access to all states' Medicaid data, you can request:\\\\n- Job code: `IDRSF_DATA_MDCD_ALL_P`\\\\n\\\\nWould you like information about the DUA process or additional details about requesting these job codes?\"\n"
     ]
    }
   ],
   "source": [
    "#### In reality, the string looks like this, which is the correct format:\n",
    "print(f\"{ans!r}\")"
   ]
  },
  {
   "cell_type": "markdown",
   "id": "20779be9",
   "metadata": {},
   "source": [
    "## Key Findings\n",
    "- Successfully implemented streaming configuration with Bedrock agent\n",
    "- Found that agent's streaming is not splitting newlines into chunks\n",
    "- Implemented proper newline character escaping"
   ]
  }
 ],
 "metadata": {
  "jupytext": {
   "cell_metadata_filter": "-all",
   "main_language": "python",
   "notebook_metadata_filter": "-all"
  },
  "kernelspec": {
   "display_name": "conda_python3",
   "language": "python",
   "name": "conda_python3"
  },
  "language_info": {
   "codemirror_mode": {
    "name": "ipython",
    "version": 3
   },
   "file_extension": ".py",
   "mimetype": "text/x-python",
   "name": "python",
   "nbconvert_exporter": "python",
   "pygments_lexer": "ipython3",
   "version": "3.10.18"
  }
 },
 "nbformat": 4,
 "nbformat_minor": 5
}
