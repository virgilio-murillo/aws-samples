{
 "cells": [
  {
   "cell_type": "code",
   "execution_count": 1,
   "id": "d12c0ad8-b635-47f4-b559-f110fe4ab968",
   "metadata": {},
   "outputs": [],
   "source": [
    "# create glosssary programmatically"
   ]
  },
  {
   "cell_type": "code",
   "execution_count": 2,
   "id": "0d3866a0-4f25-4172-8150-5ce612b96ae9",
   "metadata": {},
   "outputs": [],
   "source": [
    "import boto3\n",
    "import json"
   ]
  },
  {
   "cell_type": "code",
   "execution_count": 3,
   "id": "b88467c5-475a-4357-aca5-bd20ae45be66",
   "metadata": {},
   "outputs": [],
   "source": [
    "# Replace with your values\n",
    "DOMAIN_ID = 'dzd_4ndhhfj5xxggo7'\n",
    "PROJECT_ID = '554gky1cgulq1z'\n",
    "REGION = 'us-east-1'"
   ]
  },
  {
   "cell_type": "code",
   "execution_count": 4,
   "id": "a0a250a0-12c8-47d7-9d7a-8c1844102db7",
   "metadata": {},
   "outputs": [],
   "source": [
    "datazone_client = boto3.client('datazone', region_name = REGION)"
   ]
  },
  {
   "cell_type": "code",
   "execution_count": 5,
   "id": "7ffca1c7-f304-4dc6-aed3-9337d462b5fd",
   "metadata": {},
   "outputs": [
    {
     "name": "stdout",
     "output_type": "stream",
     "text": [
      "{\n",
      "    \"UserId\": \"AROA3RYC54FUQFBN4G455:SageMaker\",\n",
      "    \"Account\": \"794038231401\",\n",
      "    \"Arn\": \"arn:aws:sts::794038231401:assumed-role/SageMaker-ExecutionRole-20250730T181919/SageMaker\"\n",
      "}\n"
     ]
    }
   ],
   "source": [
    "!aws sts get-caller-identity"
   ]
  },
  {
   "cell_type": "code",
   "execution_count": 9,
   "id": "4114f858-f2c9-479e-8cce-cd5b78b532a4",
   "metadata": {},
   "outputs": [
    {
     "name": "stdout",
     "output_type": "stream",
     "text": [
      "Success! Response: {\n",
      "  \"ResponseMetadata\": {\n",
      "    \"RequestId\": \"82fe6160-9500-44d6-a9e0-9cf595d8a070\",\n",
      "    \"HTTPStatusCode\": 201,\n",
      "    \"HTTPHeaders\": {\n",
      "      \"content-type\": \"application/json\",\n",
      "      \"content-length\": \"150\",\n",
      "      \"connection\": \"keep-alive\",\n",
      "      \"date\": \"Fri, 01 Aug 2025 16:26:23 GMT\",\n",
      "      \"x-amzn-trace-id\": \"Root=1-688ceaaf-3bd2f33c47a7928a723a4db8\",\n",
      "      \"x-amzn-requestid\": \"82fe6160-9500-44d6-a9e0-9cf595d8a070\",\n",
      "      \"x-amz-apigw-id\": \"OombhF9cIAMETEw=\",\n",
      "      \"x-cache\": \"Miss from cloudfront\",\n",
      "      \"via\": \"1.1 5d22d4cd27d82c133b77117809cd93b4.cloudfront.net (CloudFront)\",\n",
      "      \"x-amz-cf-pop\": \"IAD55-P8\",\n",
      "      \"x-amz-cf-id\": \"_UuOJSpwsuCUb57V8txZL2L4eEmvMrdfMZc9j51YK8DB_Jd-8M5Hwg==\"\n",
      "    },\n",
      "    \"RetryAttempts\": 0\n",
      "  },\n",
      "  \"domainId\": \"dzd_4ndhhfj5xxggo7\",\n",
      "  \"id\": \"dcamf5v6a6kkkn\",\n",
      "  \"name\": \"test-glossary-admin-contributor\",\n",
      "  \"owningProjectId\": \"554gky1cgulq1z\",\n",
      "  \"status\": \"ENABLED\"\n",
      "}\n"
     ]
    }
   ],
   "source": [
    "# Create DataZone client with assumed creds\n",
    "datazone_client = boto3.client(\n",
    "    'datazone',\n",
    "    region_name=REGION\n",
    ")\n",
    "\n",
    "# Test CreateGlossary\n",
    "try:\n",
    "    response = datazone_client.create_glossary(\n",
    "        domainIdentifier=DOMAIN_ID,\n",
    "        name='test-glossary-admin-contributor',\n",
    "        owningProjectIdentifier=PROJECT_ID,\n",
    "        status='ENABLED'\n",
    "    )\n",
    "    print(\"Success! Response:\", json.dumps(response, indent=2))\n",
    "except Exception as e:\n",
    "    print(\"Error:\", str(e))"
   ]
  },
  {
   "cell_type": "code",
   "execution_count": 7,
   "id": "cc6aa34a-796a-4c1a-8598-555b2b6eff3f",
   "metadata": {},
   "outputs": [
    {
     "name": "stdout",
     "output_type": "stream",
     "text": [
      "{\n",
      "    \"UserId\": \"AROA3RYC54FUQFBN4G455:SageMaker\",\n",
      "    \"Account\": \"794038231401\",\n",
      "    \"Arn\": \"arn:aws:sts::794038231401:assumed-role/SageMaker-ExecutionRole-20250730T181919/SageMaker\"\n",
      "}\n"
     ]
    }
   ],
   "source": [
    "!aws sts get-caller-identity"
   ]
  },
  {
   "cell_type": "code",
   "execution_count": 8,
   "id": "3fde6536-bffc-4b16-a01a-9735aba82fc3",
   "metadata": {},
   "outputs": [
    {
     "name": "stdout",
     "output_type": "stream",
     "text": [
      "\n",
      "An error occurred (AccessDenied) when calling the AssumeRole operation: User: arn:aws:sts::794038231401:assumed-role/SageMaker-ExecutionRole-20250730T181919/SageMaker is not authorized to perform: sts:AssumeRole on resource: arn:aws:iam::687973248987:role/role-co-delfos-cleaner-datalab-pdn\n"
     ]
    }
   ],
   "source": [
    "!aws sts assume-role --role-arn arn:aws:iam::687973248987:role/role-co-delfos-cleaner-datalab-pdn --role-session-name datazone"
   ]
  }
 ],
 "metadata": {
  "kernelspec": {
   "display_name": "conda_pytorch_p310",
   "language": "python",
   "name": "conda_pytorch_p310"
  },
  "language_info": {
   "codemirror_mode": {
    "name": "ipython",
    "version": 3
   },
   "file_extension": ".py",
   "mimetype": "text/x-python",
   "name": "python",
   "nbconvert_exporter": "python",
   "pygments_lexer": "ipython3",
   "version": "3.10.14"
  }
 },
 "nbformat": 4,
 "nbformat_minor": 5
}
